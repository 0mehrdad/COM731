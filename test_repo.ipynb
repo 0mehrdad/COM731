{
 "cells": [
  {
   "cell_type": "markdown",
   "id": "c645e9de-0fb9-45b5-99b2-6a041b46ed2c",
   "metadata": {},
   "source": [
    "## test repo\n",
    "- test1"
   ]
  },
  {
   "cell_type": "code",
   "execution_count": 2,
   "id": "f93ec471-703d-4da0-ad65-1f3c5d7ebc7b",
   "metadata": {},
   "outputs": [
    {
     "name": "stdout",
     "output_type": "stream",
     "text": [
      "Hello, python\n"
     ]
    }
   ],
   "source": [
    "print (\"Hello, python\")"
   ]
  },
  {
   "cell_type": "code",
   "execution_count": null,
   "id": "82d84ea4-c5af-48a4-95e7-6605e0a9f039",
   "metadata": {},
   "outputs": [],
   "source": []
  }
 ],
 "metadata": {
  "kernelspec": {
   "display_name": "COM731",
   "language": "python",
   "name": "com731"
  },
  "language_info": {
   "codemirror_mode": {
    "name": "ipython",
    "version": 3
   },
   "file_extension": ".py",
   "mimetype": "text/x-python",
   "name": "python",
   "nbconvert_exporter": "python",
   "pygments_lexer": "ipython3",
   "version": "3.10.14"
  }
 },
 "nbformat": 4,
 "nbformat_minor": 5
}
