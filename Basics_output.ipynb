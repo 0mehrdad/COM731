{
 "cells": [
  {
   "cell_type": "markdown",
   "id": "8568ca05-6a7e-4a72-a4d7-c2406bc7dc04",
   "metadata": {},
   "source": [
    "# simple_message"
   ]
  },
  {
   "cell_type": "code",
   "execution_count": 1,
   "id": "ae35f2d7-77b4-4ecd-9ffb-64a3c75a63dc",
   "metadata": {},
   "outputs": [
    {
     "name": "stdout",
     "output_type": "stream",
     "text": [
      "System FAilure Imminent!\n"
     ]
    }
   ],
   "source": [
    "# Display message to the standard output\n",
    "print (\"System FAilure Imminent!\")"
   ]
  },
  {
   "cell_type": "markdown",
   "id": "66f82b51-b932-45ca-9912-4dc04b39436e",
   "metadata": {},
   "source": [
    "# multiline_message"
   ]
  },
  {
   "cell_type": "code",
   "execution_count": 2,
   "id": "3c8670c7-f83e-4145-9567-b3e86fd4f6f0",
   "metadata": {},
   "outputs": [
    {
     "name": "stdout",
     "output_type": "stream",
     "text": [
      "System FAilure Imminent!\n",
      "System reboot has been initiated...\n"
     ]
    }
   ],
   "source": [
    "# Display message to the standard output\n",
    "print (\"System FAilure Imminent!\")\n",
    "print (\"System reboot has been initiated...\")"
   ]
  },
  {
   "cell_type": "markdown",
   "id": "702096f0-de6c-43c4-aed6-f864a64a0e5e",
   "metadata": {},
   "source": [
    "## multiline_message_2"
   ]
  },
  {
   "cell_type": "code",
   "execution_count": 5,
   "id": "aa41a9e5-e925-4758-9578-257e13dc2eb7",
   "metadata": {},
   "outputs": [
    {
     "name": "stdout",
     "output_type": "stream",
     "text": [
      "System FAilure Imminent!\n",
      "System reboot has been initiated...\n",
      "\n",
      "...rebooting sensory system\n",
      "...rebooting output motors\n",
      "...rebooting hover engine\n",
      "\n",
      "System online.\n"
     ]
    }
   ],
   "source": [
    "# Display message to the standard output\n",
    "print (\"System FAilure Imminent!\")\n",
    "print (\"System reboot has been initiated...\")\n",
    "print (\"\\n...rebooting sensory system\")\n",
    "print (\"...rebooting output motors\")\n",
    "print (\"...rebooting hover engine\")\n",
    "print ()\n",
    "print (\"System online.\")"
   ]
  },
  {
   "cell_type": "markdown",
   "id": "345b1179-badd-4263-ade0-d3dd03199c23",
   "metadata": {},
   "source": [
    "# escape_characters"
   ]
  },
  {
   "cell_type": "code",
   "execution_count": 6,
   "id": "c637aa56-83e1-4ae5-b59d-03530380f590",
   "metadata": {},
   "outputs": [
    {
     "name": "stdout",
     "output_type": "stream",
     "text": [
      "\n",
      " Displays a new line\n",
      "\t Displays a tab space\n",
      "\\ Displays a back slash\n",
      "\" Displays a double quote\n",
      "' Displays a single quote\n"
     ]
    }
   ],
   "source": [
    "# Display escape characters \n",
    "print (\"\\n Displays a new line\")\n",
    "print (\"\\t Displays a tab space\")\n",
    "print (\"\\\\ Displays a back slash\")\n",
    "print (\"\\\" Displays a double quote\")\n",
    "print (\"\\' Displays a single quote\")"
   ]
  },
  {
   "cell_type": "markdown",
   "id": "ff70d11c-a226-4760-bf6c-733f4e999cf1",
   "metadata": {},
   "source": [
    "### escape_characters_practice"
   ]
  },
  {
   "cell_type": "code",
   "execution_count": 9,
   "id": "ffc9a293-b33e-40fd-b04f-ccb9c233c602",
   "metadata": {},
   "outputs": [
    {
     "name": "stdout",
     "output_type": "stream",
     "text": [
      "\n",
      "\t\"I am Beep!\"\n",
      "\n"
     ]
    }
   ],
   "source": [
    "print (\"\\n\\t\\\"I am Beep!\\\"\\n\")"
   ]
  }
 ],
 "metadata": {
  "kernelspec": {
   "display_name": "COM731",
   "language": "python",
   "name": "com731"
  },
  "language_info": {
   "codemirror_mode": {
    "name": "ipython",
    "version": 3
   },
   "file_extension": ".py",
   "mimetype": "text/x-python",
   "name": "python",
   "nbconvert_exporter": "python",
   "pygments_lexer": "ipython3",
   "version": "3.10.14"
  }
 },
 "nbformat": 4,
 "nbformat_minor": 5
}
