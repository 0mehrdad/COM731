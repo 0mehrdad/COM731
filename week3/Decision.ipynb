{
 "cells": [
  {
   "cell_type": "markdown",
   "id": "b7ff0173-25bb-44f5-bdf1-082210fc3adf",
   "metadata": {},
   "source": [
    "## if_else statement"
   ]
  },
  {
   "cell_type": "code",
   "execution_count": 2,
   "id": "effbaabc-43cd-4487-a4af-e9f2c4a1a41d",
   "metadata": {},
   "outputs": [
    {
     "name": "stdin",
     "output_type": "stream",
     "text": [
      "Please enter the activity to be performed. calculate\n"
     ]
    },
    {
     "name": "stdout",
     "output_type": "stream",
     "text": [
      "Performing calculations...\n",
      "Activity completed!\n"
     ]
    }
   ],
   "source": [
    "u=input('Please enter the activity to be performed.')\n",
    "if u == 'calculate':\n",
    "    print('Performing calculations...')\n",
    "else:\n",
    "    print('Performing activity...')\n",
    "print('Activity completed!')"
   ]
  },
  {
   "cell_type": "markdown",
   "id": "3fd3fa68-c8f2-438e-8c6e-e4684af62615",
   "metadata": {},
   "source": [
    "## if_elif_else statement"
   ]
  },
  {
   "cell_type": "code",
   "execution_count": 3,
   "id": "9dab239c-3143-4663-9663-7778d4246cab",
   "metadata": {},
   "outputs": [
    {
     "name": "stdout",
     "output_type": "stream",
     "text": [
      "Towards which direction should I paint (up, down, left or right)?\n"
     ]
    },
    {
     "name": "stdin",
     "output_type": "stream",
     "text": [
      " up\n"
     ]
    },
    {
     "name": "stdout",
     "output_type": "stream",
     "text": [
      "I am painting in the upward direction!\n"
     ]
    }
   ],
   "source": [
    "print('Towards which direction should I paint (up, down, left or right)?')\n",
    "x=input()\n",
    "print(f\"I am painting in the {x}ward direction!\")"
   ]
  },
  {
   "cell_type": "markdown",
   "id": "cf0f75a8-7b68-4406-ab82-1dd965bbfec7",
   "metadata": {},
   "source": [
    "## modulo_operator"
   ]
  },
  {
   "cell_type": "code",
   "execution_count": 5,
   "id": "ca40b1bd-39be-42c9-b32b-8e8207c92ec4",
   "metadata": {},
   "outputs": [
    {
     "name": "stdin",
     "output_type": "stream",
     "text": [
      "Please enter a whole number. 6\n"
     ]
    },
    {
     "name": "stdout",
     "output_type": "stream",
     "text": [
      "The number 6 is an even number.\n"
     ]
    }
   ],
   "source": [
    "y=int(input('Please enter a whole number.'))\n",
    "if y%2!=0:\n",
    "    print (f'The number {y} is an odd number.')\n",
    "else:\n",
    "    print (f'The number {y} is an even number.')"
   ]
  }
 ],
 "metadata": {
  "kernelspec": {
   "display_name": "COM731",
   "language": "python",
   "name": "com731"
  },
  "language_info": {
   "codemirror_mode": {
    "name": "ipython",
    "version": 3
   },
   "file_extension": ".py",
   "mimetype": "text/x-python",
   "name": "python",
   "nbconvert_exporter": "python",
   "pygments_lexer": "ipython3",
   "version": "3.10.14"
  }
 },
 "nbformat": 4,
 "nbformat_minor": 5
}
