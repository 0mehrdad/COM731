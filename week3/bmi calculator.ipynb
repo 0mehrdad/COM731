{
 "cells": [
  {
   "cell_type": "markdown",
   "id": "395fd9c2-30fc-47c3-81be-71c7ba8bf852",
   "metadata": {},
   "source": [
    "## BMI calculator "
   ]
  },
  {
   "cell_type": "code",
   "execution_count": 2,
   "id": "5e20fb7c-5c7c-4dc4-97db-c74d95423c76",
   "metadata": {},
   "outputs": [
    {
     "name": "stdin",
     "output_type": "stream",
     "text": [
      "please enter your weight(kg):  81\n",
      "please enter your height(m):  1.9\n"
     ]
    },
    {
     "name": "stdout",
     "output_type": "stream",
     "text": [
      "Healthy weight\n"
     ]
    }
   ],
   "source": [
    "# getting data from user\n",
    "w = float (input('please enter your weight(kg): '))\n",
    "h = float (input('please enter your height(m): '))\n",
    "bmi = w / (h*h)\n",
    "if bmi<18.5:\n",
    "    print ('Underweight')\n",
    "elif bmi<25:\n",
    "    print ('Healthy weight')\n",
    "elif bmi<30 :\n",
    "    print ('Overweight')\n",
    "elif bmi>=30:\n",
    "    print ('Obesity')\n",
    "else:\n",
    "    print ('please enter valid weight and height!')"
   ]
  },
  {
   "cell_type": "code",
   "execution_count": null,
   "id": "cbdab4b6-8da4-4f75-8719-b808df780685",
   "metadata": {},
   "outputs": [],
   "source": []
  }
 ],
 "metadata": {
  "kernelspec": {
   "display_name": "COM731",
   "language": "python",
   "name": "com731"
  },
  "language_info": {
   "codemirror_mode": {
    "name": "ipython",
    "version": 3
   },
   "file_extension": ".py",
   "mimetype": "text/x-python",
   "name": "python",
   "nbconvert_exporter": "python",
   "pygments_lexer": "ipython3",
   "version": "3.10.14"
  }
 },
 "nbformat": 4,
 "nbformat_minor": 5
}
