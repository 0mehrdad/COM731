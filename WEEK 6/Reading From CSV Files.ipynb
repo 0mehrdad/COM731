{
 "cells": [
  {
   "cell_type": "markdown",
   "id": "ea0b75ec-e874-403e-bfc2-9c81b07d0f02",
   "metadata": {},
   "source": [
    "# Activity: values"
   ]
  },
  {
   "cell_type": "code",
   "execution_count": 2,
   "id": "097ebb9f-778d-44ee-bdf2-2975a9b28126",
   "metadata": {},
   "outputs": [],
   "source": [
    "import csv"
   ]
  },
  {
   "cell_type": "code",
   "execution_count": 5,
   "id": "590ca8d8-90b8-45a6-ae2e-c162b783e113",
   "metadata": {},
   "outputs": [
    {
     "name": "stdout",
     "output_type": "stream",
     "text": [
      "['Song', 'Artist', 'Category', 'Year']\n",
      "['Blinding Lights', 'The Weeknd', 'r&b', '2020']\n",
      "['Watermelon Sugar', 'Harry Styles', 'pop', '2019']\n",
      "['Mood', '24kGoldn', 'rap', '2021']\n",
      "['Someone You Loved', 'Lewis Capaldi', 'pop', '2019']\n",
      "['Perfect', 'Ed Sheeran', 'pop', '2017']\n",
      "['Believer', 'Imagine Dragons', 'rock', '2017']\n",
      "['Lovely', 'Billie Eilish', 'electropop', '2018']\n",
      "['Circles', 'Post Malone', 'rap', '2019']\n",
      "['Shape of You', 'Ed Sheeran', 'pop', '2017']\n",
      "['Memories', 'Maroon 5', 'pop', '2021']\n",
      "['Closer', 'The Chainsmokers', 'pop', '2016']\n",
      "['Bad Guy', 'Billie Eilish', 'electropop', '2019']\n",
      "[\"Say You Won't Let Go\", 'James Arthur', 'pop', '2016']\n"
     ]
    }
   ],
   "source": [
    "file_name = './songs.csv'\n",
    "with open (file_name , encoding = 'UTF-8') as file:\n",
    "    csv_reader = csv.reader (file)\n",
    "    for i in csv_reader :\n",
    "        print (i)"
   ]
  },
  {
   "cell_type": "markdown",
   "id": "14b03f0c-0f7b-42fa-9e18-94b3f02663eb",
   "metadata": {},
   "source": [
    "# Activity: song_titles"
   ]
  },
  {
   "cell_type": "code",
   "execution_count": 10,
   "id": "16273c82-45da-4f85-ac6f-1b021dd7beaf",
   "metadata": {},
   "outputs": [
    {
     "name": "stdout",
     "output_type": "stream",
     "text": [
      "Song \n",
      "\n",
      "Blinding Lights\n",
      "Watermelon Sugar\n",
      "Mood\n",
      "Someone You Loved\n",
      "Perfect\n",
      "Believer\n",
      "Lovely\n",
      "Circles\n",
      "Shape of You\n",
      "Memories\n",
      "Closer\n",
      "Bad Guy\n",
      "Say You Won't Let Go\n"
     ]
    }
   ],
   "source": [
    "file_name = './songs.csv'\n",
    "with open (file_name , encoding = 'UTF-8') as file:\n",
    "    csv_reader = csv.reader (file)\n",
    "    heading = next (csv_reader)\n",
    "    print (heading[0],'\\n')\n",
    "    for i in csv_reader :\n",
    "        print (i[0])"
   ]
  },
  {
   "cell_type": "code",
   "execution_count": null,
   "id": "05cf5f60-c829-404a-b99a-10611bd08b9e",
   "metadata": {},
   "outputs": [],
   "source": []
  }
 ],
 "metadata": {
  "kernelspec": {
   "display_name": "COM731",
   "language": "python",
   "name": "com731"
  },
  "language_info": {
   "codemirror_mode": {
    "name": "ipython",
    "version": 3
   },
   "file_extension": ".py",
   "mimetype": "text/x-python",
   "name": "python",
   "nbconvert_exporter": "python",
   "pygments_lexer": "ipython3",
   "version": "3.10.14"
  }
 },
 "nbformat": 4,
 "nbformat_minor": 5
}
