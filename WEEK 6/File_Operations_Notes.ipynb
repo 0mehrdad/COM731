{
 "cells": [
  {
   "cell_type": "markdown",
   "id": "ae56af3f",
   "metadata": {},
   "source": [
    "# File Operations"
   ]
  },
  {
   "cell_type": "markdown",
   "id": "ff73d4f3",
   "metadata": {},
   "source": [
    "## Reference Books"
   ]
  },
  {
   "cell_type": "markdown",
   "id": "95757d3b",
   "metadata": {},
   "source": [
    "- <font size=\"3\">Fundametals of First Programs 2nd edition: Chapter 4</font>\n",
    "- <font size=\"3\">Programming with Python: Module 11</font>\n",
    "- <font size=\"3\">Starting out with Python: Chapter 6</font>\n",
    "- <font size=\"3\">Intro to Python for Computer Science and Data Science: Chapter 9</font>"
   ]
  },
  {
   "cell_type": "markdown",
   "id": "3e4aeae7",
   "metadata": {},
   "source": [
    "<font size=\"5\">**Learning Objectives**</font><br>\n",
    "<font size=\"3\">After this session, you should be able to:</font>\n",
    "- <font size=\"3\">open and close a csv file</font>\n",
    "- <font size=\"3\">identify the generic syntax and permissions to open a file for reading and writing a csv file</font>\n",
    "- <font size=\"3\">read data from a file and write data to a csv file</font>"
   ]
  },
  {
   "cell_type": "markdown",
   "id": "f44fff9c",
   "metadata": {},
   "source": [
    "***"
   ]
  },
  {
   "cell_type": "markdown",
   "id": "10a7db6b",
   "metadata": {},
   "source": [
    "# File Handling: csv"
   ]
  },
  {
   "cell_type": "markdown",
   "id": "c238e960",
   "metadata": {},
   "source": [
    "- <font size=\"3\">In Python, we can use the module <span style=\"color: blue;\">csv </span> to simplify file handling</font>\n",
    "- <font size=\"3\">Designed to work out of the box with Excel-generated CSV files, it is easily adapted to work with a variety of CSV formats</font>\n",
    "- <font size=\"3\">The csv library contains objects and other code to read, write, and process data from and to CSV files</font>"
   ]
  },
  {
   "cell_type": "code",
   "execution_count": 1,
   "id": "4e34edb5",
   "metadata": {},
   "outputs": [],
   "source": [
    "import csv"
   ]
  },
  {
   "cell_type": "markdown",
   "id": "2fe6397a",
   "metadata": {},
   "source": [
    "## Open and Close a csv file\n",
    "\n",
    "- <font size=\"3\">We use the built-in <span style=\"color: green;\">open()</span> function and the keyword <span style=\"color: green;\">with</span> and <span style=\"color: green;\">as</span> in order to automatically close a file once we are done processing it</font>\n",
    "- <font size=\"3\">The with statement simplifies exception handling by encapsulating common preparation and cleanup tasks.</font>\n",
    "- <font size=\"3\"><b>Syntax:</b></font><br>\n",
    "&emsp;&emsp;&emsp;&emsp;<font size=\"3\"> <span style=\"color: green;\">with open</span>(file_name,mode,encoding='UTF-8') <span style=\"color: green;\">as</span> file_object</font>:<br>\n",
    "&emsp;&emsp;&emsp;&emsp;&emsp;&emsp;&emsp;#do something with the file<br>\n",
    "<div class=\"alert alert-block alert-info\">\n",
    "<b>Note:</b> open() function creates a file object and associates it with a file on the disk</div><br>\n",
    "- <font size=\"3\"><b>mode</b> is a character specifying how the file will be opened:</font>\n",
    "    - <font size=\"3\"><b>read mode (\"r\")</b>: opens the specified file so contents can be retrieved; default</font>\n",
    "    - <font size=\"3\"><b>write mode (\"w\")</b>: opens the specified file so that you can add data, starting at the beginning of the file (creates or overwrites the file)</font>\n",
    "    - <font size=\"3\"><b>append mode (\"a\")</b>: opens the specified file so that you can add content to the end of a file that already contains data</font>\n",
    "- <font size=\"3\"><b>encoding</b> is the process of translating characters into a format that can be stored and transmitted by a computer. In CSV files, encoding determines how the characters in the file are represented. UTF-8 and Latin-1 are two common encoding formats used in CSV files.</font>"
   ]
  },
  {
   "cell_type": "code",
   "execution_count": 10,
   "id": "6986406d",
   "metadata": {},
   "outputs": [
    {
     "name": "stdout",
     "output_type": "stream",
     "text": [
      "people.csv is now open for read\n"
     ]
    }
   ],
   "source": [
    "# Import csv library\n",
    "import csv\n",
    "\n",
    "# define a file name\n",
    "file_name = \"people.csv\"\n",
    "\n",
    "# open a CSV file and display the successfully opened file's name\n",
    "with open(file_name,encoding='UTF-8') as e:\n",
    "    print(f\"{file_name} is now open for read\")"
   ]
  },
  {
   "cell_type": "markdown",
   "id": "3132dd53",
   "metadata": {},
   "source": [
    "## File Error Handling\n",
    "\n",
    "<div class=\"alert alert-block alert-danger\">\n",
    "<b>File Errors:</b> it is possible that when we attempt to open a file that an error occurs.  This may be due to an incorrect file path being specified, file does not exist, or access to the file being restricted <br>\n",
    "    <ul>\n",
    "    <li>We can use a <b>try...except</b> block to handle file errors.</li>\n",
    "        <ul>\n",
    "            <li>Syntax:</li>\n",
    "            <b>try:</b><br>\n",
    "            &nbsp;&nbsp;&nbsp;&nbsp;&nbsp;&nbsp;statements<br>\n",
    "            <b>except exceptionName:</b><br>\n",
    "            &nbsp;&nbsp;&nbsp;&nbsp;&nbsp;&nbsp;statements\n",
    "        </ul>\n",
    "    <li>The try part of the block will attempt to execute the relevant statements e.g. open a file for reading.</li>\n",
    "    <li>The except part of the block will deal with a particular error e.g. an IOError which occurs when a file cannot be accessed</li>\n",
    "    </ul>\n",
    "</div>"
   ]
  },
  {
   "cell_type": "markdown",
   "id": "a28adcfa",
   "metadata": {},
   "source": [
    "### Example: File error when open a file"
   ]
  },
  {
   "cell_type": "code",
   "execution_count": 3,
   "id": "dc243786",
   "metadata": {},
   "outputs": [
    {
     "ename": "FileNotFoundError",
     "evalue": "[Errno 2] No such file or directory: 'test.csv'",
     "output_type": "error",
     "traceback": [
      "\u001b[1;31m---------------------------------------------------------------------------\u001b[0m",
      "\u001b[1;31mFileNotFoundError\u001b[0m                         Traceback (most recent call last)",
      "Cell \u001b[1;32mIn[3], line 8\u001b[0m\n\u001b[0;32m      5\u001b[0m file_name \u001b[38;5;241m=\u001b[39m \u001b[38;5;124m\"\u001b[39m\u001b[38;5;124mtest.csv\u001b[39m\u001b[38;5;124m\"\u001b[39m\n\u001b[0;32m      7\u001b[0m \u001b[38;5;66;03m# Open the test.csv file but test.csv does not exist\u001b[39;00m\n\u001b[1;32m----> 8\u001b[0m \u001b[38;5;28;01mwith\u001b[39;00m \u001b[38;5;28;43mopen\u001b[39;49m\u001b[43m(\u001b[49m\u001b[43mfile_name\u001b[49m\u001b[43m,\u001b[49m\u001b[43mencoding\u001b[49m\u001b[38;5;241;43m=\u001b[39;49m\u001b[38;5;124;43m'\u001b[39;49m\u001b[38;5;124;43mUTF-8\u001b[39;49m\u001b[38;5;124;43m'\u001b[39;49m\u001b[43m)\u001b[49m \u001b[38;5;28;01mas\u001b[39;00m csv_file:\n\u001b[0;32m      9\u001b[0m     \u001b[38;5;28mprint\u001b[39m(\u001b[38;5;124mf\u001b[39m\u001b[38;5;124m\"\u001b[39m\u001b[38;5;132;01m{\u001b[39;00mfile_name\u001b[38;5;132;01m}\u001b[39;00m\u001b[38;5;124m is now open for read\u001b[39m\u001b[38;5;124m\"\u001b[39m)\n",
      "File \u001b[1;32m~\\.conda\\envs\\COM731\\lib\\site-packages\\IPython\\core\\interactiveshell.py:324\u001b[0m, in \u001b[0;36m_modified_open\u001b[1;34m(file, *args, **kwargs)\u001b[0m\n\u001b[0;32m    317\u001b[0m \u001b[38;5;28;01mif\u001b[39;00m file \u001b[38;5;129;01min\u001b[39;00m {\u001b[38;5;241m0\u001b[39m, \u001b[38;5;241m1\u001b[39m, \u001b[38;5;241m2\u001b[39m}:\n\u001b[0;32m    318\u001b[0m     \u001b[38;5;28;01mraise\u001b[39;00m \u001b[38;5;167;01mValueError\u001b[39;00m(\n\u001b[0;32m    319\u001b[0m         \u001b[38;5;124mf\u001b[39m\u001b[38;5;124m\"\u001b[39m\u001b[38;5;124mIPython won\u001b[39m\u001b[38;5;124m'\u001b[39m\u001b[38;5;124mt let you open fd=\u001b[39m\u001b[38;5;132;01m{\u001b[39;00mfile\u001b[38;5;132;01m}\u001b[39;00m\u001b[38;5;124m by default \u001b[39m\u001b[38;5;124m\"\u001b[39m\n\u001b[0;32m    320\u001b[0m         \u001b[38;5;124m\"\u001b[39m\u001b[38;5;124mas it is likely to crash IPython. If you know what you are doing, \u001b[39m\u001b[38;5;124m\"\u001b[39m\n\u001b[0;32m    321\u001b[0m         \u001b[38;5;124m\"\u001b[39m\u001b[38;5;124myou can use builtins\u001b[39m\u001b[38;5;124m'\u001b[39m\u001b[38;5;124m open.\u001b[39m\u001b[38;5;124m\"\u001b[39m\n\u001b[0;32m    322\u001b[0m     )\n\u001b[1;32m--> 324\u001b[0m \u001b[38;5;28;01mreturn\u001b[39;00m io_open(file, \u001b[38;5;241m*\u001b[39margs, \u001b[38;5;241m*\u001b[39m\u001b[38;5;241m*\u001b[39mkwargs)\n",
      "\u001b[1;31mFileNotFoundError\u001b[0m: [Errno 2] No such file or directory: 'test.csv'"
     ]
    }
   ],
   "source": [
    "# Import csv library\n",
    "import csv\n",
    "\n",
    "# define a file name\n",
    "file_name = \"test.csv\"\n",
    "\n",
    "# Open the test.csv file but test.csv does not exist\n",
    "with open(file_name,encoding='UTF-8') as csv_file:\n",
    "    print(f\"{file_name} is now open for read\")"
   ]
  },
  {
   "cell_type": "code",
   "execution_count": 13,
   "id": "a38a5f28",
   "metadata": {},
   "outputs": [
    {
     "name": "stdin",
     "output_type": "stream",
     "text": [
      "Enter a filename or file path:  ll\n"
     ]
    },
    {
     "ename": "FileNotFoundError",
     "evalue": "[Errno 2] No such file or directory: 'll'",
     "output_type": "error",
     "traceback": [
      "\u001b[1;31m---------------------------------------------------------------------------\u001b[0m",
      "\u001b[1;31mFileNotFoundError\u001b[0m                         Traceback (most recent call last)",
      "Cell \u001b[1;32mIn[13], line 7\u001b[0m\n\u001b[0;32m      5\u001b[0m file_name \u001b[38;5;241m=\u001b[39m \u001b[38;5;28minput\u001b[39m(\u001b[38;5;124m\"\u001b[39m\u001b[38;5;124mEnter a filename or file path: \u001b[39m\u001b[38;5;124m\"\u001b[39m)\n\u001b[0;32m      6\u001b[0m \u001b[38;5;66;03m# Open the file\u001b[39;00m\n\u001b[1;32m----> 7\u001b[0m \u001b[38;5;28;01mwith\u001b[39;00m \u001b[38;5;28;43mopen\u001b[39;49m\u001b[43m(\u001b[49m\u001b[43mfile_name\u001b[49m\u001b[43m,\u001b[49m\u001b[43mencoding\u001b[49m\u001b[38;5;241;43m=\u001b[39;49m\u001b[38;5;124;43m'\u001b[39;49m\u001b[38;5;124;43mUTF-8\u001b[39;49m\u001b[38;5;124;43m'\u001b[39;49m\u001b[43m)\u001b[49m \u001b[38;5;28;01mas\u001b[39;00m csv_file:\n\u001b[0;32m      8\u001b[0m     \u001b[38;5;28mprint\u001b[39m(\u001b[38;5;124mf\u001b[39m\u001b[38;5;124m\"\u001b[39m\u001b[38;5;132;01m{\u001b[39;00mfile_name\u001b[38;5;132;01m}\u001b[39;00m\u001b[38;5;124m is now open for read\u001b[39m\u001b[38;5;124m\"\u001b[39m)\n",
      "File \u001b[1;32m~\\.conda\\envs\\COM731\\lib\\site-packages\\IPython\\core\\interactiveshell.py:324\u001b[0m, in \u001b[0;36m_modified_open\u001b[1;34m(file, *args, **kwargs)\u001b[0m\n\u001b[0;32m    317\u001b[0m \u001b[38;5;28;01mif\u001b[39;00m file \u001b[38;5;129;01min\u001b[39;00m {\u001b[38;5;241m0\u001b[39m, \u001b[38;5;241m1\u001b[39m, \u001b[38;5;241m2\u001b[39m}:\n\u001b[0;32m    318\u001b[0m     \u001b[38;5;28;01mraise\u001b[39;00m \u001b[38;5;167;01mValueError\u001b[39;00m(\n\u001b[0;32m    319\u001b[0m         \u001b[38;5;124mf\u001b[39m\u001b[38;5;124m\"\u001b[39m\u001b[38;5;124mIPython won\u001b[39m\u001b[38;5;124m'\u001b[39m\u001b[38;5;124mt let you open fd=\u001b[39m\u001b[38;5;132;01m{\u001b[39;00mfile\u001b[38;5;132;01m}\u001b[39;00m\u001b[38;5;124m by default \u001b[39m\u001b[38;5;124m\"\u001b[39m\n\u001b[0;32m    320\u001b[0m         \u001b[38;5;124m\"\u001b[39m\u001b[38;5;124mas it is likely to crash IPython. If you know what you are doing, \u001b[39m\u001b[38;5;124m\"\u001b[39m\n\u001b[0;32m    321\u001b[0m         \u001b[38;5;124m\"\u001b[39m\u001b[38;5;124myou can use builtins\u001b[39m\u001b[38;5;124m'\u001b[39m\u001b[38;5;124m open.\u001b[39m\u001b[38;5;124m\"\u001b[39m\n\u001b[0;32m    322\u001b[0m     )\n\u001b[1;32m--> 324\u001b[0m \u001b[38;5;28;01mreturn\u001b[39;00m io_open(file, \u001b[38;5;241m*\u001b[39margs, \u001b[38;5;241m*\u001b[39m\u001b[38;5;241m*\u001b[39mkwargs)\n",
      "\u001b[1;31mFileNotFoundError\u001b[0m: [Errno 2] No such file or directory: 'll'"
     ]
    }
   ],
   "source": [
    "# Import csv library\n",
    "import csv\n",
    "\n",
    "# receive a filename or file path from a user: try to open movies.csv file\n",
    "file_name = input(\"Enter a filename or file path: \")\n",
    "# Open the file\n",
    "with open(file_name,encoding='UTF-8') as csv_file:\n",
    "    print(f\"{file_name} is now open for read\")"
   ]
  },
  {
   "cell_type": "markdown",
   "id": "a889a87d",
   "metadata": {},
   "source": [
    "### Example: File error handling"
   ]
  },
  {
   "cell_type": "code",
   "execution_count": 5,
   "id": "10fe5f21",
   "metadata": {},
   "outputs": [
    {
     "name": "stdout",
     "output_type": "stream",
     "text": [
      "File does not exist.\n"
     ]
    }
   ],
   "source": [
    "# Import csv library\n",
    "import csv\n",
    "\n",
    "# define a file name\n",
    "file_name = \"test.csv\"\n",
    "\n",
    "# Open the test.csv file but test.csv does not exist however we handle file error so program is not stop or interrupt \n",
    "try:\n",
    "    with open(file_name,encoding='UTF-8') as csv_file:\n",
    "        print(f\"{file_name} is now open for read\")\n",
    "    \n",
    "except FileNotFoundError:\n",
    "    print(\"File does not exist.\")"
   ]
  },
  {
   "cell_type": "code",
   "execution_count": 11,
   "id": "bb0d0fd3",
   "metadata": {},
   "outputs": [
    {
     "name": "stdout",
     "output_type": "stream",
     "text": [
      "File does not exist: [Errno 2] No such file or directory: 'test.csv'.\n"
     ]
    }
   ],
   "source": [
    "# Import csv library\n",
    "import csv\n",
    "\n",
    "# define a file name\n",
    "file_name = \"test.csv\"\n",
    "\n",
    "# Open the test.csv file but test.csv does not exist however we handle file error so program is not stop or interrupt \n",
    "try:\n",
    "    with open(file_name,encoding='UTF-8') as csv_file:\n",
    "        print(f\"{file_name} is now open for read\")\n",
    "# print a more informative exception\n",
    "except FileNotFoundError as e:\n",
    "    print(f\"File does not exist: {e}.\")"
   ]
  },
  {
   "cell_type": "markdown",
   "id": "be5bc5bd",
   "metadata": {},
   "source": [
    "Python Built-in Exceptions list: https://docs.python.org/3/library/exceptions.html"
   ]
  },
  {
   "cell_type": "markdown",
   "id": "acde11ad",
   "metadata": {},
   "source": [
    "## Read data from a csv file"
   ]
  },
  {
   "cell_type": "markdown",
   "id": "eda48c9e",
   "metadata": {},
   "source": [
    "- <font size=\"3\">To read a CSV file in Python, we can use the <span style=\"color: blue;\"> csv.reader()</span> function</font>\n",
    "- <font size=\"3\"><b>Syntax:</b><br>\n",
    "&emsp;&emsp;&emsp;&emsp;<font size=\"3\"> variable = <span style=\"color: blue;\">csv.reader</span>(file_object)</font>\n",
    "- <font size=\"3\">A CSV reader allows us to retrieve a row of data one at a time from the file</font>\n",
    "- <font size=\"3\">When used with a loop, the reader object will return a list of values for each line in the file</font>"
   ]
  },
  {
   "cell_type": "markdown",
   "id": "e3c14e40",
   "metadata": {},
   "source": [
    "### Example: open csv using open() function and read a csv file using csv reader"
   ]
  },
  {
   "cell_type": "code",
   "execution_count": 20,
   "id": "3ea3d8e7",
   "metadata": {},
   "outputs": [
    {
     "name": "stdin",
     "output_type": "stream",
     "text": [
      "Enter a filename or file path:  k\n"
     ]
    },
    {
     "name": "stdout",
     "output_type": "stream",
     "text": [
      "File does not exist\n"
     ]
    }
   ],
   "source": [
    "# Import csv library\n",
    "import csv\n",
    "\n",
    "# receive a filename or file path from a user: try to open people.csv file\n",
    "file_name = input(\"Enter a filename or file path: \")\n",
    "\n",
    "# handle exceptions when opening a file and reading data from it\n",
    "try:\n",
    "    # Open csv file and read data from a file\n",
    "    with open(file_name,encoding='UTF-8') as csv_file:\n",
    "        # Read a csv file\n",
    "        csv_reader = csv.reader(csv_file)\n",
    "        \n",
    "        # Display a list of values for each line in the file\n",
    "        for row in csv_reader:\n",
    "            print(row)\n",
    "        \n",
    "except FileNotFoundError:\n",
    "    print(\"File does not exist\")"
   ]
  },
  {
   "attachments": {},
   "cell_type": "markdown",
   "id": "fe487ed2-752b-461f-88c0-934d3bd5adc3",
   "metadata": {},
   "source": [
    "<div class=\"alert alert-block alert-info\">\n",
    "<b>Tip:</b> <br>\n",
    "    <ul>\n",
    "        <li>Often, when our file contains headings, we read in and store the headings separately</li>\n",
    "        <li>We can do this by using the python function <span style=\"color: blue;\">next()</span>.  This function returns the next item i.e., line in a file\n",
    "</li>\n",
    "        <li>Syntax: variable = <span style=\"color: blue;\">next</span>(file_object)</li>\n",
    "    </ul>\n",
    "</div>"
   ]
  },
  {
   "cell_type": "markdown",
   "id": "95df5e18-ef5e-41ea-96f8-0aeff77e79bc",
   "metadata": {},
   "source": [
    "### Example: reading headings from csv file"
   ]
  },
  {
   "cell_type": "code",
   "execution_count": 22,
   "id": "b335ed94",
   "metadata": {},
   "outputs": [
    {
     "name": "stdin",
     "output_type": "stream",
     "text": [
      "Enter a filename or file path:  people.csv\n"
     ]
    },
    {
     "name": "stdout",
     "output_type": "stream",
     "text": [
      "Name, Age, Profession\n",
      "\n",
      " 22\n",
      " 23\n",
      " 25\n"
     ]
    }
   ],
   "source": [
    "# Import csv library\n",
    "import csv\n",
    "\n",
    "# receive a filename or file path from a user: try to open people.csv file\n",
    "file_name = input(\"Enter a filename or file path: \")\n",
    "\n",
    "# handle exceptions when opening a file and reading heading and data from it\n",
    "try:\n",
    "    # Open csv file and read data from a file\n",
    "    with open(file_name, encoding='UTF-8') as csv_file:\n",
    "        csv_reader = csv.reader(csv_file)\n",
    "        \n",
    "        # read in and store the headings separately\n",
    "        headings = next(csv_file)\n",
    "        \n",
    "        # Display heading in csv file\n",
    "        print(headings)\n",
    "        \n",
    "        # Display a list of values for each line\n",
    "        for row in csv_reader:\n",
    "            print(row[1])\n",
    "            \n",
    "except FileNotFoundError:\n",
    "    print(\"File does not exist\")"
   ]
  },
  {
   "cell_type": "markdown",
   "id": "2964500d",
   "metadata": {},
   "source": [
    "<div class=\"alert alert-block alert-info\">\n",
    "<b>Tip:</b> Each row reading from csv file is a sequence of data that can be accessed using an index number e.g., row[0] for the first value, row[1] for the second value and so on\n",
    "</div>"
   ]
  },
  {
   "cell_type": "markdown",
   "id": "a8454af9-06fe-4a44-9c69-5f99cddacda2",
   "metadata": {},
   "source": [
    "### Example: reading individual heading from csv file"
   ]
  },
  {
   "cell_type": "code",
   "execution_count": 23,
   "id": "efe5bbe1-3df3-4164-859e-57b96f845ece",
   "metadata": {},
   "outputs": [
    {
     "name": "stdin",
     "output_type": "stream",
     "text": [
      "Enter a filename or file path:  people.csv\n"
     ]
    },
    {
     "name": "stdout",
     "output_type": "stream",
     "text": [
      "['Name', ' Age', ' Profession\\n']\n",
      "['Michael', ' 22', ' Engineer']\n",
      "['Jack', ' 23', ' Doctor']\n",
      "['Susan', ' 25', ' Nurse']\n"
     ]
    }
   ],
   "source": [
    "# Import csv library\n",
    "import csv\n",
    "\n",
    "# receive a filename or file path from a user: try to open people.csv file\n",
    "file_name = input(\"Enter a filename or file path: \")\n",
    "\n",
    "# handle exceptions when opening a file and reading heading and data from it\n",
    "try:\n",
    "    # Open csv file and read data from a file\n",
    "    with open(file_name, encoding='UTF-8') as csv_file:\n",
    "        csv_reader = csv.reader(csv_file)\n",
    "        \n",
    "        # read in and store the headings separately\n",
    "        headings = next(csv_file)\n",
    "        # The split() method splits a string into a list. You can specify the separator, default separator is any whitespace\n",
    "        header = headings.split(',')\n",
    "\n",
    "        # display header\n",
    "        print(header)\n",
    "        # Display a list of values for each line\n",
    "        for row in csv_reader:\n",
    "            print(row)\n",
    "            \n",
    "except FileNotFoundError:\n",
    "    print(\"File does not exist\")"
   ]
  },
  {
   "cell_type": "markdown",
   "id": "bba069ea",
   "metadata": {},
   "source": [
    "### Example: access individual element in header and a row"
   ]
  },
  {
   "cell_type": "code",
   "execution_count": 37,
   "id": "3cdf90b1",
   "metadata": {},
   "outputs": [
    {
     "name": "stdin",
     "output_type": "stream",
     "text": [
      "Enter a filename or file path:  people.csv\n"
     ]
    },
    {
     "name": "stdout",
     "output_type": "stream",
     "text": [
      "Name  Profession\n",
      "['Name', ' Age', ' Profession']\n",
      "['Michael', ' 22', ' Engineer']\n",
      "['Jack', ' 23', ' Doctor']\n",
      "['Susan', ' 25', ' Nurse']\n"
     ]
    }
   ],
   "source": [
    "# Import csv library\n",
    "import csv\n",
    "\n",
    "# receive a filename or file path from a user: try to open people.csv file\n",
    "file_name = input(\"Enter a filename or file path: \")\n",
    "\n",
    "# handle exceptions when opening a file, reading the header, and extracting individual columns from a CSV\n",
    "try:\n",
    "    # Open csv file and read data from a file\n",
    "    with open(file_name, encoding='UTF-8') as csv_file:\n",
    "        csv_reader = csv.reader(csv_file)\n",
    "        \n",
    "        # read in and store the headings separately\n",
    "        \n",
    "        print(header[0], header[2])\n",
    "        # Display individual value: Name\n",
    "        for row in csv_reader:\n",
    "            print (row)\n",
    "            #print(row[0], row[2]) # access to first  and third element of each row\n",
    "            \n",
    "except FileNotFoundError:\n",
    "    print(\"File does not exist\")"
   ]
  },
  {
   "cell_type": "markdown",
   "id": "ea2706e7",
   "metadata": {},
   "source": [
    "## Write data to a csv file"
   ]
  },
  {
   "cell_type": "markdown",
   "id": "315672a8",
   "metadata": {},
   "source": [
    "### write() function"
   ]
  },
  {
   "cell_type": "markdown",
   "id": "d0c39d72",
   "metadata": {},
   "source": [
    "- <font size=\"3\">We can use <span style=\"color: blue;\">write()</span> function to write data into a file</font>\n",
    "- <font size=\"3\">Write data use commas to separate values </font>"
   ]
  },
  {
   "cell_type": "markdown",
   "id": "12c8a302",
   "metadata": {},
   "source": [
    "### Exmaple: write() "
   ]
  },
  {
   "cell_type": "code",
   "execution_count": 49,
   "id": "6490a029",
   "metadata": {},
   "outputs": [
    {
     "name": "stdin",
     "output_type": "stream",
     "text": [
      "How many movie would you like to enter?:  1\n",
      "Please enter the title of movie:  kk\n",
      "Please enter the movie genre:  kk\n",
      "Please enter the rating (1-5):  kk\n"
     ]
    },
    {
     "name": "stdout",
     "output_type": "stream",
     "text": [
      "An error occurred: invalid literal for int() with base 10: 'kk'\n"
     ]
    }
   ],
   "source": [
    "# define a filename\n",
    "file_name = \"movies_list.csv\"\n",
    "\n",
    "# handle exceptions when opening a file for writing, then prompt the user for a value before writing it to the file\n",
    "try:\n",
    "    with open(file_name, 'w') as file:\n",
    "        num_movies = int(input(\"How many movie would you like to enter?: \"))\n",
    "        \n",
    "        # get data from a user \n",
    "        for i in range(num_movies):\n",
    "            title = input(\"Please enter the title of movie: \")\n",
    "            genre = input(\"Please enter the movie genre: \")\n",
    "            rating = int(input(\"Please enter the rating (1-5): \"))\n",
    "            \n",
    "            # write user input in a format of csv - use commas to seperate values\n",
    "            file.write(f\"{title}, {genre}, {rating}\\n\")\n",
    "        \n",
    "        print(\"Thanks! Your file has been written.\")\n",
    "\n",
    "except ValueError as e:\n",
    "    print(f\"An error occurred: {e}\")"
   ]
  },
  {
   "cell_type": "markdown",
   "id": "9bef724f",
   "metadata": {},
   "source": [
    "### writer() function from csv module"
   ]
  },
  {
   "cell_type": "markdown",
   "id": "d9ea9d4a",
   "metadata": {},
   "source": [
    "- <font size=\"3\">We can also use <span style=\"color: blue;\">writer()</span> function</font>\n",
    "- <font size=\"3\">The writer function return a writer object that converts the user's data into a delimited string</font>\n",
    "- <font size=\"3\">This string can later be used to write into CSV files using the <span style=\"color: blue;\">writerow()</span> function</font>"
   ]
  },
  {
   "cell_type": "markdown",
   "id": "df492683",
   "metadata": {},
   "source": [
    "### Example: writer() and writerow()"
   ]
  },
  {
   "cell_type": "code",
   "execution_count": 44,
   "id": "b0322517",
   "metadata": {
    "scrolled": true
   },
   "outputs": [
    {
     "name": "stdout",
     "output_type": "stream",
     "text": [
      "Your file has been written.\n"
     ]
    }
   ],
   "source": [
    "# Import csv library\n",
    "import csv\n",
    "\n",
    "file_name = \"accounts.csv\"\n",
    "\n",
    "# Open csv file to write data into a file\n",
    "# the additional keyword argument newline='' to ensure that newlines are processed properly\n",
    "try:\n",
    "    with open(file_name,\"a\", newline='') as csv_file:\n",
    "        # Create a writer object\n",
    "        csv_writer = csv.writer(csv_file)\n",
    "        \n",
    "        # A writer object converts the data into a delimited string, then write into csv file\n",
    "        csv_writer.writerow([\"Account\",\"Name\",\"Balance\"])\n",
    "        csv_writer.writerow([100, 'Jones', 24.98])\n",
    "        csv_writer.writerow([200, 'Doe', 345.67])\n",
    "        csv_writer.writerow([300, 'White', 0.00])\n",
    "        csv_writer.writerow([400, 'Stone', -42.16])\n",
    "        csv_writer.writerow([500, 'Rich', 224.62])\n",
    "        \n",
    "        print(\"Your file has been written.\")\n",
    "\n",
    "except Exception as e:\n",
    "    print(f\"An error occurred: {e}\")"
   ]
  },
  {
   "cell_type": "markdown",
   "id": "55c1299a",
   "metadata": {},
   "source": [
    "---"
   ]
  },
  {
   "cell_type": "markdown",
   "id": "09f92a15",
   "metadata": {},
   "source": [
    "## Summary"
   ]
  },
  {
   "cell_type": "markdown",
   "id": "151819b3",
   "metadata": {},
   "source": [
    "- <font size=\"3\">A file object is used to open a connection to a csv file for input or output</font>\n",
    "- <font size=\"3\">Some useful methods: open, close, reader, write, writer, writerow</font>\n",
    "- <font size=\"3\">for loop treats an input file as a sequence of lines</font>\n",
    "    - <font size=\"3\">on each pass through the loop, the loop’s variable is bound to a line of data read from the file</font>"
   ]
  },
  {
   "cell_type": "markdown",
   "id": "e36a9b97",
   "metadata": {},
   "source": [
    "---"
   ]
  }
 ],
 "metadata": {
  "kernelspec": {
   "display_name": "COM731",
   "language": "python",
   "name": "com731"
  },
  "language_info": {
   "codemirror_mode": {
    "name": "ipython",
    "version": 3
   },
   "file_extension": ".py",
   "mimetype": "text/x-python",
   "name": "python",
   "nbconvert_exporter": "python",
   "pygments_lexer": "ipython3",
   "version": "3.10.14"
  }
 },
 "nbformat": 4,
 "nbformat_minor": 5
}
