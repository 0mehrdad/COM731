{
 "cells": [
  {
   "cell_type": "markdown",
   "id": "45a733d5-8362-4d34-ba0a-d0f6fdcb3be0",
   "metadata": {},
   "source": [
    "# Activity: user_entry"
   ]
  },
  {
   "cell_type": "code",
   "execution_count": 4,
   "id": "5974a98a-13c8-429e-bfbc-9b68882ced52",
   "metadata": {},
   "outputs": [
    {
     "name": "stdin",
     "output_type": "stream",
     "text": [
      "Please enter the title of song:  123\n",
      "Please enter the artist:  12312\n",
      "Please enter the yaer:  3\n",
      "Please enter the title of song:  123\n",
      "Please enter the artist:  21\n",
      "Please enter the yaer:  213\n",
      "Please enter the title of song:  123\n",
      "Please enter the artist:  213\n",
      "Please enter the yaer:  213\n"
     ]
    }
   ],
   "source": [
    "import csv \n",
    "file_name = \"user_entries.csv\"\n",
    "with open (file_name , 'w' ) as file :\n",
    "    file.write ('Year,Artist,Song Title\\n')\n",
    "    for i in range(3):\n",
    "            year = int(input(\"Please enter the yaer: \"))\n",
    "            artist = input(\"Please enter the artist: \")\n",
    "            title = input(\"Please enter the title of song: \")\n",
    "            file.write (f'{title},{artist},{year}\\n')\n",
    "    "
   ]
  },
  {
   "cell_type": "code",
   "execution_count": null,
   "id": "ff3dc4d7-65ee-4ada-8ed1-271cbd6271ff",
   "metadata": {},
   "outputs": [],
   "source": []
  }
 ],
 "metadata": {
  "kernelspec": {
   "display_name": "COM731",
   "language": "python",
   "name": "com731"
  },
  "language_info": {
   "codemirror_mode": {
    "name": "ipython",
    "version": 3
   },
   "file_extension": ".py",
   "mimetype": "text/x-python",
   "name": "python",
   "nbconvert_exporter": "python",
   "pygments_lexer": "ipython3",
   "version": "3.10.14"
  }
 },
 "nbformat": 4,
 "nbformat_minor": 5
}
