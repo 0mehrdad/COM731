{
 "cells": [
  {
   "cell_type": "markdown",
   "id": "f614d9d8",
   "metadata": {},
   "source": [
    "# Practice 1: Salaries"
   ]
  },
  {
   "cell_type": "markdown",
   "id": "917968fc",
   "metadata": {},
   "source": [
    "Utilising the file named 'Salaries.csv,' which holds data regarding the salaries of academic staff members across different positions, perform a series of tasks to extract information according to particular requirements or answer the questions."
   ]
  },
  {
   "cell_type": "markdown",
   "id": "dada7898",
   "metadata": {},
   "source": [
    "Import pandas"
   ]
  },
  {
   "cell_type": "code",
   "execution_count": 1,
   "id": "e9e0d4aa",
   "metadata": {},
   "outputs": [],
   "source": [
    "import pandas as pd "
   ]
  },
  {
   "cell_type": "markdown",
   "id": "5b738d83",
   "metadata": {},
   "source": [
    "Read this csv into a dataframe called df"
   ]
  },
  {
   "cell_type": "code",
   "execution_count": 3,
   "id": "153ba4d7",
   "metadata": {},
   "outputs": [],
   "source": [
    "# Read dataset from csv file \n",
    "df = pd.read_csv ('Data/Salaries.csv', encoding = 'utf-8')"
   ]
  },
  {
   "cell_type": "markdown",
   "id": "f2a003d1",
   "metadata": {},
   "source": [
    "What are the columns names?"
   ]
  },
  {
   "cell_type": "code",
   "execution_count": 4,
   "id": "e647a796",
   "metadata": {},
   "outputs": [
    {
     "data": {
      "text/plain": [
       "Index(['rank', 'discipline', 'phd', 'service', 'gender', 'salary'], dtype='object')"
      ]
     },
     "execution_count": 4,
     "metadata": {},
     "output_type": "execute_result"
    }
   ],
   "source": [
    "# Display all columns names\n",
    "df.columns"
   ]
  },
  {
   "cell_type": "markdown",
   "id": "a1e144aa",
   "metadata": {},
   "source": [
    "What are data types of columns we have in this data frame?"
   ]
  },
  {
   "cell_type": "code",
   "execution_count": 5,
   "id": "8e85b4d5",
   "metadata": {},
   "outputs": [
    {
     "data": {
      "text/plain": [
       "rank          object\n",
       "discipline    object\n",
       "phd            int64\n",
       "service        int64\n",
       "gender        object\n",
       "salary         int64\n",
       "dtype: object"
      ]
     },
     "execution_count": 5,
     "metadata": {},
     "output_type": "execute_result"
    }
   ],
   "source": [
    "# Display data types of all columns\n",
    "df.dtypes"
   ]
  },
  {
   "cell_type": "markdown",
   "id": "90f63f97-0018-4ad5-a997-2ba16eb207a4",
   "metadata": {},
   "source": [
    "How many rows and columns does this dataframe have?"
   ]
  },
  {
   "cell_type": "code",
   "execution_count": 7,
   "id": "4e6047be-9c0c-4376-be8e-c24dec6ab0e4",
   "metadata": {},
   "outputs": [
    {
     "data": {
      "text/plain": [
       "(78, 6)"
      ]
     },
     "execution_count": 7,
     "metadata": {},
     "output_type": "execute_result"
    }
   ],
   "source": [
    "# Display the number of rows and columns of the dataframe\n",
    "df.shape"
   ]
  },
  {
   "cell_type": "markdown",
   "id": "ec6f9ad3-93e1-4e4f-b8bf-418ddcc670c6",
   "metadata": {},
   "source": [
    "Identify the number of PhD students for each staff member in the dataset."
   ]
  },
  {
   "cell_type": "code",
   "execution_count": 9,
   "id": "ab7814a8-74df-4202-a9b9-b1896505cf37",
   "metadata": {},
   "outputs": [
    {
     "data": {
      "text/plain": [
       "0     56\n",
       "1     12\n",
       "2     23\n",
       "3     40\n",
       "4     20\n",
       "      ..\n",
       "73    18\n",
       "74    19\n",
       "75    17\n",
       "76    28\n",
       "77    23\n",
       "Name: phd, Length: 78, dtype: int64"
      ]
     },
     "execution_count": 9,
     "metadata": {},
     "output_type": "execute_result"
    }
   ],
   "source": [
    "# Disply the number of PhD student for each staff member\n",
    "df.phd"
   ]
  },
  {
   "cell_type": "markdown",
   "id": "b5904ae7",
   "metadata": {},
   "source": [
    "Select rank, gender and salary columns and display the results on screen"
   ]
  },
  {
   "cell_type": "code",
   "execution_count": 10,
   "id": "dbaec798",
   "metadata": {},
   "outputs": [
    {
     "data": {
      "text/html": [
       "<div>\n",
       "<style scoped>\n",
       "    .dataframe tbody tr th:only-of-type {\n",
       "        vertical-align: middle;\n",
       "    }\n",
       "\n",
       "    .dataframe tbody tr th {\n",
       "        vertical-align: top;\n",
       "    }\n",
       "\n",
       "    .dataframe thead th {\n",
       "        text-align: right;\n",
       "    }\n",
       "</style>\n",
       "<table border=\"1\" class=\"dataframe\">\n",
       "  <thead>\n",
       "    <tr style=\"text-align: right;\">\n",
       "      <th></th>\n",
       "      <th>rank</th>\n",
       "      <th>gender</th>\n",
       "      <th>salary</th>\n",
       "    </tr>\n",
       "  </thead>\n",
       "  <tbody>\n",
       "    <tr>\n",
       "      <th>0</th>\n",
       "      <td>Prof</td>\n",
       "      <td>Male</td>\n",
       "      <td>186960</td>\n",
       "    </tr>\n",
       "    <tr>\n",
       "      <th>1</th>\n",
       "      <td>Prof</td>\n",
       "      <td>Male</td>\n",
       "      <td>93000</td>\n",
       "    </tr>\n",
       "    <tr>\n",
       "      <th>2</th>\n",
       "      <td>Prof</td>\n",
       "      <td>Male</td>\n",
       "      <td>110515</td>\n",
       "    </tr>\n",
       "    <tr>\n",
       "      <th>3</th>\n",
       "      <td>Prof</td>\n",
       "      <td>Male</td>\n",
       "      <td>131205</td>\n",
       "    </tr>\n",
       "    <tr>\n",
       "      <th>4</th>\n",
       "      <td>Prof</td>\n",
       "      <td>Male</td>\n",
       "      <td>104800</td>\n",
       "    </tr>\n",
       "    <tr>\n",
       "      <th>...</th>\n",
       "      <td>...</td>\n",
       "      <td>...</td>\n",
       "      <td>...</td>\n",
       "    </tr>\n",
       "    <tr>\n",
       "      <th>73</th>\n",
       "      <td>Prof</td>\n",
       "      <td>Female</td>\n",
       "      <td>105450</td>\n",
       "    </tr>\n",
       "    <tr>\n",
       "      <th>74</th>\n",
       "      <td>AssocProf</td>\n",
       "      <td>Female</td>\n",
       "      <td>104542</td>\n",
       "    </tr>\n",
       "    <tr>\n",
       "      <th>75</th>\n",
       "      <td>Prof</td>\n",
       "      <td>Female</td>\n",
       "      <td>124312</td>\n",
       "    </tr>\n",
       "    <tr>\n",
       "      <th>76</th>\n",
       "      <td>Prof</td>\n",
       "      <td>Female</td>\n",
       "      <td>109954</td>\n",
       "    </tr>\n",
       "    <tr>\n",
       "      <th>77</th>\n",
       "      <td>Prof</td>\n",
       "      <td>Female</td>\n",
       "      <td>109646</td>\n",
       "    </tr>\n",
       "  </tbody>\n",
       "</table>\n",
       "<p>78 rows × 3 columns</p>\n",
       "</div>"
      ],
      "text/plain": [
       "         rank  gender  salary\n",
       "0        Prof    Male  186960\n",
       "1        Prof    Male   93000\n",
       "2        Prof    Male  110515\n",
       "3        Prof    Male  131205\n",
       "4        Prof    Male  104800\n",
       "..        ...     ...     ...\n",
       "73       Prof  Female  105450\n",
       "74  AssocProf  Female  104542\n",
       "75       Prof  Female  124312\n",
       "76       Prof  Female  109954\n",
       "77       Prof  Female  109646\n",
       "\n",
       "[78 rows x 3 columns]"
      ]
     },
     "execution_count": 10,
     "metadata": {},
     "output_type": "execute_result"
    }
   ],
   "source": [
    "# Display 3 specify column: rank, gender, salary\n",
    "df[['rank', 'gender', 'salary']]"
   ]
  },
  {
   "cell_type": "markdown",
   "id": "388beccc",
   "metadata": {},
   "source": [
    "Write the selected columns from the previous task to a new csv file called selected_salaries.csv"
   ]
  },
  {
   "cell_type": "code",
   "execution_count": 11,
   "id": "6623e786",
   "metadata": {},
   "outputs": [],
   "source": [
    "# Write your selected columns into a new csv file\n",
    "selected_salaries = df[['rank', 'gender', 'salary']]\n",
    "selected_salaries.to_csv ( 'selected_salaries.csv' , index = False )"
   ]
  },
  {
   "cell_type": "markdown",
   "id": "1554f2c4",
   "metadata": {},
   "source": [
    "-------------------------------End of Practice 1 --------------------------------------"
   ]
  }
 ],
 "metadata": {
  "kernelspec": {
   "display_name": "Python 3 (ipykernel)",
   "language": "python",
   "name": "python3"
  },
  "language_info": {
   "codemirror_mode": {
    "name": "ipython",
    "version": 3
   },
   "file_extension": ".py",
   "mimetype": "text/x-python",
   "name": "python",
   "nbconvert_exporter": "python",
   "pygments_lexer": "ipython3",
   "version": "3.11.9"
  }
 },
 "nbformat": 4,
 "nbformat_minor": 5
}
