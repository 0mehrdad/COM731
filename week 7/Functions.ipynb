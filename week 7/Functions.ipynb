{
 "cells": [
  {
   "cell_type": "markdown",
   "id": "b26be13f-d83c-4e99-a8c7-e8c97ff3481b",
   "metadata": {},
   "source": [
    "# Activity: ascii_code"
   ]
  },
  {
   "cell_type": "code",
   "execution_count": 5,
   "id": "bc6e638e-6c79-4bb5-b5ca-8da92fffff79",
   "metadata": {},
   "outputs": [
    {
     "name": "stdout",
     "output_type": "stream",
     "text": [
      "Program Started!\n",
      "Please enter a standard character\n"
     ]
    },
    {
     "name": "stdin",
     "output_type": "stream",
     "text": [
      " hh\n"
     ]
    },
    {
     "name": "stdout",
     "output_type": "stream",
     "text": [
      "hh is more than one character\n",
      "Program Ended!\n"
     ]
    }
   ],
   "source": [
    "print ('Program Started!')\n",
    "print ('Please enter a standard character')\n",
    "i = input()\n",
    "if len (i) == 1 :\n",
    "    print (f'The ASCII code for {i} is {ord(i)}')\n",
    "else:\n",
    "    print (f'{i} is more than one character')\n",
    "print ('Program Ended!')"
   ]
  },
  {
   "cell_type": "code",
   "execution_count": null,
   "id": "6d9690ee-1d6e-4376-841a-fa273c1c4cad",
   "metadata": {},
   "outputs": [],
   "source": []
  }
 ],
 "metadata": {
  "kernelspec": {
   "display_name": "COM731",
   "language": "python",
   "name": "com731"
  },
  "language_info": {
   "codemirror_mode": {
    "name": "ipython",
    "version": 3
   },
   "file_extension": ".py",
   "mimetype": "text/x-python",
   "name": "python",
   "nbconvert_exporter": "python",
   "pygments_lexer": "ipython3",
   "version": "3.10.14"
  }
 },
 "nbformat": 4,
 "nbformat_minor": 5
}
