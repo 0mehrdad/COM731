{
 "cells": [
  {
   "cell_type": "code",
   "execution_count": null,
   "id": "7216938c",
   "metadata": {},
   "outputs": [],
   "source": [
    "def func():\n",
    "    print(\"    This is func() in test_module.py\")\n",
    "    print(f\"    __name__ is' {__name__}\")\n",
    "\n",
    "\n",
    "if __name__ == '__main__':\n",
    "    print(\"Start if __name__ == '__main__'\")\n",
    "    print('call func()')\n",
    "    func()"
   ]
  },
  {
   "cell_type": "code",
   "execution_count": null,
   "id": "5c2a960b",
   "metadata": {},
   "outputs": [],
   "source": []
  }
 ],
 "metadata": {
  "kernelspec": {
   "display_name": "Python 3 (ipykernel)",
   "language": "python",
   "name": "python3"
  },
  "language_info": {
   "codemirror_mode": {
    "name": "ipython",
    "version": 3
   },
   "file_extension": ".py",
   "mimetype": "text/x-python",
   "name": "python",
   "nbconvert_exporter": "python",
   "pygments_lexer": "ipython3",
   "version": "3.9.12"
  }
 },
 "nbformat": 4,
 "nbformat_minor": 5
}
