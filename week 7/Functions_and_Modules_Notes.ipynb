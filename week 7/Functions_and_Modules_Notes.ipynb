{
 "cells": [
  {
   "cell_type": "markdown",
   "id": "ae56af3f",
   "metadata": {},
   "source": [
    "# Functions and Modules"
   ]
  },
  {
   "cell_type": "markdown",
   "id": "eaa9f506",
   "metadata": {},
   "source": [
    "# Reference Books"
   ]
  },
  {
   "cell_type": "markdown",
   "id": "0359059b",
   "metadata": {},
   "source": [
    "- <font size=\"3\">Fundametals of First Programs 2nd edition: Chapter 6</font>\n",
    "- <font size=\"3\">Programming with Python: Module 9 and 13</font>"
   ]
  },
  {
   "cell_type": "markdown",
   "id": "3e4aeae7",
   "metadata": {},
   "source": [
    "<font size=\"5\">**Learning Objectives**</font><br>\n",
    "<font size=\"3\">After this session, you should be able to:</font>\n",
    "- <font size=\"3\">identify functions and function calls</font>\n",
    "- <font size=\"3\">identify the arguments in a function call</font>\n",
    "- <font size=\"3\">differentiate arguments from parameters</font>\n",
    "- <font size=\"3\">code a function to work on particular task</font>\n",
    "- <font size=\"3\">compose an assignment statement that collects a return value in a variable</font>\n",
    "- <font size=\"3\">recognize when to use import versus from</font>\n",
    "- <font size=\"3\">explain how to create a module in the same folder as another program</font>"
   ]
  },
  {
   "cell_type": "markdown",
   "id": "f44fff9c",
   "metadata": {},
   "source": [
    "***"
   ]
  },
  {
   "cell_type": "markdown",
   "id": "1962e6ef",
   "metadata": {},
   "source": [
    "# Introduction"
   ]
  },
  {
   "cell_type": "markdown",
   "id": "a9bf0917",
   "metadata": {},
   "source": [
    "- <font size = \"3\"><b>Functions</b> are reusable blocks of code that perform specific tasks</font>\n",
    "- <font size =\"3\">A function packages an algorithm in a chunk of code that you can call by name</font>\n",
    "- <font size =\"3\">A function can be called from anywhere in a program’s code, including code within other functions</font>\n",
    "- <font size =\"3\">A function can receive data from its caller via <b>argument</b></font>\n",
    "- <font size =\"3\">When a function is called, any expression supplied as arguments are first evaluated</font>\n",
    "- <font size =\"3\">A function may have one or more <b>return</b> statements</font>"
   ]
  },
  {
   "cell_type": "markdown",
   "id": "c02c05d3",
   "metadata": {},
   "source": [
    "<font size=\"3\">[Python Tutor: Visualize code in Python](https://pythontutor.com/visualize.html#mode=edit) demonstarte how the flow of function is executed</font>"
   ]
  },
  {
   "cell_type": "markdown",
   "id": "53276110",
   "metadata": {},
   "source": [
    "- <font size=\"3\">The function definition is <b>place before</b> your main code so that the interpreter knows what to do when it reaches the function call</font>\n",
    "- <font size=\"3\"><b>Function structure:</b></font><br>\n",
    "&emsp;&emsp;&emsp;&emsp;<font size=\"3\"> <span style=\"color: green;\"><b>def</b></span> function_name<b>():</b><br>\n",
    "&emsp;&emsp;&emsp;&emsp;&emsp;&emsp;<font size=\"3\">sequence of statements-1<br>\n",
    "&emsp;&emsp;&emsp;&emsp;&emsp;&emsp;<font size=\"3\">sequence of statements-2<br>\n",
    "&emsp;&emsp;&emsp;&emsp;&emsp;&emsp;<font size=\"3\">...<br>"
   ]
  },
  {
   "cell_type": "markdown",
   "id": "398b3e85",
   "metadata": {},
   "source": [
    "### Programmer-defined functions Example"
   ]
  },
  {
   "cell_type": "code",
   "execution_count": 9,
   "id": "d6a4b762",
   "metadata": {},
   "outputs": [
    {
     "name": "stdout",
     "output_type": "stream",
     "text": [
      "Welcome to Solent University\n",
      "Make Waves\n",
      "Program End\n"
     ]
    }
   ],
   "source": [
    "#Greeting message function\n",
    "def welcome(a=1):\n",
    "    for i in range(a):\n",
    "        print(\"Welcome to Solent University\")\n",
    "        print(\"Make Waves\")\n",
    "    return a\n",
    "\n",
    "#Main program\n",
    "welcome()\n",
    "print(\"Program End\")"
   ]
  },
  {
   "cell_type": "markdown",
   "id": "a7b39009",
   "metadata": {},
   "source": [
    "---"
   ]
  },
  {
   "cell_type": "markdown",
   "id": "dc5a4549",
   "metadata": {},
   "source": [
    "# Parameters, Arguments and Return Values"
   ]
  },
  {
   "cell_type": "markdown",
   "id": "a599b2ce",
   "metadata": {},
   "source": [
    "## Parameters"
   ]
  },
  {
   "cell_type": "markdown",
   "id": "de8dbe4b",
   "metadata": {},
   "source": [
    "- <font size =\"3\"><b>A parameter</b> (also known as <b>a formal argument</b>) is an input to a function</font>\n",
    "- <font size =\"3\">Parameters allow us to pass information into functions</font>\n",
    "- <font size=\"3\">Listed as variables inside parentheses at the end of the function name</font>"
   ]
  },
  {
   "cell_type": "markdown",
   "id": "edf47e9f",
   "metadata": {},
   "source": [
    "## Arguments"
   ]
  },
  {
   "cell_type": "markdown",
   "id": "620af903",
   "metadata": {},
   "source": [
    "- <font size =\"3\"><b>An argument</b> (also known as <b>an actual argument</b>) is data that is passed to a function</font>\n",
    "- <font size =\"3\">Python functions are invoked through call-by-object-reference - values are bound to objects and references to the objects are passed when a function is invoked</font>"
   ]
  },
  {
   "cell_type": "markdown",
   "id": "6e210cbb",
   "metadata": {},
   "source": [
    "## Retrun values\n",
    "- <font size =\"3\">You can return data from a function using a <b><span style=\"color: green;\">return</span></b> statement at the end of a function</font>\n",
    "- <font size =\"3\">Return value: data received by the main program from a function, which can be used for calculations or other operations</font>"
   ]
  },
  {
   "cell_type": "markdown",
   "id": "f6ba735e",
   "metadata": {},
   "source": [
    "### Parameters, Arguments, and Return Value Example"
   ]
  },
  {
   "cell_type": "code",
   "execution_count": 18,
   "id": "c1801d52",
   "metadata": {},
   "outputs": [
    {
     "name": "stdin",
     "output_type": "stream",
     "text": [
      "Enter a number of asssessment:  1\n",
      "Enter an assessment title [e.g. AE1, AE2]:  50\n",
      "Enter weight of the assessment (e.g. 40, 60):  50\n",
      "Enter your assessment mark for 50:  50\n"
     ]
    },
    {
     "name": "stdout",
     "output_type": "stream",
     "text": [
      "Assessment 50:\n",
      "Mark for 50: 25.0\n",
      "The total mark is : 25\n"
     ]
    }
   ],
   "source": [
    "\"\"\"Program: Calculate Assessment Final Mark\n",
    "   Description: COM731 consists of two assessments: AE1 (40% weight) and AE2 (60% weight). \n",
    "   The overall module result is determined by combining the weighted marks \n",
    "   for each assessment.For example, if you receive a mark of 42 for AE1 \n",
    "   and 35 for AE2, the aggregate score is calculated as follows:\n",
    "   (42 * 0.4) + (35 * 0.6) = 37.8.\n",
    "   This score would be rounded to the nearest whole number, resulting in a \n",
    "   final mark of 38, which is a fail.\n",
    "   \n",
    "   Tasks: Calculate the final mark from a student's marks\n",
    "\"\"\"\n",
    "\n",
    "def calculate_mark(assessment_detail):\n",
    "    total_mark = 0\n",
    "    for key, value in assessment_detail.items():\n",
    "        print(f\"Assessment {key}:\")\n",
    "        weight = value[0]\n",
    "        score = value[1]\n",
    "        mark = weight * score\n",
    "        print(f\"Mark for {key}: {mark}\")\n",
    "        total_mark = total_mark+mark\n",
    "    return total_mark\n",
    "\n",
    "def get_assessment_detail(assessment_number):\n",
    "    assessment_detail = {}\n",
    "    for i in range(assessment_number):\n",
    "        weight_mark = []\n",
    "        type = input(\"Enter an assessment title [e.g. AE1, AE2]: \")\n",
    "        weight_percentage = int(input(\"Enter weight of the assessment (e.g. 40, 60): \"))\n",
    "        weight = weight_percentage/100\n",
    "        weight_mark.append(weight)\n",
    "        assessment_mark = int(input(f\"Enter your assessment mark for {type}: \"))\n",
    "        weight_mark.append(assessment_mark)\n",
    "        assessment_detail[type.upper()] = weight_mark\n",
    "    return assessment_detail\n",
    "\n",
    "\n",
    "#Main Program\n",
    "# Get assessment detial    \n",
    "assessment_number = int(input(\"Enter a number of asssessment: \"))\n",
    "#assessment_detail = get_assessment_detail(assessment_number)\n",
    "\n",
    "# Calculate a total mark\n",
    "#total_mark = calculate_mark(get_assessment_detail(assessment_number))\n",
    "        \n",
    "# Display the total mark\n",
    "print(f\"The total mark is : {round(calculate_mark(get_assessment_detail(assessment_number)))}\")"
   ]
  },
  {
   "cell_type": "markdown",
   "id": "801e91c8-33ac-4a73-ab87-5b7ad71580ed",
   "metadata": {},
   "source": [
    "<div class=\"alert alert-block alert-info\">\n",
    "<b>if __name__ == \"__main__\"</b> <br>\n",
    "    <ul>\n",
    "        <li>Syntactically, Python’s if __name__ == \"__main__\" idiom is just a normal conditional block</li>\n",
    "        <li>It allows you to execute code when the file runs as a Script, but not when it’s imported as a Module</li>\n",
    "    </ul>\n",
    "</div>"
   ]
  },
  {
   "cell_type": "code",
   "execution_count": 11,
   "id": "1ed24269-aff0-4fa5-b1a3-bd2b08b8a7c0",
   "metadata": {},
   "outputs": [
    {
     "name": "stdin",
     "output_type": "stream",
     "text": [
      "Enter a number of asssessment:  1\n",
      "Enter an assessment title [e.g. AE1, AE2]:  5\n",
      "Enter weight of the assessment (e.g. 40, 60):  100\n",
      "Enter your assessment mark for 5:  85\n"
     ]
    },
    {
     "name": "stdout",
     "output_type": "stream",
     "text": [
      "Assessment 5:\n",
      "Mark for 5: 85.0\n",
      "The total mark is : 85\n"
     ]
    }
   ],
   "source": [
    "def calculate_mark(assessment_detail):\n",
    "    total_mark = 0\n",
    "    for key, value in assessment_detail.items():\n",
    "        print(f\"Assessment {key}:\")\n",
    "        weight = value[0]\n",
    "        score = value[1]\n",
    "        mark = weight * score\n",
    "        print(f\"Mark for {key}: {mark}\")\n",
    "        total_mark = total_mark+mark\n",
    "    return total_mark\n",
    "\n",
    "def get_assessment_detail(assessment_number):\n",
    "    assessment_detail = {}\n",
    "    for i in range(assessment_number):\n",
    "        weight_mark = []\n",
    "        type = input(\"Enter an assessment title [e.g. AE1, AE2]: \")\n",
    "        weight_percentage = int(input(\"Enter weight of the assessment (e.g. 40, 60): \"))\n",
    "        weight = weight_percentage/100\n",
    "        weight_mark.append(weight)\n",
    "        assessment_mark = int(input(f\"Enter your assessment mark for {type}: \"))\n",
    "        weight_mark.append(assessment_mark)\n",
    "        assessment_detail[type.upper()] = weight_mark\n",
    "    return assessment_detail\n",
    "\n",
    "\n",
    "#Main Program\n",
    "if __name__ == \"__main__\":\n",
    "    # Get assessment detial    \n",
    "    assessment_number = int(input(\"Enter a number of asssessment: \"))\n",
    "    assessment_detail = get_assessment_detail(assessment_number)\n",
    "    \n",
    "    # Calculate a total mark\n",
    "    total_mark = calculate_mark(assessment_detail)\n",
    "        \n",
    "    # Display the total mark\n",
    "    print(f\"The total mark is : {round(total_mark)}\")"
   ]
  },
  {
   "cell_type": "markdown",
   "id": "9d1d2439",
   "metadata": {},
   "source": [
    "---"
   ]
  },
  {
   "cell_type": "markdown",
   "id": "f6abe456",
   "metadata": {},
   "source": [
    "# Modules"
   ]
  },
  {
   "cell_type": "markdown",
   "id": "e912b1c5",
   "metadata": {},
   "source": [
    "- <font size =\"3\">Python's default modules are stored in a certain location, but other modules can be stored in any location</font>\n",
    "- <font size =\"3\">You use a keyword to tell Python which modules/parts of modules you want to include in your program</font>\n",
    "- <font size =\"3\">Modules are organized by purpose</font>\n",
    "- <font size =\"3\">Nested modules: modules stored within other modules, which can be used on their own</font>"
   ]
  },
  {
   "cell_type": "markdown",
   "id": "baeab35f",
   "metadata": {},
   "source": [
    "## Importing Modules"
   ]
  },
  {
   "cell_type": "markdown",
   "id": "a9ccf9be",
   "metadata": {},
   "source": [
    "- <font size =\"3\">We can bring in the module into the program using:</font>\n",
    "    - <font size =\"3\"><span style=\"color:green;\">import</span></font>\n",
    "    - <font size =\"3\"><span style=\"color:green;\">from</span></font>"
   ]
  },
  {
   "cell_type": "markdown",
   "id": "e440f705",
   "metadata": {},
   "source": [
    "### import"
   ]
  },
  {
   "cell_type": "markdown",
   "id": "d159570e",
   "metadata": {},
   "source": [
    "- <font size =\"3\">Importing creating access to code from an external module</font>\n",
    "- <font size =\"3\">General syntax for importing</font>\n",
    "    - <font size =\"3\"><span style=\"color:green;\"><b>import</b></span> [module_name] </font>\n",
    "- <font size =\"3\">It is often convenient to rename modules with abbreviated names in code using <span style=\"color:blue;\">as</span> after module_name. This is particularly useful where we have long module names, or we are referring to sub-modules</font>"
   ]
  },
  {
   "cell_type": "code",
   "execution_count": 19,
   "id": "7008ee3c",
   "metadata": {},
   "outputs": [
    {
     "name": "stdout",
     "output_type": "stream",
     "text": [
      "Random number: 80\n"
     ]
    }
   ],
   "source": [
    "import random as rnd # importing random module and rename with abbreviated names\n",
    "\n",
    "number = rnd.randrange(1,100) #Call function in the module [call function pattern:<module_name>.<function_name_in_the_module>]\n",
    "print(f\"Random number: {number}\") "
   ]
  },
  {
   "cell_type": "markdown",
   "id": "53eff512",
   "metadata": {},
   "source": [
    "<div class=\"alert alert-block alert-info\">\n",
    "<b>Tip:</b> Importing an .ipynb file from another .ipynb file\n",
    "</div>\n",
    "<ul>\n",
    "    <li>Download .ipynb as Python(.py)</li>\n",
    "    <li>Upload .py file back into the same directory of your Jupyter Notebook file</li>\n",
    "    <li>import file as normal using import</li>\n",
    "</ul>"
   ]
  },
  {
   "cell_type": "markdown",
   "id": "e93519ea",
   "metadata": {},
   "source": [
    "### from"
   ]
  },
  {
   "cell_type": "markdown",
   "id": "79b64efa",
   "metadata": {},
   "source": [
    "- <font size=\"3\">Using <span style=\"color: green;\">from</span> with <span style=\"color: green;\">import</span> imports only the **specified** parts of a module and allows you to call imported functions without including the module name in the reference</font>\n",
    "- <font size=\"3\">General syntax for importing:</font>\n",
    "    - <font size=\"2\"><span style=\"color: green;\">from</span> module_name <span style=\"color: green;\">import</span> function_name</font> \n",
    "- <font size=\"3\">Syntax to import multiple functions from a module:</font>\n",
    "    - <font size=\"2\"><span style=\"color: green;\">from</span> module_name <span style=\"color: green;\">import</span> function_name1, function_name2</font> \n",
    "- <font size=\"3\">Syntax to import all module items and reference them without the module name:</font>\n",
    "    - <font size=\"2\"><span style=\"color: green;\">from</span> module_name <span style=\"color: green;\">import</span> <b>*</b></font> "
   ]
  },
  {
   "cell_type": "code",
   "execution_count": null,
   "id": "a11b8db7",
   "metadata": {},
   "outputs": [],
   "source": [
    "#import math functions from math module for mathematical tasks.\n",
    "\n",
    "from math import pow, sqrt, log10\n",
    "\n",
    "#input x and y value\n",
    "x= int(input(\"Enter first number:\"))\n",
    "y = int(input(\"Enter second number:\"))\n",
    "\n",
    "#pow() returns the value of x to the power of y\n",
    "print(f\"The value of {x} to the power of {y} is {pow(x,y)}\")\n",
    "\n",
    "#sqrt() returs the square root of a number\n",
    "print(f\"The square root of {x} is {sqrt(x)}\")\n",
    "\n",
    "#log10() returns the base-10 logarithm of x\n",
    "print(f\"The base-10 logarithm of {x} is {log10(x)}\")"
   ]
  },
  {
   "cell_type": "markdown",
   "id": "af015aef",
   "metadata": {},
   "source": [
    "click here to see more on [Python Math Module](https://www.w3schools.com/python/module_math.asp)"
   ]
  },
  {
   "cell_type": "markdown",
   "id": "3e69b826",
   "metadata": {},
   "source": [
    "click here to see more on [Python Random Module](https://www.w3schools.com/python/module_random.asp)"
   ]
  },
  {
   "cell_type": "markdown",
   "id": "5fb706af",
   "metadata": {},
   "source": [
    "# Creating Modules"
   ]
  },
  {
   "cell_type": "markdown",
   "id": "aa6a5f7f",
   "metadata": {},
   "source": [
    "- <font size=\"3\">To create a module, place your own .py file in the same folder as the program that will use the module</font>\n",
    "- <font size=\"3\">If you would like to be able to run the file independently then we will need to add an if statement to check if the file is being executed directly rather than being imported by another module using if `__name__` == '`__main__`' </font>\n",
    "- <font size=\"3\">When the file (module) is imported from another file `__name__` is `<module name>`</font>\n",
    "- <font size=\"3\">When the file itself is run as a script with the `python3` command `__name__` is `__main__`</font>"
   ]
  },
  {
   "cell_type": "code",
   "execution_count": 20,
   "id": "aa9e5937",
   "metadata": {},
   "outputs": [
    {
     "name": "stdout",
     "output_type": "stream",
     "text": [
      "math\n"
     ]
    }
   ],
   "source": [
    "import math\n",
    "\n",
    "print(math.__name__)"
   ]
  },
  {
   "cell_type": "code",
   "execution_count": 21,
   "id": "31361190",
   "metadata": {},
   "outputs": [
    {
     "name": "stdout",
     "output_type": "stream",
     "text": [
      "This is test_main.py\n",
      "test_module.__name__ is test_module\n",
      "The __name__ is __main__\n",
      "---\n",
      "Call test_module.func()\n",
      "    This is func() in test_module.py\n",
      "    __name__ is' test_module\n"
     ]
    }
   ],
   "source": [
    "import test_module\n",
    "\n",
    "print('This is test_main.py')\n",
    "print(f\"test_module.__name__ is {test_module.__name__}\")\n",
    "\n",
    "if __name__ == '__main__':\n",
    "    print(f\"The __name__ is {__name__}\")\n",
    "    print('---')\n",
    "    print('Call test_module.func()')\n",
    "    test_module.func()"
   ]
  },
  {
   "cell_type": "markdown",
   "id": "09f92a15",
   "metadata": {},
   "source": [
    "## Summary"
   ]
  },
  {
   "cell_type": "markdown",
   "id": "151819b3",
   "metadata": {},
   "source": [
    "- <font size=\"3\">A function serves as abstraction mechanism and eliminates redundant patterns of code</font>\n",
    "- <font size=\"3\">A function hides a complex chunk of code in a single named entity</font>\n",
    "- <font size=\"3\">A function consist of keyword ‘def’, function_name and zero, one, or a list of parameters</font>\n",
    "- <font size=\"3\">A function can return none, one value, or multiple values</font>\n",
    "- <font size=\"3\">Modules: pre-programmed pieces of code written by other programmers that you can bring into a program as if you wrote them yourself</font>"
   ]
  },
  {
   "cell_type": "markdown",
   "id": "e36a9b97",
   "metadata": {},
   "source": [
    "---"
   ]
  }
 ],
 "metadata": {
  "kernelspec": {
   "display_name": "COM731",
   "language": "python",
   "name": "com731"
  },
  "language_info": {
   "codemirror_mode": {
    "name": "ipython",
    "version": 3
   },
   "file_extension": ".py",
   "mimetype": "text/x-python",
   "name": "python",
   "nbconvert_exporter": "python",
   "pygments_lexer": "ipython3",
   "version": "3.10.14"
  }
 },
 "nbformat": 4,
 "nbformat_minor": 5
}
