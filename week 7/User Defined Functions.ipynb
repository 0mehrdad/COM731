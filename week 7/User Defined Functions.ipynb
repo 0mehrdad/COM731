{
 "cells": [
  {
   "cell_type": "markdown",
   "id": "a6198b14-b076-4bcd-b575-e77ecf11d009",
   "metadata": {},
   "source": [
    "# Activity: function_with_parameter "
   ]
  },
  {
   "cell_type": "code",
   "execution_count": 4,
   "id": "d523e9a8-de7c-42b8-b258-ead43b27a530",
   "metadata": {},
   "outputs": [
    {
     "name": "stdout",
     "output_type": "stream",
     "text": [
      "We cannot escape that way! The boulder is too big!\n",
      "We cannot escape that way! The boulder is moving too fast!\n",
      "That might just work! Let's go deeper!\n"
     ]
    }
   ],
   "source": [
    "def escape_by (plan):\n",
    "    if plan.lower() == 'jumping over':\n",
    "        print ('We cannot escape that way! The boulder is too big!')\n",
    "    elif plan.lower() == 'running around':\n",
    "        print ('We cannot escape that way! The boulder is moving too fast!')\n",
    "    elif plan.lower() == 'going deeper':\n",
    "        print (\"That might just work! Let's go deeper!\")\n",
    "    else:\n",
    "        print ('We cannot escape that way! The boulder is in the way!')\n",
    "        \n",
    "if __name__ == '__main__' :\n",
    "    escape_by(\"jumping over\")\n",
    "    escape_by(\"running around\")\n",
    "    escape_by(\"going deeper\")\n"
   ]
  },
  {
   "cell_type": "code",
   "execution_count": null,
   "id": "d9e2a300-7e6e-40b3-a56c-52bdb4206b18",
   "metadata": {},
   "outputs": [],
   "source": []
  }
 ],
 "metadata": {
  "kernelspec": {
   "display_name": "COM731",
   "language": "python",
   "name": "com731"
  },
  "language_info": {
   "codemirror_mode": {
    "name": "ipython",
    "version": 3
   },
   "file_extension": ".py",
   "mimetype": "text/x-python",
   "name": "python",
   "nbconvert_exporter": "python",
   "pygments_lexer": "ipython3",
   "version": "3.10.14"
  }
 },
 "nbformat": 4,
 "nbformat_minor": 5
}
