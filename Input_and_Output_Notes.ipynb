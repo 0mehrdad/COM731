{
 "cells": [
  {
   "cell_type": "markdown",
   "id": "1cd8cc27",
   "metadata": {},
   "source": [
    "# Input and Output"
   ]
  },
  {
   "cell_type": "markdown",
   "id": "368c3044",
   "metadata": {},
   "source": [
    "# Reference Books"
   ]
  },
  {
   "cell_type": "markdown",
   "id": "7d285ebb",
   "metadata": {},
   "source": [
    "- <font size=\"3\">Fundametals of First Programs 2nd edition: Chapter 2</font>\n",
    "- <font size=\"3\">Programming with Python: Module 3, 4, 5</font>"
   ]
  },
  {
   "cell_type": "markdown",
   "id": "9bd47a9d",
   "metadata": {},
   "source": [
    "<font size=\"5\">**Learning Objectives**</font><br>\n",
    "<font size=\"3\">After this session, you should be able to:</font>\n",
    "- <font size=\"3\">define python syntax for obtaining values from a user</font>\n",
    "- <font size=\"3\">define python syntax to display values</font>\n",
    "- <font size=\"3\">construct a simple Python program that performs inputs</font>\n",
    "- <font size=\"3\">construct a simple Python program that performs outputs</font>\n",
    "- <font size=\"3\">construct a simple Python program that performs basic calculations</font>"
   ]
  },
  {
   "cell_type": "markdown",
   "id": "1048d662",
   "metadata": {},
   "source": [
    "***"
   ]
  },
  {
   "cell_type": "markdown",
   "id": "b1c3f470",
   "metadata": {},
   "source": [
    "## Output"
   ]
  },
  {
   "cell_type": "markdown",
   "id": "fb706f80",
   "metadata": {},
   "source": [
    "- <font size=3>Sending out data to standard output (a text stream on screen</font>\n",
    "- <font size=3>The communication channel with the users</font>\n",
    "- <font size=3>In python, there is a built-in function <span style=\"color: green;\">print</span> to display characters on the screen</font>\n",
    "- <font size=\"3\"><b>Syntax:</b></font><br>\n",
    "&emsp;&emsp;&emsp;&emsp;<font size=\"3\"> <span style=\"color: green;\"><b>print</b></span>(variable/message)"
   ]
  },
  {
   "cell_type": "code",
   "execution_count": 1,
   "id": "b9b96b4b",
   "metadata": {},
   "outputs": [
    {
     "name": "stdout",
     "output_type": "stream",
     "text": [
      "Hello, Python\n"
     ]
    }
   ],
   "source": [
    "# Display message to standard output\n",
    "print(\"Hello, Python\")"
   ]
  },
  {
   "cell_type": "code",
   "execution_count": 2,
   "id": "4510b84b",
   "metadata": {},
   "outputs": [
    {
     "name": "stdout",
     "output_type": "stream",
     "text": [
      "\n",
      "Python is a widely-used general-purpose, high-level programming language. \n",
      "It was initially designed by Guido van Rossum in 1991 and developed by \n",
      "Python Software Foundation.\n",
      "\n"
     ]
    }
   ],
   "source": [
    "# Display multiple line message\n",
    "print(\"\"\"\n",
    "Python is a widely-used general-purpose, high-level programming language. \n",
    "It was initially designed by Guido van Rossum in 1991 and developed by \n",
    "Python Software Foundation.\n",
    "\"\"\")"
   ]
  },
  {
   "cell_type": "code",
   "execution_count": 3,
   "id": "b475b161",
   "metadata": {},
   "outputs": [
    {
     "name": "stdout",
     "output_type": "stream",
     "text": [
      "15\n"
     ]
    }
   ],
   "source": [
    "# Display value in a variable\n",
    "result = 5*3\n",
    "print(result)"
   ]
  },
  {
   "cell_type": "markdown",
   "id": "62fcc075",
   "metadata": {},
   "source": [
    "### Formatting output"
   ]
  },
  {
   "cell_type": "markdown",
   "id": "c8bb6ccf",
   "metadata": {},
   "source": [
    "- <font size=3>Formatted string literals also called **f-string** for short let you include the value of python expression inside a string by prefixing the string with **f** or **F** and writing python expression</font>\n",
    "- <font size=3>Format specifiers for types, padding, or aligning are specified after the colon character</font>\n",
    "- <font size=\"3\"><b>Syntax:</b></font><br>\n",
    "&emsp;&emsp;&emsp;&emsp;<font size=\"3\"> <span style=\"color: green;\"><b>print</b></span>(<span style=\"color: red;\">f</span>\"string{value or variable: format specifiers}\")"
   ]
  },
  {
   "cell_type": "code",
   "execution_count": 6,
   "id": "850152b5",
   "metadata": {},
   "outputs": [
    {
     "name": "stdout",
     "output_type": "stream",
     "text": [
      "Hello Jarutas Andritsch, nice to meet you\n",
      "Welcome to Solent\n"
     ]
    }
   ],
   "source": [
    "# Display value using formatted string\n",
    "name = \"Jarutas Andritsch\"\n",
    "\n",
    "print(f\"Hello {name}, nice to meet you\")\n",
    "print(\"Welcome to Solent\")"
   ]
  },
  {
   "cell_type": "code",
   "execution_count": 9,
   "id": "ccae6376",
   "metadata": {},
   "outputs": [
    {
     "name": "stdout",
     "output_type": "stream",
     "text": [
      "right-justify:     python\n",
      "center: --python--\n",
      "left-justify: python****\n"
     ]
    }
   ],
   "source": [
    "#Alignment output: Left-justify, center, right-justify\n",
    "message = \"python\"\n",
    "\n",
    "print(f\"right-justify: {message:>10}\")\n",
    "print(f\"center: {message:-^10}\")\n",
    "print(f\"left-justify: {message:*<10}\")"
   ]
  },
  {
   "cell_type": "markdown",
   "id": "162f57e7",
   "metadata": {},
   "source": [
    "- <font size=3>By default, the print function adds a new line (\\n) to the end of a line</font>\n",
    "- <font size=3>By using **end=\"\"** we have specified that an empty string (\"\") should be added to the end of the printed line instead of a new line (\\n)</font>\n",
    "- <font size=\"3\"><b>Syntax:</b></font><br>\n",
    "&emsp;&emsp;&emsp;&emsp;<font size=\"3\"> <span style=\"color: green;\"><b>print</b></span>(<span style=\"color: red;\">f</span>\"string{expression}\", end=\"\")"
   ]
  },
  {
   "cell_type": "code",
   "execution_count": 10,
   "id": "5e5bd5c7",
   "metadata": {},
   "outputs": [
    {
     "name": "stdout",
     "output_type": "stream",
     "text": [
      "My name is Jarutas Andritsch I'm a Lecturer at Solent University\n"
     ]
    }
   ],
   "source": [
    "# Display value using formatted string in a same line\n",
    "name = \"Jarutas Andritsch\"\n",
    "occupation = \"Lecturer\"\n",
    "\n",
    "print(f\"My name is {name} \", end=\"\")\n",
    "print(f\"I'm a {occupation} at Solent University\")"
   ]
  },
  {
   "cell_type": "markdown",
   "id": "c9b3e450",
   "metadata": {},
   "source": [
    "### Formatting Output: Numeric"
   ]
  },
  {
   "cell_type": "code",
   "execution_count": 11,
   "id": "2fe16025",
   "metadata": {},
   "outputs": [
    {
     "name": "stdout",
     "output_type": "stream",
     "text": [
      "Original value of integer: 100\n",
      "Integer value with the 10 digits width:        100\n",
      "Original value of average: 4.430500\n",
      "Three decimal places: 4.431\n",
      "Width of 9 digits with three decimal places:     4.431\n"
     ]
    }
   ],
   "source": [
    "integer = 100\n",
    "average = 4.43050\n",
    "\n",
    "# Display integer with formatting parameters\n",
    "print(f\"Original value of integer: {integer:d}\")\n",
    "print(f\"Integer value with the 10 digits width: {integer:10d}\")\n",
    "\n",
    "# Display floating point with formatting parameters\n",
    "print(f\"Original value of average: {average:f}\")\n",
    "print(f\"Three decimal places: {average:.3f}\")\n",
    "print(f\"Width of 9 digits with three decimal places: {average:9.3f}\")"
   ]
  },
  {
   "cell_type": "markdown",
   "id": "7adfd883",
   "metadata": {},
   "source": [
    "## Input"
   ]
  },
  {
   "cell_type": "markdown",
   "id": "501537b3",
   "metadata": {},
   "source": [
    "- <font size=3>Receive data from a user to a variable</font>\n",
    "- <font size=3>Python allows us to read user input using the built-in function <span style=\"color: green;\">input</span></font>\n",
    "- <font size=\"3\"><b>Syntax:</b></font><br>\n",
    "&emsp;&emsp;&emsp;&emsp;<font size=\"3\"> variable = <span style=\"color: green;\"><b>input</b></span>(\"string prompt\"\")\n",
    "- <font size=3>The input function always builds a string from the user’s keystrokes and returns it to the program</font>\n",
    "    - <font size=3>Strings that represent numbers must be converted from strings to appropriate number types\n",
    ", you can use <span style=\"color: green;\">int()</span> or <span style=\"color: green;\">float()</span> function to convert string to integer or float</font>\n",
    "    - <font size=\"3\"><b>Format:</b></font><br>\n",
    "&emsp;&emsp;&emsp;&emsp;<font size=\"3\">variable = <span style=\"color: green;\"><b>int(input</b></span> (\"string prompt\")<span style=\"color: green;\"><b>)</b></span><br> or <br>\n",
    "    &emsp;&emsp;&emsp;&emsp;<font size=\"3\">variable = <span style=\"color: green;\"><b>float(input</b></span> (\"string prompt\")<span style=\"color: green;\"><b>)</b></span>"
   ]
  },
  {
   "cell_type": "code",
   "execution_count": 12,
   "id": "a67d1d21",
   "metadata": {},
   "outputs": [
    {
     "name": "stdin",
     "output_type": "stream",
     "text": [
      " gg\n"
     ]
    }
   ],
   "source": [
    "name = input()"
   ]
  },
  {
   "cell_type": "code",
   "execution_count": 13,
   "id": "83f55729",
   "metadata": {},
   "outputs": [
    {
     "name": "stdin",
     "output_type": "stream",
     "text": [
      "Enter your name: gg\n"
     ]
    }
   ],
   "source": [
    "name =input(\"Enter your name:\")"
   ]
  },
  {
   "cell_type": "code",
   "execution_count": 14,
   "id": "4bf9dd1c",
   "metadata": {},
   "outputs": [
    {
     "name": "stdin",
     "output_type": "stream",
     "text": [
      "What is your name:  gg\n"
     ]
    },
    {
     "name": "stdout",
     "output_type": "stream",
     "text": [
      "It is nice to meet you, gg\n"
     ]
    }
   ],
   "source": [
    "#Read in a user's name\n",
    "name = input(\"What is your name: \")\n",
    "\n",
    "print(f\"It is nice to meet you, {name}\")"
   ]
  },
  {
   "cell_type": "code",
   "execution_count": 15,
   "id": "6d8f8c91",
   "metadata": {},
   "outputs": [
    {
     "name": "stdin",
     "output_type": "stream",
     "text": [
      "Enter your age:  26\n"
     ]
    }
   ],
   "source": [
    "age = int(input(\"Enter your age: \"))"
   ]
  },
  {
   "cell_type": "code",
   "execution_count": 16,
   "id": "64cb12c9",
   "metadata": {},
   "outputs": [
    {
     "data": {
      "text/plain": [
       "int"
      ]
     },
     "execution_count": 16,
     "metadata": {},
     "output_type": "execute_result"
    }
   ],
   "source": [
    "type(age)"
   ]
  },
  {
   "cell_type": "code",
   "execution_count": 17,
   "id": "fadd0aad",
   "metadata": {},
   "outputs": [
    {
     "name": "stdout",
     "output_type": "stream",
     "text": [
      "Your age in the next 5 years is 31\n"
     ]
    }
   ],
   "source": [
    "print(f\"Your age in the next 5 years is {age+5}\")"
   ]
  },
  {
   "cell_type": "code",
   "execution_count": 19,
   "id": "cc0f71e4",
   "metadata": {},
   "outputs": [
    {
     "name": "stdin",
     "output_type": "stream",
     "text": [
      "Enter your weight (kg):  80\n",
      "Enter your height (meters):  1.9\n"
     ]
    },
    {
     "name": "stdout",
     "output_type": "stream",
     "text": [
      "Your BMI is 22.16\n"
     ]
    }
   ],
   "source": [
    "#Read in user's data and convert to proper data type and display the result\n",
    "weight = float(input(\"Enter your weight (kg): \"))\n",
    "height = float(input(\"Enter your height (meters): \"))\n",
    "\n",
    "bmi = weight/(height*height)\n",
    "print(f\"Your BMI is {bmi:.2f}\")"
   ]
  },
  {
   "cell_type": "markdown",
   "id": "d3b8d64c",
   "metadata": {},
   "source": [
    "***"
   ]
  },
  {
   "cell_type": "markdown",
   "id": "e6ba030d",
   "metadata": {},
   "source": [
    "# Summary"
   ]
  },
  {
   "cell_type": "markdown",
   "id": "05106e09",
   "metadata": {},
   "source": [
    "- <font size=3>Python built-in function input() uses for receive data from keyboard</font>\n",
    "- <font size=3>Python built-in function print() uses for display data to text stream on screen</font>"
   ]
  },
  {
   "cell_type": "markdown",
   "id": "303a08b4",
   "metadata": {},
   "source": [
    "***"
   ]
  }
 ],
 "metadata": {
  "kernelspec": {
   "display_name": "COM731",
   "language": "python",
   "name": "com731"
  },
  "language_info": {
   "codemirror_mode": {
    "name": "ipython",
    "version": 3
   },
   "file_extension": ".py",
   "mimetype": "text/x-python",
   "name": "python",
   "nbconvert_exporter": "python",
   "pygments_lexer": "ipython3",
   "version": "3.10.14"
  }
 },
 "nbformat": 4,
 "nbformat_minor": 5
}
