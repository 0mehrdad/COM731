{
 "cells": [
  {
   "cell_type": "markdown",
   "id": "83b5c94b-0406-476c-84eb-73d44c6b1385",
   "metadata": {},
   "source": [
    "## user_input"
   ]
  },
  {
   "cell_type": "code",
   "execution_count": 2,
   "id": "34dc3be0-de47-43bd-b1c7-14b9040c3c4a",
   "metadata": {},
   "outputs": [
    {
     "name": "stdout",
     "output_type": "stream",
     "text": [
      "What is your name?\n"
     ]
    },
    {
     "name": "stdin",
     "output_type": "stream",
     "text": [
      " Mehrdad\n"
     ]
    },
    {
     "name": "stdout",
     "output_type": "stream",
     "text": [
      "It is nice to meet you human Mehrdad\n"
     ]
    }
   ],
   "source": [
    "# ask user to input their name\n",
    "print (\"What is your name?\")\n",
    "name = input()\n",
    "print (f\"It is nice to meet you human {name}\")"
   ]
  },
  {
   "cell_type": "code",
   "execution_count": 3,
   "id": "590d5861-4374-4b7d-849f-72dcf578aa97",
   "metadata": {},
   "outputs": [
    {
     "name": "stdin",
     "output_type": "stream",
     "text": [
      "What is your name human? Mehrdad\n"
     ]
    }
   ],
   "source": [
    "# Read in user's name\n",
    "name = input(\"What is your name human?\")"
   ]
  },
  {
   "cell_type": "markdown",
   "id": "f7da5e3f-bd8a-4ad2-9e11-2bec02e25c19",
   "metadata": {},
   "source": [
    "## Data type"
   ]
  },
  {
   "cell_type": "code",
   "execution_count": null,
   "id": "ba0f5abf-c2ff-4e7f-886e-dd5fa9b635d5",
   "metadata": {},
   "outputs": [
    {
     "name": "stdout",
     "output_type": "stream",
     "text": [
      "What is your name human?\n"
     ]
    },
    {
     "name": "stdin",
     "output_type": "stream",
     "text": [
      " Mehrdad\n"
     ]
    },
    {
     "name": "stdout",
     "output_type": "stream",
     "text": [
      "How old are you (in years)?\n"
     ]
    },
    {
     "name": "stdin",
     "output_type": "stream",
     "text": [
      " 26\n"
     ]
    },
    {
     "name": "stdout",
     "output_type": "stream",
     "text": [
      "How tall are you (in meters)?\n"
     ]
    }
   ],
   "source": [
    "print (\"What is your name human?\")\n",
    "name = input()\n",
    "print (\"How old are you (in years)?\")\n",
    "age = int(input())\n",
    "print (\"How tall are you (in meters)?\")\n",
    "hight = float(input())\n",
    "print (\"How much do you weigh (in kilograms)?\")\n",
    "weigh = float(input())\n",
    "bmi = weigh/(hight * hight)\n",
    "print (f\"{name} you are {age} year's old, and your bmi is {bmi}\")"
   ]
  },
  {
   "cell_type": "code",
   "execution_count": null,
   "id": "ba9b3e57-71bf-4f3a-ae00-d6cd34c7821a",
   "metadata": {},
   "outputs": [],
   "source": []
  }
 ],
 "metadata": {
  "kernelspec": {
   "display_name": "COM731",
   "language": "python",
   "name": "com731"
  },
  "language_info": {
   "codemirror_mode": {
    "name": "ipython",
    "version": 3
   },
   "file_extension": ".py",
   "mimetype": "text/x-python",
   "name": "python",
   "nbconvert_exporter": "python",
   "pygments_lexer": "ipython3",
   "version": "3.10.14"
  }
 },
 "nbformat": 4,
 "nbformat_minor": 5
}
