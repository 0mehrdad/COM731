{
 "cells": [
  {
   "cell_type": "markdown",
   "id": "b28b9645",
   "metadata": {},
   "source": [
    "# Practice 3: Comsumption and Carbon footprints"
   ]
  },
  {
   "cell_type": "markdown",
   "id": "de16050b",
   "metadata": {},
   "source": [
    "In this set of practice exercises we’ll be again looking at the dataset of consumption and carbon footprints of different foods."
   ]
  },
  {
   "cell_type": "markdown",
   "id": "93f672c4",
   "metadata": {},
   "source": [
    "Importing pandas with the alias pd."
   ]
  },
  {
   "cell_type": "code",
   "execution_count": 1,
   "id": "4174aa01",
   "metadata": {},
   "outputs": [],
   "source": [
    "#Write your code here\n",
    "import pandas as pd"
   ]
  },
  {
   "cell_type": "markdown",
   "id": "0c6c362b",
   "metadata": {},
   "source": [
    "Read the dataset as a dataframe named df from food_consumption.csv"
   ]
  },
  {
   "cell_type": "code",
   "execution_count": 6,
   "id": "69ce093d",
   "metadata": {},
   "outputs": [
    {
     "data": {
      "text/html": [
       "<div>\n",
       "<style scoped>\n",
       "    .dataframe tbody tr th:only-of-type {\n",
       "        vertical-align: middle;\n",
       "    }\n",
       "\n",
       "    .dataframe tbody tr th {\n",
       "        vertical-align: top;\n",
       "    }\n",
       "\n",
       "    .dataframe thead th {\n",
       "        text-align: right;\n",
       "    }\n",
       "</style>\n",
       "<table border=\"1\" class=\"dataframe\">\n",
       "  <thead>\n",
       "    <tr style=\"text-align: right;\">\n",
       "      <th></th>\n",
       "      <th>country</th>\n",
       "      <th>food_category</th>\n",
       "      <th>consumption</th>\n",
       "      <th>co2_emmission</th>\n",
       "    </tr>\n",
       "  </thead>\n",
       "  <tbody>\n",
       "    <tr>\n",
       "      <th>0</th>\n",
       "      <td>Argentina</td>\n",
       "      <td>Pork</td>\n",
       "      <td>10.51</td>\n",
       "      <td>37.20</td>\n",
       "    </tr>\n",
       "    <tr>\n",
       "      <th>1</th>\n",
       "      <td>Argentina</td>\n",
       "      <td>Poultry</td>\n",
       "      <td>38.66</td>\n",
       "      <td>41.53</td>\n",
       "    </tr>\n",
       "    <tr>\n",
       "      <th>2</th>\n",
       "      <td>Argentina</td>\n",
       "      <td>Beef</td>\n",
       "      <td>55.48</td>\n",
       "      <td>1712.00</td>\n",
       "    </tr>\n",
       "    <tr>\n",
       "      <th>3</th>\n",
       "      <td>Argentina</td>\n",
       "      <td>Lamb &amp; Goat</td>\n",
       "      <td>1.56</td>\n",
       "      <td>54.63</td>\n",
       "    </tr>\n",
       "    <tr>\n",
       "      <th>4</th>\n",
       "      <td>Argentina</td>\n",
       "      <td>Fish</td>\n",
       "      <td>4.36</td>\n",
       "      <td>6.96</td>\n",
       "    </tr>\n",
       "  </tbody>\n",
       "</table>\n",
       "</div>"
      ],
      "text/plain": [
       "     country food_category  consumption  co2_emmission\n",
       "0  Argentina          Pork        10.51          37.20\n",
       "1  Argentina       Poultry        38.66          41.53\n",
       "2  Argentina          Beef        55.48        1712.00\n",
       "3  Argentina   Lamb & Goat         1.56          54.63\n",
       "4  Argentina          Fish         4.36           6.96"
      ]
     },
     "execution_count": 6,
     "metadata": {},
     "output_type": "execute_result"
    }
   ],
   "source": [
    "#Write your code here\n",
    "df=pd.read_csv(\"Data/food_consumption.csv\", header=0, encoding='utf-8')\n",
    "df.head()"
   ]
  },
  {
   "cell_type": "markdown",
   "id": "136c4c7e",
   "metadata": {},
   "source": [
    "What country consumes the most food per person per year (across all food categories)?"
   ]
  },
  {
   "cell_type": "code",
   "execution_count": 9,
   "id": "fd043bc1",
   "metadata": {},
   "outputs": [
    {
     "data": {
      "text/plain": [
       "country\n",
       "Rwanda          40.38\n",
       "Malawi          51.00\n",
       "Zambia          57.11\n",
       "Mozambique      63.41\n",
       "Togo            74.32\n",
       "                ...  \n",
       "Albania        532.73\n",
       "Netherlands    534.17\n",
       "Sweden         550.00\n",
       "Lithuania      555.01\n",
       "Finland        639.79\n",
       "Name: consumption, Length: 130, dtype: float64"
      ]
     },
     "execution_count": 9,
     "metadata": {},
     "output_type": "execute_result"
    }
   ],
   "source": [
    "#Write your code here\n",
    "df.groupby('country').consumption.sum().sort_values()"
   ]
  },
  {
   "cell_type": "markdown",
   "id": "ad5d327d",
   "metadata": {},
   "source": [
    "Which food category is the biggest contributor to the above country’s consumption total?"
   ]
  },
  {
   "cell_type": "code",
   "execution_count": null,
   "id": "7ff20280",
   "metadata": {},
   "outputs": [],
   "source": [
    "#Write your code here\n"
   ]
  },
  {
   "cell_type": "markdown",
   "id": "06cc17f9",
   "metadata": {},
   "source": [
    "What country produces the most kg C02 per person per year?"
   ]
  },
  {
   "cell_type": "code",
   "execution_count": null,
   "id": "ad1185fc",
   "metadata": {},
   "outputs": [],
   "source": [
    "#Write your code here\n"
   ]
  },
  {
   "cell_type": "markdown",
   "id": "c5b63652",
   "metadata": {},
   "source": [
    "Which food category is the biggest contributor to the above country’s C02 emissions?"
   ]
  },
  {
   "cell_type": "code",
   "execution_count": null,
   "id": "bb99f7e7",
   "metadata": {},
   "outputs": [],
   "source": [
    "#Write your code here\n"
   ]
  },
  {
   "cell_type": "markdown",
   "id": "aec741a8",
   "metadata": {},
   "source": [
    "What food category produces the most C02 per person per year across all countries?"
   ]
  },
  {
   "cell_type": "code",
   "execution_count": null,
   "id": "79351721",
   "metadata": {},
   "outputs": [],
   "source": [
    "#Write your code here\n"
   ]
  },
  {
   "cell_type": "markdown",
   "id": "3a641810",
   "metadata": {},
   "source": [
    "What food category is consumed the most across all countries per person per year? What food category is consumed the least across all countries?"
   ]
  },
  {
   "cell_type": "code",
   "execution_count": null,
   "id": "22aea12e",
   "metadata": {},
   "outputs": [],
   "source": [
    "#Write your code here\n"
   ]
  },
  {
   "cell_type": "markdown",
   "id": "d55a9b26",
   "metadata": {},
   "source": [
    "------------------------------------ End of Practice -----------------------------------------------"
   ]
  }
 ],
 "metadata": {
  "kernelspec": {
   "display_name": "Python 3 (ipykernel)",
   "language": "python",
   "name": "python3"
  },
  "language_info": {
   "codemirror_mode": {
    "name": "ipython",
    "version": 3
   },
   "file_extension": ".py",
   "mimetype": "text/x-python",
   "name": "python",
   "nbconvert_exporter": "python",
   "pygments_lexer": "ipython3",
   "version": "3.11.9"
  }
 },
 "nbformat": 4,
 "nbformat_minor": 5
}
