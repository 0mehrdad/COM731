{
 "cells": [
  {
   "cell_type": "markdown",
   "id": "f3345be6-48cc-44dd-ba23-60303fc51445",
   "metadata": {},
   "source": [
    "## main app "
   ]
  },
  {
   "cell_type": "code",
   "execution_count": 8,
   "id": "42deba6e-1067-4b65-b458-691ba4b4cf47",
   "metadata": {},
   "outputs": [],
   "source": [
    "import titanic_functions"
   ]
  },
  {
   "cell_type": "code",
   "execution_count": null,
   "id": "5dd81114-4604-49ba-a409-f79a63df2c2d",
   "metadata": {},
   "outputs": [
    {
     "name": "stdout",
     "output_type": "stream",
     "text": [
      "\n",
      "hello welcome to csv review \n",
      "\n",
      "   this application is for opening and checking information of any csv file you have\n",
      "\n",
      " \n",
      "   please choose one of these options below (simply put in the number and enter)\n",
      "\n",
      "       [0]Exit  \n",
      "       [1]Open csv file\n",
      "              \n"
     ]
    },
    {
     "name": "stdin",
     "output_type": "stream",
     "text": [
      "please enter a number in range (0,1) 1\n"
     ]
    },
    {
     "name": "stdout",
     "output_type": "stream",
     "text": [
      "\n",
      " welcome to my_file_reader. \n",
      " please enter the files name and press enter \n",
      "\n"
     ]
    },
    {
     "name": "stdin",
     "output_type": "stream",
     "text": [
      " selected_salaries.csv\n"
     ]
    },
    {
     "name": "stdout",
     "output_type": "stream",
     "text": [
      "\n",
      " Done!, here are the headings \n",
      "\n",
      "['rank', 'gender', 'salary']\n",
      "how many different features you want?\n"
     ]
    },
    {
     "name": "stdin",
     "output_type": "stream",
     "text": [
      "please enter a number in range (0,3) 2\n",
      "('\\n', 'please enter a name from list above') gender\n",
      "('\\n', 'please enter a name from list above') salary\n"
     ]
    },
    {
     "name": "stdout",
     "output_type": "stream",
     "text": [
      "\n",
      "Done!, now choose one of the options below (simply put in the number and enter)\n",
      "                \n",
      "                \n",
      "     [0]Exit \n",
      "     [1]Display \n",
      "     [2]Count \n",
      "\n"
     ]
    },
    {
     "name": "stdin",
     "output_type": "stream",
     "text": [
      "please enter a number in range (0,2) 1\n"
     ]
    },
    {
     "name": "stdout",
     "output_type": "stream",
     "text": [
      "\n",
      "choose one of the options below (simply put in the number and enter)\n",
      "     [0]Exit \n",
      "     [1]Display all\n",
      "     [2]Choose one and display\n",
      "\n"
     ]
    },
    {
     "name": "stdin",
     "output_type": "stream",
     "text": [
      "please enter a number in range (0,2) 2\n",
      "('\\n', 'please enter a name from list above') gender\n"
     ]
    },
    {
     "name": "stdout",
     "output_type": "stream",
     "text": [
      "['Male', 'Male', 'Male', 'Male', 'Male', 'Male', 'Male', 'Male', 'Male', 'Male', 'Male', 'Male', 'Male', 'Male', 'Male', 'Male', 'Male', 'Male', 'Male', 'Male', 'Male', 'Male', 'Male', 'Male', 'Male', 'Male', 'Male', 'Male', 'Male', 'Male', 'Male', 'Male', 'Male', 'Male', 'Male', 'Male', 'Male', 'Male', 'Male', 'Female', 'Female', 'Female', 'Female', 'Female', 'Female', 'Female', 'Female', 'Female', 'Female', 'Female', 'Female', 'Female', 'Female', 'Female', 'Female', 'Female', 'Female', 'Female', 'Female', 'Female', 'Female', 'Female', 'Female', 'Female', 'Female', 'Female', 'Female', 'Female', 'Female', 'Female', 'Female', 'Female', 'Female', 'Female', 'Female', 'Female', 'Female', 'Female']\n",
      "\n",
      "Done!, now choose one of the options below (simply put in the number and enter)\n",
      "                \n",
      "                \n",
      "     [0]Exit \n",
      "     [1]Display \n",
      "     [2]Count \n",
      "\n"
     ]
    },
    {
     "name": "stdin",
     "output_type": "stream",
     "text": [
      "please enter a number in range (0,2) 2\n"
     ]
    },
    {
     "name": "stdout",
     "output_type": "stream",
     "text": [
      "\n",
      "choose one of the options below (simply put in the number and enter)\n",
      "     [0]Exit \n",
      "     [1]Count numerical values (all >,<,= a number) \n",
      "     [2]Count words (gender,name,profesion)\n",
      "\n"
     ]
    },
    {
     "name": "stdin",
     "output_type": "stream",
     "text": [
      "please enter a number in range (0,2) 2\n"
     ]
    }
   ],
   "source": [
    "titanic_functions.menu()"
   ]
  },
  {
   "cell_type": "code",
   "execution_count": null,
   "id": "7aae2406-beda-44e8-bd61-5a47df3fc698",
   "metadata": {},
   "outputs": [],
   "source": []
  }
 ],
 "metadata": {
  "kernelspec": {
   "display_name": "COM731",
   "language": "python",
   "name": "com731"
  },
  "language_info": {
   "codemirror_mode": {
    "name": "ipython",
    "version": 3
   },
   "file_extension": ".py",
   "mimetype": "text/x-python",
   "name": "python",
   "nbconvert_exporter": "python",
   "pygments_lexer": "ipython3",
   "version": "3.10.14"
  }
 },
 "nbformat": 4,
 "nbformat_minor": 5
}
