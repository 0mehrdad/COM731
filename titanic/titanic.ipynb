{
 "cells": [
  {
   "cell_type": "markdown",
   "id": "fc81a521-19ca-4f1b-9681-d79972e217c2",
   "metadata": {},
   "source": [
    "# titanic simple version"
   ]
  },
  {
   "cell_type": "code",
   "execution_count": 4,
   "id": "1a7bbc49-b764-4868-9234-fc034c1a61e0",
   "metadata": {},
   "outputs": [
    {
     "name": "stdout",
     "output_type": "stream",
     "text": [
      "Loading data...Done!\n",
      "Successfully loaded 891 records.\n"
     ]
    }
   ],
   "source": [
    "import csv\n",
    "file_name = 'titanic.csv'\n",
    "records = []\n",
    "print ('Loading data...', end = '')\n",
    "with open (file_name,'r', encoding = 'UTF-8') as file :\n",
    "    headings = next(file)\n",
    "    file_reader = csv.reader (file)\n",
    "    for line in file_reader :\n",
    "        records.append (line)\n",
    "print ('Done!')\n",
    "print (f'Successfully loaded {len(records)} records.')\n"
   ]
  },
  {
   "cell_type": "markdown",
   "id": "c55defe1-e597-4687-a335-1bcc86eca176",
   "metadata": {},
   "source": [
    "# titanic better version"
   ]
  },
  {
   "cell_type": "code",
   "execution_count": 18,
   "id": "95b87ae2-2a4f-4fc7-ad77-9d076b01778b",
   "metadata": {},
   "outputs": [
    {
     "name": "stdin",
     "output_type": "stream",
     "text": [
      "Hello please enter the name of the file:  tittanik\n"
     ]
    },
    {
     "name": "stdout",
     "output_type": "stream",
     "text": [
      "Loading data...\n",
      "[Errno 2] No such file or directory: 'tittanik'\n"
     ]
    },
    {
     "name": "stdin",
     "output_type": "stream",
     "text": [
      "sorry tittanik could not be found please make sure your file location is correct and enter again:  tti\n"
     ]
    },
    {
     "name": "stdout",
     "output_type": "stream",
     "text": [
      "[Errno 2] No such file or directory: 'tti'\n"
     ]
    },
    {
     "name": "stdin",
     "output_type": "stream",
     "text": [
      "sorry tti could not be found please make sure your file location is correct and enter again:  titanec\n"
     ]
    },
    {
     "name": "stdout",
     "output_type": "stream",
     "text": [
      "[Errno 2] No such file or directory: 'titanec'\n"
     ]
    },
    {
     "name": "stdin",
     "output_type": "stream",
     "text": [
      "sorry titanec could not be found please make sure your file location is correct and enter again:  titanicsv\n"
     ]
    },
    {
     "name": "stdout",
     "output_type": "stream",
     "text": [
      "I think you mean \"titanic.csv\" file \n",
      "Done!\n",
      "Successfully loaded 891 records.\n"
     ]
    }
   ],
   "source": [
    "import csv\n",
    "records = []\n",
    "users_mistakes_titanic = ['titanic.csv','titanic','titanik','titanik.csv','titaniccsv','titanicsv','titani.csv','titanek.csv']\n",
    "file_name = input('Hello please enter the name of the file: ')\n",
    "print ('Loading data...')\n",
    "while True:\n",
    "    try :\n",
    "        if file_name.lower().strip() in users_mistakes_titanic :\n",
    "            if file_name != 'titanic.csv':\n",
    "                print ('I think you mean \"titanic.csv\" file ')\n",
    "            file_name = 'titanic.csv'       \n",
    "        with open (file_name , 'r' , encoding = 'UTF-8') as file:\n",
    "            headings = next (file)\n",
    "            file_reader = csv.reader (file)\n",
    "            for line in file_reader:\n",
    "                records.append(line)\n",
    "        print ('Done!')\n",
    "        print (f'Successfully loaded {len(records)} records.')\n",
    "        break\n",
    "    except Exception as e :\n",
    "        file_name = input (f'sorry {file_name} could not be found please make sure your file location is correct and enter again: ')\n"
   ]
  },
  {
   "cell_type": "markdown",
   "id": "439e23c8-35b3-43cc-b73f-79d96900ee16",
   "metadata": {},
   "source": [
    "# function for opening files "
   ]
  },
  {
   "cell_type": "code",
   "execution_count": 62,
   "id": "398076c3-4626-4cae-804e-b2089c66bfd9",
   "metadata": {},
   "outputs": [],
   "source": [
    "def my_file_reader ( encoding = 'UTF-8' , user_mistakes = [] ) :\n",
    "    print ('welcome to my_file_reader.','\\n','please enter the files name and press enter')\n",
    "    file_name = input ()\n",
    "    records = []\n",
    "    while True:\n",
    "        try :\n",
    "            if file_name.lower().strip() in user_mistakes :\n",
    "                if file_name != user_mistakes[0]:\n",
    "                    print (f'I think you mean {user_mistakes[0]} file ')\n",
    "                file_name = user_mistakes[0]       \n",
    "            with open (file_name , 'r' , encoding = encoding) as file:\n",
    "                file_reader = csv.reader (file)\n",
    "                for line in file_reader:\n",
    "                    records.append(line)\n",
    "            print ('Done!')\n",
    "            print (f'Successfully loaded {len(records)} records.')\n",
    "            break\n",
    "        except FileNotFoundError:\n",
    "            file_name = input (f'sorry {file_name} could not be found please make sure your file location is correct and enter again: ')\n",
    "        \n",
    "    return records"
   ]
  },
  {
   "cell_type": "code",
   "execution_count": 95,
   "id": "7a042dc0-56a1-4dc2-831e-991dbd05f197",
   "metadata": {},
   "outputs": [],
   "source": [
    "def my_file_manager (file):\n",
    "    heading = file [0]\n",
    "    file = file[1:]\n",
    "    len_heading = len(heading)\n",
    "    print ('welcome to file manager')\n",
    "    print ('here are the names of the features ')\n",
    "    print (heading)\n",
    "    while True :\n",
    "        number =input('Please tell me how many features you want to see:')\n",
    "        try :\n",
    "            number = int(number)\n",
    "            if number > len_heading or number <0:\n",
    "                print (f'{number} is not in range of the features in the file, try a number between (0 & {len_heading})')\n",
    "            else :\n",
    "                break\n",
    "        except ValueError:\n",
    "            print (f'{number} is not a number, please enter a number')\n",
    "    if number != 0:\n",
    "        features = {}\n",
    "        for i in range (number):\n",
    "            while True :\n",
    "                feature_name = input ('please input a feature name you want:')\n",
    "                feature_items = []\n",
    "                if feature_name in heading :\n",
    "                    feature_position = heading.index(feature_name)\n",
    "                    for j in file : \n",
    "                        feature_items.append (j[feature_position])\n",
    "                    features[feature_name] = feature_items\n",
    "                    break\n",
    "                else :\n",
    "                    print ('i cant find this feature please try again')\n",
    "    return features"
   ]
  },
  {
   "cell_type": "code",
   "execution_count": 96,
   "id": "3256bfbf-f02a-47f4-8d68-77ba3188ca9d",
   "metadata": {},
   "outputs": [
    {
     "name": "stdout",
     "output_type": "stream",
     "text": [
      "welcome to my_file_reader. \n",
      " please enter the files name and press enter\n"
     ]
    },
    {
     "name": "stdin",
     "output_type": "stream",
     "text": [
      " titanic\n"
     ]
    },
    {
     "name": "stdout",
     "output_type": "stream",
     "text": [
      "I think you mean titanic.csv file \n",
      "Done!\n",
      "Successfully loaded 892 records.\n"
     ]
    }
   ],
   "source": [
    "if __name__ == '__main__':\n",
    "    \n",
    "    users_mistakes_titanic = ['titanic.csv','titanic','titanik','titanik.csv','titaniccsv','titanicsv','titani.csv','titanek.csv']\n",
    "    r = my_file_reader (user_mistakes = users_mistakes_titanic)"
   ]
  },
  {
   "cell_type": "code",
   "execution_count": 98,
   "id": "23911921-6654-4778-881f-9e27dd7e11e5",
   "metadata": {},
   "outputs": [
    {
     "name": "stdout",
     "output_type": "stream",
     "text": [
      "welcome to file manager\n",
      "here are the names of the features \n",
      "['PassengerId', 'Survived', 'Pclass', 'Name', 'Gender', 'Age', 'SibSp', 'Parch', 'Ticket', 'Fare', 'Cabin', 'Embarked']\n"
     ]
    },
    {
     "name": "stdin",
     "output_type": "stream",
     "text": [
      "Please tell me how many features you want to see: 1\n"
     ]
    },
    {
     "name": "stdout",
     "output_type": "stream",
     "text": [
      "1\n"
     ]
    },
    {
     "name": "stdin",
     "output_type": "stream",
     "text": [
      "please input a feature name you want: Name\n"
     ]
    }
   ],
   "source": [
    "data = my_file_manager (r)"
   ]
  },
  {
   "cell_type": "code",
   "execution_count": null,
   "id": "1d642496-b79d-4b6b-895e-c3466f76a58d",
   "metadata": {},
   "outputs": [],
   "source": [
    "def my_data_analiser (data):\n",
    "    "
   ]
  },
  {
   "cell_type": "code",
   "execution_count": 106,
   "id": "1ac533ee-9535-4dbe-9ae4-0eb35128fba8",
   "metadata": {},
   "outputs": [],
   "source": [
    "def number_check (range , massege = '__default__' ) :\n",
    "    if massege == '__default__' :\n",
    "        massege = f'please enter a number in range (0,{range})'\n",
    "    while True :\n",
    "        number =input(massege)\n",
    "        try :\n",
    "            number = int(number)\n",
    "            if number > range or number <0:\n",
    "                print (f'{number} is not in range, try a number between (0 ,{range})')\n",
    "            else :\n",
    "                break\n",
    "        except ValueError:\n",
    "            print (f'{number} is not a number, please enter a number')\n",
    "    return number"
   ]
  },
  {
   "cell_type": "code",
   "execution_count": null,
   "id": "4e871ab4-62eb-499a-90de-8ad663b93680",
   "metadata": {},
   "outputs": [],
   "source": []
  }
 ],
 "metadata": {
  "kernelspec": {
   "display_name": "COM731",
   "language": "python",
   "name": "com731"
  },
  "language_info": {
   "codemirror_mode": {
    "name": "ipython",
    "version": 3
   },
   "file_extension": ".py",
   "mimetype": "text/x-python",
   "name": "python",
   "nbconvert_exporter": "python",
   "pygments_lexer": "ipython3",
   "version": "3.10.14"
  }
 },
 "nbformat": 4,
 "nbformat_minor": 5
}
