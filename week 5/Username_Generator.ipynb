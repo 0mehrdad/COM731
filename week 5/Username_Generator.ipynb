{
 "cells": [
  {
   "cell_type": "markdown",
   "id": "d83b1898",
   "metadata": {},
   "source": [
    "# A Username Generator Program"
   ]
  },
  {
   "cell_type": "markdown",
   "id": "11afbeb9",
   "metadata": {},
   "source": [
    "# Solution 1"
   ]
  },
  {
   "cell_type": "code",
   "execution_count": null,
   "id": "e144cbcd",
   "metadata": {},
   "outputs": [],
   "source": [
    "# create an empty list \n",
    "colour_list = []\n",
    "number_list = []\n",
    "\n",
    "# ask a user to input 5 name and add into colour_list\n",
    "for i in range(5):\n",
    "    colour = input(\"Enter the colour name: \")\n",
    "    colour_list.append(colour)\n",
    "print(f\"The colour list is {colour_list}\")\n",
    "\n",
    "# ask a user to input 5 integer and add into number_list\n",
    "for i in range(5):\n",
    "    number = int(input(\"Enter the number from 10-50: \"))\n",
    "    while number < 10 or number > 50:\n",
    "        print(\"Your input is out of range, please input again: \")\n",
    "        number = int(input(\"Enter the number from 10-50: \"))\n",
    "    number_list.append(number)\n",
    "\n",
    "print(f\"The number list is {number_list}\")\n",
    "\n",
    "# create a random username from the two list above\n",
    "random_username = colour_list[3]+colour_list[2]+colour_list[1]\n",
    "\n",
    "#find summation of the element in the number list\n",
    "total = 0\n",
    "for number in number_list:\n",
    "    total = total+number\n",
    "    \n",
    "print(f\"The generated username: {random_username+str(total)}\")"
   ]
  },
  {
   "cell_type": "markdown",
   "id": "0a4b79d3",
   "metadata": {},
   "source": [
    "# Solution 2: create a username using random module"
   ]
  },
  {
   "cell_type": "code",
   "execution_count": null,
   "id": "5996beb0",
   "metadata": {},
   "outputs": [],
   "source": [
    "import random as rnd\n",
    "\n",
    "# create an empty list \n",
    "colour_list = []\n",
    "number_list = []\n",
    "count_name = 0\n",
    "count_num =0\n",
    "\n",
    "name=int(input(\"Enter a number of colour name you want to receive: \"))\n",
    "num = int(input(\"Enter a number of integer you want to receive: \"))\n",
    "# ask a user to input colour name and add into colour_list\n",
    "while count_name < name:\n",
    "    colour = input(\"Enter the colour name: \")\n",
    "    colour_list.append(colour)\n",
    "    count_name=count_name+1\n",
    "\n",
    "print(f\"The colour list is {colour_list}\")\n",
    "\n",
    "# ask a user to input 5 integer and add into number_list\n",
    "while count_num < num:\n",
    "    number = int(input(\"Enter the number from 10-50: \"))\n",
    "    while number < 10 or number > 50:\n",
    "        print(\"Your input is out of range, please input again: \")\n",
    "        number = int(input(\"Enter the number from 10-50: \"))\n",
    "    number_list.append(number)\n",
    "    count_num=count_num+1\n",
    "\n",
    "print(f\"The number list is {number_list}\")\n",
    "\n",
    "# create a random username from the two list above\n",
    "random_username = colour_list[rnd.randrange(len(colour_list))]+colour_list[rnd.randrange(len(colour_list))]+colour_list[rnd.randrange(len(colour_list))]\n",
    "\n",
    "#find summation of the element in the number list\n",
    "total = 0\n",
    "for number in number_list:\n",
    "    total = total+number\n",
    "    \n",
    "print(f\"The generated username: {random_username+str(total)}\")"
   ]
  }
 ],
 "metadata": {
  "kernelspec": {
   "display_name": "Python 3 (ipykernel)",
   "language": "python",
   "name": "python3"
  },
  "language_info": {
   "codemirror_mode": {
    "name": "ipython",
    "version": 3
   },
   "file_extension": ".py",
   "mimetype": "text/x-python",
   "name": "python",
   "nbconvert_exporter": "python",
   "pygments_lexer": "ipython3",
   "version": "3.11.9"
  }
 },
 "nbformat": 4,
 "nbformat_minor": 5
}
