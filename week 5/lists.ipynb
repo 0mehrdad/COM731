{
 "cells": [
  {
   "cell_type": "markdown",
   "id": "e7288b70-f46a-479b-92e3-6f6c92b98a15",
   "metadata": {},
   "source": [
    "\n",
    "## Activity: simple_list"
   ]
  },
  {
   "cell_type": "code",
   "execution_count": 4,
   "id": "490c4f80-cb13-4dc9-9776-6702ef29b120",
   "metadata": {},
   "outputs": [
    {
     "name": "stdout",
     "output_type": "stream",
     "text": [
      "['Move Forward', 'Move Backward', 'Turn Left', 'Turn Right']\n"
     ]
    }
   ],
   "source": [
    "directions = ['Move Forward', 'Move Backward', 'Turn Left', 'Turn Right']\n",
    "print (directions)"
   ]
  },
  {
   "cell_type": "code",
   "execution_count": 6,
   "id": "12f45118-49ee-4d9c-9466-f0e899469b87",
   "metadata": {},
   "outputs": [
    {
     "name": "stdout",
     "output_type": "stream",
     "text": [
      "moving...\n",
      "Move Forward for 10 steps\n",
      "Move Backward for 5 steps\n",
      "Move Left for 3 steps\n",
      "Move Right for 1 steps\n"
     ]
    }
   ],
   "source": [
    "paths = [[\"Move Forward\", 10], [\"Move Backward\", 5] , [\"Move Left\", 3] , [\"Move Right\", 1]]\n",
    "print ('moving...')\n",
    "for path in paths:\n",
    "    print(f\"{path[0]} for {path[1]} steps\")"
   ]
  },
  {
   "cell_type": "code",
   "execution_count": null,
   "id": "24c80c53-5b46-40de-a6a8-1a256ba8b000",
   "metadata": {},
   "outputs": [],
   "source": []
  }
 ],
 "metadata": {
  "kernelspec": {
   "display_name": "COM731",
   "language": "python",
   "name": "com731"
  },
  "language_info": {
   "codemirror_mode": {
    "name": "ipython",
    "version": 3
   },
   "file_extension": ".py",
   "mimetype": "text/x-python",
   "name": "python",
   "nbconvert_exporter": "python",
   "pygments_lexer": "ipython3",
   "version": "3.10.14"
  }
 },
 "nbformat": 4,
 "nbformat_minor": 5
}
