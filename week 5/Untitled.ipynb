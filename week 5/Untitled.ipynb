{
 "cells": [
  {
   "cell_type": "code",
   "execution_count": 3,
   "id": "f9de4c3a-c2b9-4954-bee1-324d4588d365",
   "metadata": {},
   "outputs": [
    {
     "name": "stdin",
     "output_type": "stream",
     "text": [
      "please enter a color name:  r\n",
      "please enter a color name:  t\n",
      "please enter a color name:  y\n",
      "please enter a color name:  hf\n",
      "please enter a color name:  sad\n"
     ]
    },
    {
     "name": "stdout",
     "output_type": "stream",
     "text": [
      "the names are ['r', 't', 'y', 'hf', 'sad']\n"
     ]
    },
    {
     "name": "stdin",
     "output_type": "stream",
     "text": [
      "please enter a number between 10-50 22\n",
      "please enter a number between 10-50 22\n",
      "please enter a number between 10-50 23\n",
      "please enter a number between 10-50 45\n",
      "please enter a number between 10-50 6\n"
     ]
    },
    {
     "name": "stdout",
     "output_type": "stream",
     "text": [
      "the numbers are [22, 22, 23, 45, 6]\n",
      "the generated username is tyhf118\n"
     ]
    }
   ],
   "source": [
    "names = []\n",
    "for i in range(5):\n",
    "    names.append(input('please enter a color name: '))\n",
    "print (f\"the names are {names}\")\n",
    "num = [] \n",
    "for i in range(5):\n",
    "    num.append(int(input('please enter a number between 10-50')))\n",
    "print (f\"the numbers are {num}\")\n",
    "user=names[1]+names[2]+names[3]\n",
    "nums= 0\n",
    "for i in num:\n",
    "    nums+=i\n",
    "print (f\"the generated username is {user}{nums}\")"
   ]
  },
  {
   "cell_type": "code",
   "execution_count": null,
   "id": "0754e5c2-1955-45c2-95c1-2d91f03b8415",
   "metadata": {},
   "outputs": [],
   "source": []
  }
 ],
 "metadata": {
  "kernelspec": {
   "display_name": "COM731",
   "language": "python",
   "name": "com731"
  },
  "language_info": {
   "codemirror_mode": {
    "name": "ipython",
    "version": 3
   },
   "file_extension": ".py",
   "mimetype": "text/x-python",
   "name": "python",
   "nbconvert_exporter": "python",
   "pygments_lexer": "ipython3",
   "version": "3.10.14"
  }
 },
 "nbformat": 4,
 "nbformat_minor": 5
}
