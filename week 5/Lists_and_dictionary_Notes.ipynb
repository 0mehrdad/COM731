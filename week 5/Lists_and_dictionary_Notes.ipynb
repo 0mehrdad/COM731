{
 "cells": [
  {
   "cell_type": "markdown",
   "id": "ae56af3f",
   "metadata": {},
   "source": [
    "# Lists and Dictionaries"
   ]
  },
  {
   "cell_type": "markdown",
   "id": "afbe036d",
   "metadata": {},
   "source": [
    "# Reference Books"
   ]
  },
  {
   "cell_type": "markdown",
   "id": "f0697425",
   "metadata": {},
   "source": [
    "- <font size=\"3\">Fundametals of First Programs 2nd edition: Chapter 5</font>\n",
    "- <font size=\"3\">Programming with Python: Module 8</font>\n",
    "- <font size=\"3\">Starting out with Python: Chapter 9</font>\n",
    "- <font size=\"3\">Intro to Python for Computer Science and Data Science: Chapter 5 and 6</font>"
   ]
  },
  {
   "cell_type": "markdown",
   "id": "3e4aeae7",
   "metadata": {},
   "source": [
    "<font size=\"5\">**Learning Objectives**</font><br>\n",
    "<font size=\"3\">After this session, you should be able to:</font>\n",
    "- <font size=\"3\">declare and initialise lists</font>\n",
    "- <font size=\"3\">access and manipulate  items in the lists</font>\n",
    "- <font size=\"3\">describe the difference between the keys of a dictionary and the values</font>\n",
    "- <font size=\"3\">initialise a dictionary</font>\n",
    "- <font size=\"3\">access entries in the dictionaries</font>\n",
    "- <font size=\"3\">manipulate dictionaries e.g., display values, keys, add a new key and value pair, remove a key</font>"
   ]
  },
  {
   "cell_type": "markdown",
   "id": "f44fff9c",
   "metadata": {},
   "source": [
    "***"
   ]
  },
  {
   "cell_type": "markdown",
   "id": "1962e6ef",
   "metadata": {},
   "source": [
    "# List"
   ]
  },
  {
   "cell_type": "markdown",
   "id": "a9bf0917",
   "metadata": {},
   "source": [
    "- <font size = \"3\"><b>List</b> is a data collection that stores a <span style=\"color: blue;\">collection of elements</span> in a specific order or location</font>"
   ]
  },
  {
   "cell_type": "markdown",
   "id": "af4266a4-9f51-46fa-bca0-4f756120032f",
   "metadata": {},
   "source": [
    "## Initialise a list\n",
    "- <font size=\"3\">A list has <b>a name</b> and uses <b>a single index</b> to identify list elements</font>\n",
    "- <font size=\"3\">When naming a list, use the same conventions as when naming a variable</font>\n",
    "- <font size=\"3\"><b>Syntax to declare an empty list:</b></font><br>\n",
    "&emsp;&emsp;&emsp;&emsp;<font size=\"3\"> list_variable_name = <b>[]</b><br>\n",
    "- <font size=\"3\"><b>Syntax to declare and initialise a list:</b></font><br>\n",
    "&emsp;&emsp;&emsp;&nbsp;&nbsp;<font size=\"3\"> list_variable_name = [element-1, element-2, ..., element-n]"
   ]
  },
  {
   "cell_type": "code",
   "execution_count": 1,
   "id": "334bc5f2-0a33-49c8-b1ee-0ccaba22336b",
   "metadata": {},
   "outputs": [],
   "source": [
    "empty_list1 = []"
   ]
  },
  {
   "cell_type": "code",
   "execution_count": 2,
   "id": "f36f7453-4567-43a7-a08c-8a2d2c334760",
   "metadata": {},
   "outputs": [
    {
     "name": "stdout",
     "output_type": "stream",
     "text": [
      "[]\n"
     ]
    }
   ],
   "source": [
    "# declare empty list\n",
    "empty_list1 = []\n",
    "\n",
    "# display empty lists\n",
    "print(empty_list1)"
   ]
  },
  {
   "cell_type": "code",
   "execution_count": 3,
   "id": "564db358-d3fa-45f4-a867-e1b0d87f998e",
   "metadata": {},
   "outputs": [
    {
     "name": "stdout",
     "output_type": "stream",
     "text": [
      "['English', 'Mandarin', 'Hindi', 'Spanish', 'French']\n"
     ]
    }
   ],
   "source": [
    "# declare and initial a list of top 5 spoken languages\n",
    "languages= [\"English\",\"Mandarin\", \"Hindi\", \"Spanish\",\"French\"]\n",
    "\n",
    "# display a list\n",
    "print(languages)"
   ]
  },
  {
   "cell_type": "code",
   "execution_count": null,
   "id": "87806264-defc-4e41-9702-efed3ed65c50",
   "metadata": {},
   "outputs": [],
   "source": [
    "# declare and initial a list of employee\n",
    "employee =[\"Alicia\",26,\"Sales\"]\n",
    "\n",
    "# display a list\n",
    "print(employee)"
   ]
  },
  {
   "cell_type": "markdown",
   "id": "6ebc9901-3b77-457b-88cb-eebb3c37d0d0",
   "metadata": {},
   "source": [
    "# List operations"
   ]
  },
  {
   "cell_type": "markdown",
   "id": "36fae050",
   "metadata": {},
   "source": [
    "## 1. Access Elements of a List\n",
    "- <font size=\"3\">Reference a list element by writing the list’s name followed by the element’s index enclosed in [] (the subscription operator).</font>"
   ]
  },
  {
   "cell_type": "code",
   "execution_count": 7,
   "id": "598ed519",
   "metadata": {},
   "outputs": [
    {
     "name": "stdout",
     "output_type": "stream",
     "text": [
      "The element at index 3 of even_numbers list is 8\n",
      "The element at index -3 of even_numbers list is 6\n",
      "------------------------------------------------------------------\n",
      "The element at index 1 of country list is Mandarin\n",
      "The element at index -1 of country list is French\n"
     ]
    }
   ],
   "source": [
    "# declare and initial a list of integer\n",
    "even_numbers = [2, 4, 6, 8, 10]\n",
    "\n",
    "# declare and initial a list of top 5 spoken languages\n",
    "languages= [\"English\",\"Mandarin\", \"Hindi\", \"Spanish\",\"French\"]\n",
    "\n",
    "# display a single element specify by index\n",
    "print(f\"The element at index 3 of even_numbers list is {even_numbers[3]}\")\n",
    "print(f\"The element at index -3 of even_numbers list is {even_numbers[-3]}\")\n",
    "print(\"------------------------------------------------------------------\")\n",
    "print(f\"The element at index 1 of country list is {languages[1]}\")\n",
    "print(f\"The element at index -1 of country list is {languages[-1]}\")"
   ]
  },
  {
   "cell_type": "markdown",
   "id": "8d90ea6e",
   "metadata": {},
   "source": [
    "<div class=\"alert alert-block alert-danger\">\n",
    "<b>Index errors:</b><br>\n",
    "    <ul>\n",
    "    <li>Using an index value that is too large for the list produces an index error or a runtime warning</li>\n",
    "    <li>Index errors are sometimes referred to as boundary errors, out-of-bounds exceptions, or subscript errors</li>\n",
    "    </ul>\n",
    "</div>"
   ]
  },
  {
   "cell_type": "markdown",
   "id": "38588452",
   "metadata": {},
   "source": [
    "### Index errors exmaple"
   ]
  },
  {
   "cell_type": "code",
   "execution_count": 8,
   "id": "d27758e2",
   "metadata": {},
   "outputs": [
    {
     "ename": "IndexError",
     "evalue": "list index out of range",
     "output_type": "error",
     "traceback": [
      "\u001b[1;31m---------------------------------------------------------------------------\u001b[0m",
      "\u001b[1;31mIndexError\u001b[0m                                Traceback (most recent call last)",
      "Cell \u001b[1;32mIn[8], line 5\u001b[0m\n\u001b[0;32m      2\u001b[0m even_numbers \u001b[38;5;241m=\u001b[39m [\u001b[38;5;241m2\u001b[39m, \u001b[38;5;241m4\u001b[39m, \u001b[38;5;241m6\u001b[39m, \u001b[38;5;241m8\u001b[39m, \u001b[38;5;241m10\u001b[39m]\n\u001b[0;32m      4\u001b[0m index \u001b[38;5;241m=\u001b[39m \u001b[38;5;241m6\u001b[39m\n\u001b[1;32m----> 5\u001b[0m \u001b[38;5;28mprint\u001b[39m(\u001b[38;5;124mf\u001b[39m\u001b[38;5;124m\"\u001b[39m\u001b[38;5;124mThe element at index \u001b[39m\u001b[38;5;132;01m{\u001b[39;00mindex\u001b[38;5;132;01m}\u001b[39;00m\u001b[38;5;124m of numbers_list is \u001b[39m\u001b[38;5;132;01m{\u001b[39;00meven_numbers[index]\u001b[38;5;132;01m}\u001b[39;00m\u001b[38;5;124m\"\u001b[39m)\n",
      "\u001b[1;31mIndexError\u001b[0m: list index out of range"
     ]
    }
   ],
   "source": [
    "# declare and initial a list of integer\n",
    "even_numbers = [2, 4, 6, 8, 10]\n",
    "\n",
    "index = 6\n",
    "print(f\"The element at index {index} of numbers_list is {even_numbers[index]}\")"
   ]
  },
  {
   "cell_type": "markdown",
   "id": "c295178d",
   "metadata": {},
   "source": [
    "### Determine a List’s Length"
   ]
  },
  {
   "cell_type": "code",
   "execution_count": 9,
   "id": "e2119bf8",
   "metadata": {},
   "outputs": [
    {
     "data": {
      "text/plain": [
       "5"
      ]
     },
     "execution_count": 9,
     "metadata": {},
     "output_type": "execute_result"
    }
   ],
   "source": [
    "languages= [\"English\",\"Mandarin\", \"Hindi\", \"Spanish\",\"French\"]\n",
    "len(languages)"
   ]
  },
  {
   "cell_type": "markdown",
   "id": "3e3edd6d",
   "metadata": {},
   "source": [
    "## 2. Traverse a list\n",
    "- <font size=\"3\"><b>Traversing a list</b>: accessing each element in a list as a sequence order</font>\n",
    "- <font size=\"3\">You can traverse a list to display every element, count the total number of elements, search for an element, or sum the elements</font>\n",
    "- <font size=\"3\">Two options for traversing a list:</font>\n",
    "    - <font size=\"3\"><b>Index-based</b> traversal requires a loop counter variable</font>\n",
    "    - <font size=\"3\"><b>Element-based</b> traversal uses the list itself as the iterative sequence</font>"
   ]
  },
  {
   "cell_type": "markdown",
   "id": "f28aa9d8",
   "metadata": {},
   "source": [
    "### Traverse a list using index-based example"
   ]
  },
  {
   "cell_type": "code",
   "execution_count": 12,
   "id": "9a345320",
   "metadata": {},
   "outputs": [
    {
     "name": "stdout",
     "output_type": "stream",
     "text": [
      "index: 0, even_numbers[0]: 2\n",
      "index: 1, even_numbers[1]: 4\n",
      "index: 2, even_numbers[2]: 6\n",
      "index: 3, even_numbers[3]: 8\n",
      "index: 4, even_numbers[4]: 10\n"
     ]
    }
   ],
   "source": [
    "# declare and initial a list of integer\n",
    "even_numbers = [2, 4, 6, 8, 10]\n",
    "\n",
    "# traverse through an even numbers list using a loop counter --> while loop\n",
    "index = 0\n",
    "while index < len(even_numbers):\n",
    "    print(f\"index: {index}, even_numbers[{index}]: {even_numbers[index]}\")\n",
    "    index = index+1 "
   ]
  },
  {
   "cell_type": "markdown",
   "id": "92064905",
   "metadata": {},
   "source": [
    "### Traverse a list using element-based example"
   ]
  },
  {
   "cell_type": "code",
   "execution_count": 13,
   "id": "7faa2bc1",
   "metadata": {},
   "outputs": [
    {
     "name": "stdout",
     "output_type": "stream",
     "text": [
      "Language: English\n",
      "Language: Mandarin\n",
      "Language: Hindi\n",
      "Language: Spanish\n",
      "Language: French\n"
     ]
    }
   ],
   "source": [
    "# declare and initial a list of top 5 spoken languages\n",
    "languages= [\"English\",\"Mandarin\", \"Hindi\", \"Spanish\",\"French\"]\n",
    "\n",
    "# traverse through each element in a list using the iterative sequence --> for loop\n",
    "for language in languages:\n",
    "    print(f\"Language: {language}\")"
   ]
  },
  {
   "cell_type": "markdown",
   "id": "9231aec8",
   "metadata": {},
   "source": [
    "## 3. Add an element into a list\n",
    "- <font size=\"3\">With Python, you can create an empty list and then <span style=\"color: blue;\"><b>append</b></span> elements into a list</font>\n",
    "- <font size=\"3\"><b>Syntax</b> for the append() method:</font><br>\n",
    "&emsp;&emsp;&emsp;&emsp;<font size=\"3\"> list_variable_name.append(value)<br>\n",
    "- <font size=\"3\">Two options for telling the program when to stop appending list items: </font>\n",
    "    - <font size=\"3\">Use a known amount, i.e., specify the number of elements to store ahead of time, either within the program or as another input statement</font>\n",
    "    - <font size=\"3\">Use sentinel values, or values that signal that the user is done with input</font>"
   ]
  },
  {
   "cell_type": "markdown",
   "id": "01ad731a",
   "metadata": {},
   "source": [
    "### Add element to a list: a know amount"
   ]
  },
  {
   "cell_type": "code",
   "execution_count": 15,
   "id": "607380c1",
   "metadata": {},
   "outputs": [
    {
     "name": "stdin",
     "output_type": "stream",
     "text": [
      "Enter number 1:  7\n",
      "Enter number 2:  4\n",
      "Enter number 3:  5\n",
      "Enter number 4:  9\n",
      "Enter number 5:  2\n"
     ]
    },
    {
     "name": "stdout",
     "output_type": "stream",
     "text": [
      "[7, 4, 5, 9, 2]\n"
     ]
    }
   ],
   "source": [
    "# create an empty list\n",
    "some_numbers = []\n",
    "\n",
    "# specify the number of elements to store in a list\n",
    "for i in range (5):\n",
    "    number = int(input(f\"Enter number {i+1}: \"))\n",
    "    some_numbers.append(number)\n",
    "\n",
    "# display the input that store in a list \n",
    "print(some_numbers)"
   ]
  },
  {
   "cell_type": "markdown",
   "id": "51981389",
   "metadata": {},
   "source": [
    "### Add element to a list: a sentinel value"
   ]
  },
  {
   "cell_type": "code",
   "execution_count": 16,
   "id": "31c35ec2",
   "metadata": {},
   "outputs": [
    {
     "name": "stdin",
     "output_type": "stream",
     "text": [
      "Enter numbers or -1 to quit:  -1\n"
     ]
    },
    {
     "name": "stdout",
     "output_type": "stream",
     "text": [
      "[]\n"
     ]
    }
   ],
   "source": [
    "# create an empty list\n",
    "some_numbers = []\n",
    "\n",
    "# accpet a value from a user or signal value to stop\n",
    "number = int(input(f\"Enter numbers or -1 to quit: \"))\n",
    "\n",
    "# check if the input value is not -1. If it is, continue to receive new values; otherwise, stop accepting values.\n",
    "while number != -1:\n",
    "    some_numbers.append(number)\n",
    "    number = int(input())\n",
    "    \n",
    "# display the accepted value\n",
    "print(some_numbers)"
   ]
  },
  {
   "cell_type": "markdown",
   "id": "6eea808a",
   "metadata": {},
   "source": [
    "***"
   ]
  },
  {
   "cell_type": "markdown",
   "id": "d2421c23",
   "metadata": {},
   "source": [
    "## 4. Concatenate"
   ]
  },
  {
   "cell_type": "markdown",
   "id": "4aa49fef",
   "metadata": {},
   "source": [
    "- <font size=\"3\">join two things together</font>\n",
    "- <font size=\"3\">The <span style=\"color:blue;\"><b>‘+’</b></span> operator can be used to concatenate two lists\n",
    "</font>"
   ]
  },
  {
   "cell_type": "markdown",
   "id": "e6817232",
   "metadata": {},
   "source": [
    "<div class=\"alert alert-block alert-danger\">\n",
    "<b>Warning:</b> Cannot concatenate a list with another data type, such as a number</div>"
   ]
  },
  {
   "cell_type": "markdown",
   "id": "7e8865db",
   "metadata": {},
   "source": [
    "### concatenate example"
   ]
  },
  {
   "cell_type": "code",
   "execution_count": 17,
   "id": "030327c5",
   "metadata": {},
   "outputs": [
    {
     "name": "stdout",
     "output_type": "stream",
     "text": [
      "[2, 4, 6, 8, 10, 'English', 'Mandarin', 'Hindi', 'Spanish', 'French']\n"
     ]
    }
   ],
   "source": [
    "even_numbers = [2, 4, 6, 8, 10]\n",
    "languages= [\"English\",\"Mandarin\", \"Hindi\", \"Spanish\",\"French\"]\n",
    "\n",
    "# concatenate two lists\n",
    "new_lists = even_numbers+languages\n",
    "\n",
    "# display a new list\n",
    "print(new_lists)"
   ]
  },
  {
   "cell_type": "markdown",
   "id": "234aba6d",
   "metadata": {},
   "source": [
    "### concatenate error example"
   ]
  },
  {
   "cell_type": "code",
   "execution_count": 22,
   "id": "b49d1f01",
   "metadata": {},
   "outputs": [
    {
     "name": "stdout",
     "output_type": "stream",
     "text": [
      "[2, 4, 6, 8, 10, 12]\n"
     ]
    }
   ],
   "source": [
    "even_numbers = [2, 4, 6, 8, 10]\n",
    "\n",
    "even_numbers+=[12]\n",
    "\n",
    "print(even_numbers)"
   ]
  },
  {
   "cell_type": "code",
   "execution_count": 19,
   "id": "8dd52eb6",
   "metadata": {},
   "outputs": [
    {
     "name": "stdout",
     "output_type": "stream",
     "text": [
      "[2, 4, 6, 8, 10, '12']\n"
     ]
    }
   ],
   "source": [
    "# Fix the error\n",
    "even_numbers = [2, 4, 6, 8, 10]\n",
    "\n",
    "even_numbers.append('12')\n",
    "\n",
    "print(even_numbers)"
   ]
  },
  {
   "cell_type": "code",
   "execution_count": 20,
   "id": "7988476b-bed2-4fc5-851b-6615915bce93",
   "metadata": {},
   "outputs": [
    {
     "data": {
      "text/plain": [
       "[2, 4, 6, 8, 10, '12']"
      ]
     },
     "execution_count": 20,
     "metadata": {},
     "output_type": "execute_result"
    }
   ],
   "source": [
    "even_numbers"
   ]
  },
  {
   "cell_type": "markdown",
   "id": "89ba899a",
   "metadata": {},
   "source": [
    "## 5. Change an element in a list"
   ]
  },
  {
   "cell_type": "markdown",
   "id": "d08ab766",
   "metadata": {},
   "source": [
    "- <font size=\"3\">You can change the value of any list element using an assignment statement</font>"
   ]
  },
  {
   "cell_type": "code",
   "execution_count": 23,
   "id": "7caaa3e6",
   "metadata": {},
   "outputs": [
    {
     "name": "stdout",
     "output_type": "stream",
     "text": [
      "[6, 7, 8, 9, 10]\n",
      "[6, 7, 8, 22, 10]\n"
     ]
    }
   ],
   "source": [
    "# Change a value of specified element\n",
    "numbers = [6, 7, 8, 9, 10]\n",
    "print(numbers) # original list\n",
    "\n",
    "# change the value at index 3 to 22\n",
    "numbers[3] = 22  \n",
    "\n",
    "# display a list\n",
    "print(numbers)"
   ]
  },
  {
   "cell_type": "code",
   "execution_count": 26,
   "id": "8ad765a1",
   "metadata": {},
   "outputs": [
    {
     "name": "stdout",
     "output_type": "stream",
     "text": [
      "[6, 7, 8, 9, 10]\n",
      "[96, 112, 128, 144, 160]\n"
     ]
    }
   ],
   "source": [
    "# Modify every elements in a list\n",
    "numbers = [6, 7, 8, 9, 10]\n",
    "print(numbers)  # original list\n",
    "\n",
    "# change all elements in the list\n",
    "for i in range(len(numbers)):\n",
    "    numbers[i] *= 16\n",
    "    \n",
    "# display modified list\n",
    "print(numbers)  "
   ]
  },
  {
   "cell_type": "markdown",
   "id": "1bd8f9b0",
   "metadata": {},
   "source": [
    "## 6. Find an element in a list\n",
    "- <font size=\"3\">You can use the <span style=\"color:blue;\"><b>in</b></span> operator to determine whether an item is contained in a list</font>\n",
    "- <font size=\"3\">The <span style=\"color:blue;\"><b>in</b></span> operator returns <span style=\"color:blue;\">True</span> if the item is in the list, or <span style=\"color:red;\">False</span> if it is not in the list</font>\n",
    "- <font size=\"3\">Similarly you can use the <span style=\"color:blue;\"><b>not in</b></span> operator to determine whether an item is not in a list</font>\n",
    "- <font size=\"3\">You can also loop to check to each element and find the specify element using if-statement </font>"
   ]
  },
  {
   "cell_type": "code",
   "execution_count": 25,
   "id": "a6ee5c91",
   "metadata": {},
   "outputs": [
    {
     "name": "stdin",
     "output_type": "stream",
     "text": [
      "Enter your serach key:  6\n"
     ]
    },
    {
     "name": "stdout",
     "output_type": "stream",
     "text": [
      "6 is exists in a list\n"
     ]
    }
   ],
   "source": [
    "# Initialising list\n",
    "test_list = [1, 6, 3, 5, 3, 4]\n",
    "\n",
    "# Checking if specify value input by a user exists in a list\n",
    "key = int(input(\"Enter your serach key: \"))\n",
    "\n",
    "if key in test_list:\n",
    "    print(f\"{key} is exists in a list\")\n",
    "else:\n",
    "    print(f\"{key} is not exists in a list\")"
   ]
  },
  {
   "cell_type": "markdown",
   "id": "69ea8ddf",
   "metadata": {},
   "source": [
    "<font size=\"3\">Click here to see more: [List methods](https://docs.python.org/3/tutorial/datastructures.html?highlight=list)</font>"
   ]
  },
  {
   "cell_type": "markdown",
   "id": "ce0d6b1c",
   "metadata": {},
   "source": [
    "***"
   ]
  },
  {
   "cell_type": "markdown",
   "id": "12fa2faa",
   "metadata": {},
   "source": [
    "# Dictionary Literals"
   ]
  },
  {
   "cell_type": "markdown",
   "id": "66497bc3",
   "metadata": {},
   "source": [
    "- <font size = \"3\">A Python dictionary is written as a sequence of <span style=\"color:blue;\">key-value pairs</span> separated by commas</font>\n",
    "- <font size =\"3\">These pairs are sometimes called <span style=\"color:blue;\">entries</span></font>\n",
    "- <font size =\"3\"><b>Two values must be provided for each dictionary entry:</font>\n",
    "    - <font size =\"3\">A <span style=\"color:blue;\">value</span> to store</font>\n",
    "    - <font size =\"3\">A <span style=\"color:blue;\">key</span> to reference the entry and must be an immutable (cannot change) object and unique. They are normally <b>strings</b> or <b>integers</b></font>\n",
    "- <font size =\"3\">Entries are enclosed in curly braces <span style=\"color:blue;\"><b>{</b></span> and <span style=\"color:blue;\"><b>}</b></span></font>\n",
    "- <font size =\"3\">Each key-value pair includes a colon (<span style=\"color:blue;\"><b>:</b></span>) between the key and value</font>"
   ]
  },
  {
   "cell_type": "markdown",
   "id": "0a716482",
   "metadata": {},
   "source": [
    "# Initialise an empty dictionary\n",
    "- <font size = \"3\">You can use empty curly braces <span style=\"color: blue;\"><b>{}</b></span> to initialize an empty dictionary</span></font>\n",
    "- <font size=\"3\"><b>Format:</b></font><br>\n",
    "&emsp;&emsp;&emsp;&emsp;<font size=\"3\">dictionary_variable = <span style=\"color: blue;\"><b>{</b></span> <span style=\"color: blue;\"><b>}</b></span><br> "
   ]
  },
  {
   "cell_type": "markdown",
   "id": "cc0c5e8c",
   "metadata": {},
   "source": [
    "### Example: initialise an empty dictionary"
   ]
  },
  {
   "cell_type": "code",
   "execution_count": 27,
   "id": "585d3738",
   "metadata": {},
   "outputs": [
    {
     "name": "stdout",
     "output_type": "stream",
     "text": [
      "{}\n",
      "<class 'dict'>\n"
     ]
    }
   ],
   "source": [
    "#intialise an empty dictionary using {}\n",
    "phone_book_1 = {}\n",
    "\n",
    "# display created empty dictionaries\n",
    "print(phone_book_1)\n",
    "print(type(phone_book_1))"
   ]
  },
  {
   "cell_type": "markdown",
   "id": "cc130e41",
   "metadata": {},
   "source": [
    "# Create and initialise a dictionary\n",
    "- <font size=\"3\"><b>Format:</b></font><br>\n",
    "&emsp;&emsp;&emsp;&emsp;<font size=\"3\">dictionary_variable = <span style=\"color: blue;\"><b>{</b></span> <br>\n",
    "&emsp;&emsp;&emsp;&emsp;&emsp;&emsp;&emsp;&emsp;&emsp;&emsp;&emsp;&emsp;&emsp;&emsp;<span style=\"color: blue;\">key-1: val-1,</span><br>\n",
    "&emsp;&emsp;&emsp;&emsp;&emsp;&emsp;&emsp;&emsp;&emsp;&emsp;&emsp;&emsp;&emsp;&emsp;<span style=\"color: blue;\">key-2: val-2,</span><br>\n",
    "&emsp;&emsp;&emsp;&emsp;&emsp;&emsp;&emsp;&emsp;&emsp;&emsp;&emsp;&emsp;&emsp;&emsp;<span style=\"color: blue;\">...,</span><br>\n",
    "&emsp;&emsp;&emsp;&emsp;&emsp;&emsp;&emsp;&emsp;&emsp;&emsp;&emsp;&emsp;&emsp;&emsp;<span style=\"color: blue;\">key-n: val-n</span><br>\n",
    "&emsp;&emsp;&emsp;&emsp;&emsp;&emsp;&emsp;&emsp;&emsp;&emsp;&emsp;&emsp;&emsp;<span style=\"color: blue;\"><b>}</b></span><br>"
   ]
  },
  {
   "cell_type": "markdown",
   "id": "94fe2ca1",
   "metadata": {},
   "source": [
    "### Example: create and initialise a dictionary"
   ]
  },
  {
   "cell_type": "code",
   "execution_count": 28,
   "id": "d2baad51",
   "metadata": {},
   "outputs": [
    {
     "name": "stdout",
     "output_type": "stream",
     "text": [
      "{'Savannah': '476-3321', 'Nathaniel': '351-7743', 'Simon': '225-7415'}\n"
     ]
    }
   ],
   "source": [
    "# create and initial entry in a dictionary using {}: key as string \n",
    "phone_book_1 = {\"Savannah\": \"476-3321\",\n",
    "              \"Nathaniel\": \"351-7743\",\n",
    "              \"Simon\": \"225-7415\"\n",
    "             }\n",
    "\n",
    "# display a dictionary\n",
    "print(phone_book_1)"
   ]
  },
  {
   "cell_type": "code",
   "execution_count": 29,
   "id": "419ce8e4",
   "metadata": {},
   "outputs": [
    {
     "name": "stdout",
     "output_type": "stream",
     "text": [
      "{1: '476-3321', 2: '351-7743', 3: '225-7415'}\n"
     ]
    }
   ],
   "source": [
    "# create and initial entry in a dictionary using {}: key as interger\n",
    "phone_book_2 = {1: '476-3321',\n",
    "              2: '351-7743',\n",
    "              3: '225-7415'\n",
    "             }\n",
    "\n",
    "# display a dictionary\n",
    "print(phone_book_2)"
   ]
  },
  {
   "cell_type": "code",
   "execution_count": 30,
   "id": "93fd3d4a",
   "metadata": {},
   "outputs": [
    {
     "name": "stdout",
     "output_type": "stream",
     "text": [
      "{'Savannah': -2845, 'Nathaniel': -7392, 'Simon': -7190}\n"
     ]
    }
   ],
   "source": [
    "# create and initial entry in a dictionary using {}\n",
    "# if value is integer, there should have no other symbol\n",
    "phone_book_3 = {\"Savannah\": 476-3321,\n",
    "              \"Nathaniel\": 351-7743,\n",
    "              \"Simon\": 225-7415\n",
    "             }\n",
    "\n",
    "# display a dictionary\n",
    "print(phone_book_3)"
   ]
  },
  {
   "cell_type": "markdown",
   "id": "65709a34",
   "metadata": {},
   "source": [
    "# Dictionary operations"
   ]
  },
  {
   "cell_type": "markdown",
   "id": "6e22d600",
   "metadata": {},
   "source": [
    "## 1. Adding elements\n",
    "- <font size=\"3\">Dictionaries are mutable objects</font>\n",
    "- <font size=\"3\">To add entries <b>(a new key-value pair)</b>, use a unique key along with an assignment statement</font>\n",
    "    - <font size=\"3\"><b>format:</b></font><br>\n",
    "&emsp;&emsp;&emsp;&emsp;<font size=\"3\"> dictionary_variable<span style=\"color: blue;\"><b>[key]</b></span> = <span style=\"color: blue;\"><b>value</b></span>\n",
    "    \n",
    "<div class=\"alert alert-block alert-warning\">\n",
    "<b>Caution:</b> Assigning a value to an existing key will overwrite/update the key's associated value\n",
    "</div>"
   ]
  },
  {
   "cell_type": "markdown",
   "id": "fb8d2d18",
   "metadata": {},
   "source": [
    "### Example: adding elements to a dictionary"
   ]
  },
  {
   "cell_type": "code",
   "execution_count": 31,
   "id": "e7b96545",
   "metadata": {},
   "outputs": [
    {
     "name": "stdout",
     "output_type": "stream",
     "text": [
      "Initialised dictionary: {}\n",
      "The dictionary after adding new entries to empty dictionary: {'mandy': 2, 'frenando': 4, 'jessica': 1, 'prateek': 1}\n",
      "The dictionary after adding a new entry to an existing dictionary: {'mandy': 2, 'frenando': 4, 'jessica': 1, 'prateek': 1, 'george': 0}\n",
      "The dictionary after adding a new value to an existing key: {'mandy': 2, 'frenando': 4, 'jessica': 1, 'prateek': 1, 'george': 5}\n"
     ]
    }
   ],
   "source": [
    "# create an empty dictionary\n",
    "scores = {}\n",
    "\n",
    "# display the initialised dictionary\n",
    "print(f\"Initialised dictionary: {scores}\")\n",
    "\n",
    "# add a new entry to an empty dictionary\n",
    "scores[\"mandy\"] = 2\n",
    "scores[\"frenando\"] = 4\n",
    "scores[\"jessica\"] = 1\n",
    "scores[\"prateek\"] = 1\n",
    "\n",
    "# display the dictionary after adding new entries\n",
    "print(f\"The dictionary after adding new entries to empty dictionary: {scores}\")\n",
    "\n",
    "# add a new entry to an existing dictionary\n",
    "scores[\"george\"] = 0\n",
    "\n",
    "# display the dictionary after adding a new entry\n",
    "print(f\"The dictionary after adding a new entry to an existing dictionary: {scores}\")\n",
    "\n",
    "#Assign a new value to an existing key in a dictionary\n",
    "scores[\"george\"] = 5\n",
    "\n",
    "# display updated dictionary\n",
    "print(f\"The dictionary after adding a new value to an existing key: {scores}\")"
   ]
  },
  {
   "cell_type": "markdown",
   "id": "5c821c83",
   "metadata": {},
   "source": [
    "### Example: add a new entry from user input to a dictionary"
   ]
  },
  {
   "cell_type": "code",
   "execution_count": 44,
   "id": "d6944cfc",
   "metadata": {},
   "outputs": [
    {
     "name": "stdout",
     "output_type": "stream",
     "text": [
      "Initialised dictionary: {'mandy': 2, 'frenando': 4, 'jessica': 1, 'prateek': 1}\n"
     ]
    },
    {
     "name": "stdin",
     "output_type": "stream",
     "text": [
      "Enter name:  anna\n",
      "Enter a score:  {'aa':5 , 'gg':6}\n"
     ]
    },
    {
     "name": "stdout",
     "output_type": "stream",
     "text": [
      "The dictionary after adding a new entry: {'mandy': 2, 'frenando': 4, 'jessica': 1, 'prateek': 1, 'anna': \"{'aa':5 , 'gg':6}\"}\n"
     ]
    }
   ],
   "source": [
    "# create and initialise a dictionary\n",
    "scores = {\"mandy\": 2,\n",
    "          \"frenando\": 4,\n",
    "          \"jessica\": 1,\n",
    "          \"prateek\": 1\n",
    "         }\n",
    "\n",
    "# display the initialised dictionary\n",
    "print(f\"Initialised dictionary: {scores}\")\n",
    "\n",
    "# receive values from a user input\n",
    "name = input(\"Enter name: \")\n",
    "score = input(\"Enter a score: \")\n",
    "\n",
    "# add a new entry from a user input to the dictionary\n",
    "scores[name] = score\n",
    "\n",
    "# display the dictionary after adding a new entry\n",
    "print(f\"The dictionary after adding a new entry: {scores}\")"
   ]
  },
  {
   "cell_type": "markdown",
   "id": "849bba57",
   "metadata": {},
   "source": [
    "## 2. Accessing entries\n",
    "- <font size=\"3\"><b>basic method</b>: You specify the key to access a dictionary value</font>\n",
    "    - <font size=\"3\"><b>format:</b></font><br>\n",
    "&emsp;&emsp;&emsp;&emsp;<font size=\"3\"> dictionary_variable<span style=\"color: blue;\"><b>[key]</b></span>\n",
    "- <font size=\"3\"><b>keys() method</b>: return all the keys in a dictionary</font><br>\n",
    "    - <font size=\"3\"><b>format:</b></font><br>\n",
    "&emsp;&emsp;&emsp;&emsp;<font size=\"3\"> dictionary_variable<span style=\"color: blue;\"><b>.keys()</b></span>\n",
    "    - <font size=\"3\">use for-loop to iterate over the returned sequence from keys():</font><br>\n",
    "- <font size=\"3\"><b>values() method</b>: return all the values in a dictionary</font><br>\n",
    "    - <font size=\"3\"><b>format:</b></font><br>\n",
    "&emsp;&emsp;&emsp;&emsp;<font size=\"3\"> dictionary_variable<span style=\"color: blue;\"><b>.values()</b></span>\n",
    "    - <font size=\"3\">use for-loop to iterate over the returned sequence from values():</font><br>\n",
    "- <font size=\"3\"><b>get() method</b>: to access a dictionary value if it exists</font><br>\n",
    "    - <font size=\"3\"><b>format:</b></font><br>\n",
    "&emsp;&emsp;&emsp;&emsp;<font size=\"3\"> dictionary_variable<span style=\"color: blue;\"><b>.get(key)</b></span>\n",
    "    - <font size=\"3\">This method takes the key as the first argument and an optional default value as the second argument</font>\n",
    "    - <font size=\"3\">It returns the value for the specified key if key is in the dictionary. If the second argument is not specified and key is not found then None is returned.</font>\n",
    "    <br>\n",
    "\n",
    "<div class=\"alert alert-block alert-danger\">\n",
    "<b>Warning:</b> Attempting to access an entry using an absent key causes a KeyError\n",
    "</div>"
   ]
  },
  {
   "cell_type": "markdown",
   "id": "400eacea",
   "metadata": {},
   "source": [
    "### Example: accessing an entry"
   ]
  },
  {
   "cell_type": "code",
   "execution_count": 46,
   "id": "2a7f45cc",
   "metadata": {},
   "outputs": [
    {
     "name": "stdin",
     "output_type": "stream",
     "text": [
      "Enter name:  Mandy\n"
     ]
    },
    {
     "name": "stdout",
     "output_type": "stream",
     "text": [
      "Score of mandy: 2\n"
     ]
    }
   ],
   "source": [
    "# create and initialise a dictionary\n",
    "scores = {\"mandy\": 2,\n",
    "          \"frenando\": 4,\n",
    "          \"jessica\": 1,\n",
    "          \"prateek\": 1\n",
    "         }\n",
    "\n",
    "# receive input from the user to use as a search term for accessing entries\n",
    "name = input(\"Enter name: \").lower()\n",
    "\n",
    "# access an entry in the dictionary and display on screen\n",
    "print(f\"Score of {name}: {scores[name]}\")"
   ]
  },
  {
   "cell_type": "markdown",
   "id": "55ad83cb",
   "metadata": {},
   "source": [
    "### Example: KeyError"
   ]
  },
  {
   "cell_type": "code",
   "execution_count": 34,
   "id": "20244e6a",
   "metadata": {},
   "outputs": [
    {
     "name": "stdin",
     "output_type": "stream",
     "text": [
      "Enter name:  j\n"
     ]
    },
    {
     "ename": "KeyError",
     "evalue": "'j'",
     "output_type": "error",
     "traceback": [
      "\u001b[1;31m---------------------------------------------------------------------------\u001b[0m",
      "\u001b[1;31mKeyError\u001b[0m                                  Traceback (most recent call last)",
      "Cell \u001b[1;32mIn[34], line 12\u001b[0m\n\u001b[0;32m      9\u001b[0m name \u001b[38;5;241m=\u001b[39m \u001b[38;5;28minput\u001b[39m(\u001b[38;5;124m\"\u001b[39m\u001b[38;5;124mEnter name: \u001b[39m\u001b[38;5;124m\"\u001b[39m)\n\u001b[0;32m     11\u001b[0m \u001b[38;5;66;03m# access an entry in the dictionary and display on screen\u001b[39;00m\n\u001b[1;32m---> 12\u001b[0m \u001b[38;5;28mprint\u001b[39m(\u001b[38;5;124mf\u001b[39m\u001b[38;5;124m\"\u001b[39m\u001b[38;5;124mScore of \u001b[39m\u001b[38;5;132;01m{\u001b[39;00mname\u001b[38;5;132;01m}\u001b[39;00m\u001b[38;5;124m: \u001b[39m\u001b[38;5;132;01m{\u001b[39;00mscores[name]\u001b[38;5;132;01m}\u001b[39;00m\u001b[38;5;124m\"\u001b[39m)\n",
      "\u001b[1;31mKeyError\u001b[0m: 'j'"
     ]
    }
   ],
   "source": [
    "# create and initialise a dictionary\n",
    "scores = {\"mandy\": 2,\n",
    "          \"frenando\": 4,\n",
    "          \"jessica\": 1,\n",
    "          \"prateek\": 1\n",
    "         }\n",
    "\n",
    "# receive input from the user to use as a search term for accessing entries\n",
    "name = input(\"Enter name: \")\n",
    "\n",
    "# access an entry in the dictionary and display on screen\n",
    "print(f\"Score of {name}: {scores[name]}\")"
   ]
  },
  {
   "cell_type": "markdown",
   "id": "bf0f23d4",
   "metadata": {},
   "source": [
    "### Example: accessing keys using keys() method"
   ]
  },
  {
   "cell_type": "code",
   "execution_count": 35,
   "id": "cbd473c9",
   "metadata": {},
   "outputs": [
    {
     "name": "stdout",
     "output_type": "stream",
     "text": [
      "Accessing keys using keys() method\n",
      "dict_keys(['mandy', 'frenando', 'jessica', 'prateek'])\n",
      "\n",
      "Accessing each key in the sequence returned from the keys() method using loop\n",
      "Name: mandy\n",
      "Name: frenando\n",
      "Name: jessica\n",
      "Name: prateek\n"
     ]
    }
   ],
   "source": [
    "# create and initialise a dictionary\n",
    "scores = {\"mandy\": 2,\n",
    "          \"frenando\": 4,\n",
    "          \"jessica\": 1,\n",
    "          \"prateek\": 1\n",
    "         }\n",
    "\n",
    "# access dictionary keys using keys() method\n",
    "print(\"Accessing keys using keys() method\")\n",
    "print(scores.keys())\n",
    "\n",
    "\n",
    "\n",
    "# use a for loop to access each key in the sequence returned from the keys() method\n",
    "print(\"\\nAccessing each key in the sequence returned from the keys() method using loop\")\n",
    "for key in scores.keys():\n",
    "    print(f\"Name: {key}\")"
   ]
  },
  {
   "cell_type": "markdown",
   "id": "beeece09",
   "metadata": {},
   "source": [
    "### Example: accessing values using values() method"
   ]
  },
  {
   "cell_type": "code",
   "execution_count": 36,
   "id": "1b49b1d7",
   "metadata": {},
   "outputs": [
    {
     "name": "stdout",
     "output_type": "stream",
     "text": [
      "Accessing keys using values() method\n",
      "dict_values([2, 4, 1, 1])\n",
      "\n",
      "Accessing each value in the sequence returned from the values() method using loop\n",
      "Score: 2\n",
      "Score: 4\n",
      "Score: 1\n",
      "Score: 1\n"
     ]
    }
   ],
   "source": [
    "# create and initialise a dictionary\n",
    "scores = {\"mandy\": 2,\n",
    "          \"frenando\": 4,\n",
    "          \"jessica\": 1,\n",
    "          \"prateek\": 1\n",
    "         }\n",
    "\n",
    "# access dictionary keys using values() method\n",
    "print(\"Accessing keys using values() method\")\n",
    "print(scores.values())\n",
    "\n",
    "\n",
    "# use a for loop to access each value in the sequence returned from the values() method\n",
    "print(\"\\nAccessing each value in the sequence returned from the values() method using loop\")\n",
    "for value in scores.values():\n",
    "    print(f\"Score: {value}\")"
   ]
  },
  {
   "cell_type": "markdown",
   "id": "fdbac94e",
   "metadata": {},
   "source": [
    "### Example: accessing values using get() method"
   ]
  },
  {
   "cell_type": "code",
   "execution_count": 47,
   "id": "f47260ba",
   "metadata": {},
   "outputs": [
    {
     "name": "stdin",
     "output_type": "stream",
     "text": [
      "Enter name:  mandy\n"
     ]
    },
    {
     "name": "stdout",
     "output_type": "stream",
     "text": [
      "Accessing keys using get() method\n",
      "The score of mandy is 2\n"
     ]
    }
   ],
   "source": [
    "# create and initialise a dictionary\n",
    "scores = {\"mandy\": 2,\n",
    "          \"frenando\": 4,\n",
    "          \"jessica\": 1,\n",
    "          \"prateek\": 1\n",
    "         }\n",
    "# receive input from the user to use as a search term for accessing entries\n",
    "name = input(\"Enter name: \")\n",
    "\n",
    "# access dictionary keys using values() method\n",
    "print(\"Accessing keys using get() method\")\n",
    "print(f\"The score of {name} is {scores.get(name)}\")"
   ]
  },
  {
   "cell_type": "markdown",
   "id": "51cf1899",
   "metadata": {},
   "source": [
    "## 3. Deleting entries\n",
    "- <font size=\"3\">To delete or remove an entry (a key-value pair), we can use <span style=\"color: blue;\"><b>del</b></span> function or <span style=\"color: blue;\"><b>pop</b></span> method</font>\n",
    "    - <font size=\"3\"><b>del format:</b></font><br>\n",
    "&emsp;&emsp;&emsp;&emsp;<font size=\"3\"> <span style=\"color: green;\"><b>del</b></span> dictionary_variable[key]\n",
    "    - <font size=\"3\"><b>pop format:</b></font><br>\n",
    "&emsp;&emsp;&emsp;&emsp;<font size=\"3\"> dictionary_variable<b>.pop(key)</b>\n",
    "    \n",
    "<div class=\"alert alert-block alert-danger\">\n",
    "<b>Warning:</b> Attempting to delete an entry that is not in the dictionary causes a KeyError\n",
    "</div>"
   ]
  },
  {
   "cell_type": "markdown",
   "id": "d379f02c",
   "metadata": {},
   "source": [
    "### Example: remove an entry using del"
   ]
  },
  {
   "cell_type": "code",
   "execution_count": 48,
   "id": "db1c3e7a",
   "metadata": {},
   "outputs": [
    {
     "name": "stdout",
     "output_type": "stream",
     "text": [
      "Original dictionary: {'mandy': 2, 'frenando': 4, 'jessica': 1, 'prateek': 1}\n"
     ]
    },
    {
     "name": "stdin",
     "output_type": "stream",
     "text": [
      "Enter name:  mandy\n"
     ]
    },
    {
     "name": "stdout",
     "output_type": "stream",
     "text": [
      "The dictionary after delete mandy: {'frenando': 4, 'jessica': 1, 'prateek': 1}\n"
     ]
    }
   ],
   "source": [
    "# create and initialise a dictionary\n",
    "scores = {\"mandy\": 2,\n",
    "          \"frenando\": 4,\n",
    "          \"jessica\": 1,\n",
    "          \"prateek\": 1\n",
    "         }\n",
    "\n",
    "print(f\"Original dictionary: {scores}\")\n",
    "\n",
    "# accept a specifcied key from a user \n",
    "name = input(\"Enter name: \")\n",
    "\n",
    "# delete the entry with the specified key\n",
    "del scores[name]\n",
    "\n",
    "print(f\"The dictionary after delete {name}: {scores}\")"
   ]
  },
  {
   "cell_type": "markdown",
   "id": "2f94475b",
   "metadata": {},
   "source": [
    "### Example: remove an entry using pop"
   ]
  },
  {
   "cell_type": "code",
   "execution_count": 49,
   "id": "5420abe4",
   "metadata": {},
   "outputs": [
    {
     "name": "stdout",
     "output_type": "stream",
     "text": [
      "Original dictionary: {'mandy': 2, 'frenando': 4, 'jessica': 1, 'prateek': 1}\n"
     ]
    },
    {
     "name": "stdin",
     "output_type": "stream",
     "text": [
      "Enter name:  mandy\n"
     ]
    },
    {
     "name": "stdout",
     "output_type": "stream",
     "text": [
      "The dictionary after delete mandy: {'frenando': 4, 'jessica': 1, 'prateek': 1}\n"
     ]
    }
   ],
   "source": [
    "# create and initialise a dictionary\n",
    "scores = {\"mandy\": 2,\n",
    "          \"frenando\": 4,\n",
    "          \"jessica\": 1,\n",
    "          \"prateek\": 1\n",
    "          \n",
    "         }\n",
    "\n",
    "print(f\"Original dictionary: {scores}\")\n",
    "\n",
    "# accept a specifcied key from a user \n",
    "name = input(\"Enter name: \")\n",
    "\n",
    "# remove the entry with the specified key\n",
    "scores.pop(name)\n",
    "\n",
    "print(f\"The dictionary after delete {name}: {scores}\")"
   ]
  },
  {
   "cell_type": "markdown",
   "id": "269fe232",
   "metadata": {},
   "source": [
    "## 4. Traversing a dictionary\n",
    "\n",
    "- <font size=\"3\">To print all of the keys and their values, we can use for loop to iterate over a dictionary</font>\n",
    "    - <font size=\"3\"><b>format:</b></font><br>\n",
    "&emsp;&emsp;&emsp;&emsp;<font size=\"3\"> for <span style=\"color: blue;\"><b>key</b></span> in dictionary_variable:<br>\n",
    "&emsp;&emsp;&emsp;&emsp;&emsp;&emsp;print(<span style=\"color: blue;\">key</span>, dictionary[<span style=\"color: blue;\">key</span>])\n",
    "- <font size=\"3\">Alternatively, you could use the dictionary method <span style=\"color: blue;\"><b>items()</b></span></font> to access the dictionary's entries<br>\n",
    "    - <font size=\"3\"><b>format:</b></font><br>\n",
    "&emsp;&emsp;&emsp;&emsp;<font size=\"3\"> dictionary_variable<span style=\"color: blue;\"><b>.items()</b></span>"
   ]
  },
  {
   "cell_type": "markdown",
   "id": "c509fd9e",
   "metadata": {},
   "source": [
    "### Example: traversing a dictionary using for-loop"
   ]
  },
  {
   "cell_type": "code",
   "execution_count": 51,
   "id": "503f2ec6",
   "metadata": {},
   "outputs": [
    {
     "name": "stdout",
     "output_type": "stream",
     "text": [
      "\n",
      "mandy 2\n",
      "frenando 4\n",
      "jessica 1\n",
      "prateek 1\n"
     ]
    }
   ],
   "source": [
    "# create and initialise a dictionary\n",
    "scores = {\"mandy\": 2,\n",
    "          \"frenando\": 4,\n",
    "          \"jessica\": 1,\n",
    "          \"prateek\": 1\n",
    "         }\n",
    "print()\n",
    "# print all keys and their values from a dictionary\n",
    "for key in scores:\n",
    "    print(key, scores[key])"
   ]
  },
  {
   "cell_type": "code",
   "execution_count": 52,
   "id": "4456627b-23b4-479d-9153-68460576025d",
   "metadata": {},
   "outputs": [
    {
     "data": {
      "text/plain": [
       "dict_items([('mandy', 2), ('frenando', 4), ('jessica', 1), ('prateek', 1)])"
      ]
     },
     "execution_count": 52,
     "metadata": {},
     "output_type": "execute_result"
    }
   ],
   "source": [
    "scores.items()"
   ]
  },
  {
   "cell_type": "markdown",
   "id": "71eb40c2",
   "metadata": {},
   "source": [
    "### Example: traversing a dictionary using items()"
   ]
  },
  {
   "cell_type": "code",
   "execution_count": 54,
   "id": "fab98e9c",
   "metadata": {},
   "outputs": [
    {
     "name": "stdout",
     "output_type": "stream",
     "text": [
      "('mandy', 2)\n",
      "('frenando', 4)\n",
      "('jessica', 1)\n",
      "('prateek', 1)\n"
     ]
    }
   ],
   "source": [
    "# create and initialise a dictionary\n",
    "scores = {\"mandy\": 2,\n",
    "          \"frenando\": 4,\n",
    "          \"jessica\": 1,\n",
    "          \"prateek\": 1\n",
    "         }\n",
    "\n",
    "# print all keys and their values from a dictionary\n",
    "for key in scores.items():\n",
    "    print(key)"
   ]
  },
  {
   "attachments": {},
   "cell_type": "markdown",
   "id": "8826970c",
   "metadata": {},
   "source": [
    "## Real world example using a list and a dictionary: \n",
    "- <font size=3>Natural Language Processing (NLP): Use a list to store sequences of words or sentences then you can process this list based on your objective such as check word frequency, check sentimental, find the trend etc.</font>\n",
    "- <font size=3>Convert an infix expression to postfix expression for a calculator</font>"
   ]
  },
  {
   "cell_type": "markdown",
   "id": "031eef41-a1fa-42b2-b288-712db40f8b1f",
   "metadata": {},
   "source": [
    "## Word Frequency Analysis"
   ]
  },
  {
   "cell_type": "code",
   "execution_count": 57,
   "id": "bc894811",
   "metadata": {},
   "outputs": [
    {
     "name": "stdout",
     "output_type": "stream",
     "text": [
      "One: 1\n",
      "This: 2\n",
      "While: 1\n",
      "access: 1\n",
      "accessible,: 1\n",
      "areas,: 1\n",
      "be: 1\n",
      "boasts: 1\n",
      "can: 3\n",
      "cause: 1\n",
      "content: 1\n",
      "content-rich: 1\n",
      "couple: 1\n",
      "delays: 1\n",
      "design,: 1\n",
      "disrupt: 1\n",
      "does: 1\n",
      "drawbacks.: 1\n",
      "easy: 1\n",
      "effort.: 1\n",
      "enhancing: 1\n",
      "ensures: 1\n",
      "excels: 1\n",
      "experience.: 2\n",
      "find: 1\n",
      "frustrating: 3\n",
      "functionality,: 1\n",
      "have: 1\n",
      "information: 1\n",
      "intuitive: 3\n",
      "issue: 1\n",
      "lag: 1\n",
      "layout: 1\n",
      "loading: 1\n",
      "locate: 1\n",
      "making: 1\n",
      "many: 1\n",
      "minimal: 1\n",
      "multimedia.: 1\n",
      "navigate: 1\n",
      "noticeable: 1\n",
      "of: 1\n",
      "otherwise: 1\n",
      "overall: 1\n",
      "pages: 1\n",
      "particularly: 1\n",
      "products: 1\n",
      "quickly.: 1\n",
      "search: 1\n",
      "slow: 1\n",
      "smooth: 1\n",
      "specific: 1\n",
      "that: 1\n",
      "times,: 1\n",
      "topics: 1\n",
      "trying: 1\n",
      "user: 1\n",
      "users: 2\n",
      "website: 2\n",
      "well-organized: 1\n",
      "when: 1\n",
      "which: 1\n"
     ]
    }
   ],
   "source": [
    "# Define a string containing some text\n",
    "review = \"\"\"This website boasts an intuitive design, making it easy for users to navigate and find information quickly. \n",
    "The intuitive layout ensures that content is well-organized and accessible, enhancing the overall user experience. \n",
    "With intuitive search functionality, users can locate specific topics or products with minimal effort. \n",
    "While the website excels in many areas, it does have a couple of frustrating drawbacks. One frustrating issue is the slow loading times, \n",
    "which can cause delays and disrupt the otherwise smooth experience. This frustrating lag can be particularly noticeable when trying to access \n",
    "content-rich pages or multimedia.\"\"\"\n",
    "\n",
    "stop_words = [\"a\", \"an\", \"the\", \"and\", \"it\", \"for\", \"or\", \"but\", \"in\", \"my\", \"your\", \"our\", \"their\", \"is\", \"am\", \"are\", \"to\", \"with\", \"When\"\\\n",
    "             \"A\", \"An\", \"The\", \"It\", \"In\", \"My\", \"Your\", \"Our\", \"Their\", \"To\", \"With\", \"When\"]\n",
    "\n",
    "# Split the string into a list of words using spaces as separators and store it in a list\n",
    "texts = review.split() \n",
    "\n",
    "# Create a new list to hold the filtered words \n",
    "filtered_words = [] \n",
    "\n",
    "# Iterate over the list of words \n",
    "for word in texts: \n",
    "  # If the word is not in the stop word list, add it to the filtered list \n",
    "  if word not in stop_words: \n",
    "    filtered_words.append(word) \n",
    "\n",
    "# count the frequency of filtered word occurrences\n",
    "# create an empty dictionary named 'freq' to store word frequencies.\n",
    "freq = {}\n",
    "    \n",
    "# Iterate through each word in the 'words' list.\n",
    "for word in filtered_words:\n",
    "    # Check if the word is already in the 'counts' dictionary.\n",
    "    if word in freq:\n",
    "        # If the word is already in the dictionary, increment its frequency by 1.\n",
    "        freq[word] += 1\n",
    "    else:\n",
    "        # If the word is not in the dictionary, add it to the dictionary with a frequency of 1.\n",
    "        freq[word] = 1\n",
    "#display results\n",
    "sorted_keys = sorted(freq.keys())\n",
    "for key in sorted_keys:\n",
    "    print(f\"{key}: {freq[key]}\")"
   ]
  },
  {
   "cell_type": "markdown",
   "id": "55c1299a",
   "metadata": {},
   "source": [
    "---"
   ]
  },
  {
   "cell_type": "markdown",
   "id": "09f92a15",
   "metadata": {},
   "source": [
    "## Summary"
   ]
  },
  {
   "cell_type": "markdown",
   "id": "151819b3",
   "metadata": {},
   "source": [
    "- <font size=\"3\">A list is a sequence of zero or more elements</font>\n",
    "    - <font size=\"3\">Can be manipulated with the subscript, concatenation, comparison, and in operators</font>\n",
    "    - <font size=\"3\">Mutable data structure</font>\n",
    "    - <font size=\"3\">index returns position of target element in a list</font>\n",
    "    - <font size=\"3\">Elements can be arranged in order using sort</font>\n",
    "- <font size=\"3\">A dictionary associates a set of keys with values</font>\n",
    "- <font size=\"3\">Dictionaries organise data by content rather than position</font>\n",
    "- <font size=\"3\">subscript operator [] is used to add a new key/value pair to a dictionary or to replace a value associated with existing key</font>"
   ]
  },
  {
   "cell_type": "markdown",
   "id": "e36a9b97",
   "metadata": {},
   "source": [
    "---"
   ]
  }
 ],
 "metadata": {
  "kernelspec": {
   "display_name": "Python 3 (ipykernel)",
   "language": "python",
   "name": "python3"
  },
  "language_info": {
   "codemirror_mode": {
    "name": "ipython",
    "version": 3
   },
   "file_extension": ".py",
   "mimetype": "text/x-python",
   "name": "python",
   "nbconvert_exporter": "python",
   "pygments_lexer": "ipython3",
   "version": "3.11.9"
  }
 },
 "nbformat": 4,
 "nbformat_minor": 5
}
