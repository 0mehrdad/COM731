{
 "cells": [
  {
   "cell_type": "markdown",
   "id": "ba4fdf44-8e21-4fed-bc93-abcf4e4dca1b",
   "metadata": {},
   "source": [
    "## Activity: simple_dict\" and click 'Run"
   ]
  },
  {
   "cell_type": "code",
   "execution_count": 2,
   "id": "d36c4ef4-93f2-4246-896c-6d4b0e914d31",
   "metadata": {},
   "outputs": [
    {
     "name": "stdout",
     "output_type": "stream",
     "text": [
      "Dictionary\n",
      "{'Short Sequence': 3, 'Medium Sequence': 2, 'Long Sequence': 1}\n"
     ]
    }
   ],
   "source": [
    "sequences = { \"Short Sequence\":3, \"Medium Sequence\":2, \"Long Sequence\":1 }\n",
    "print ('Dictionary')\n",
    "print (sequences)"
   ]
  },
  {
   "cell_type": "markdown",
   "id": "f9a2aff0-e5fd-4bb5-a5b3-e3e78c6f5287",
   "metadata": {},
   "source": [
    "### Activity: iterate_dict"
   ]
  },
  {
   "cell_type": "code",
   "execution_count": 6,
   "id": "7ad63c83-6280-4677-9747-41d22122ad7a",
   "metadata": {},
   "outputs": [
    {
     "name": "stdout",
     "output_type": "stream",
     "text": [
      "Dictionary\n",
      "{'Short Sequence': 3, 'Medium Sequence': 2, 'Long Sequence': 1}\n",
      "\n",
      "keys:\n",
      "Short Sequence\n",
      "Medium Sequence\n",
      "Long Sequence\n",
      "\n",
      "values:\n",
      "3\n",
      "2\n",
      "1\n",
      "\n",
      "pairs:\n",
      "Short Sequence 3\n",
      "Medium Sequence 2\n",
      "Long Sequence 1\n"
     ]
    }
   ],
   "source": [
    "sequences = { \"Short Sequence\":3, \"Medium Sequence\":2, \"Long Sequence\":1 }\n",
    "print ('Dictionary')\n",
    "print (sequences)\n",
    "print()\n",
    "print('keys:')\n",
    "for i in sequences.keys():\n",
    "    print (i)\n",
    "print()\n",
    "print('values:')\n",
    "for i in sequences.values():\n",
    "    print (i)\n",
    "print()\n",
    "print('pairs:')\n",
    "for i in sequences.keys():\n",
    "    print (i,sequences[i])"
   ]
  },
  {
   "cell_type": "code",
   "execution_count": null,
   "id": "5c3f1efb-2249-46a1-8150-e7e8ba9d251f",
   "metadata": {},
   "outputs": [],
   "source": []
  }
 ],
 "metadata": {
  "kernelspec": {
   "display_name": "COM731",
   "language": "python",
   "name": "com731"
  },
  "language_info": {
   "codemirror_mode": {
    "name": "ipython",
    "version": 3
   },
   "file_extension": ".py",
   "mimetype": "text/x-python",
   "name": "python",
   "nbconvert_exporter": "python",
   "pygments_lexer": "ipython3",
   "version": "3.10.14"
  }
 },
 "nbformat": 4,
 "nbformat_minor": 5
}
