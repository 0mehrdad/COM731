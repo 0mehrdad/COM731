{
 "cells": [
  {
   "cell_type": "markdown",
   "id": "36e740a9-cc6b-4466-9ba5-e39b2b8ba82e",
   "metadata": {},
   "source": [
    "## simple_loop"
   ]
  },
  {
   "cell_type": "code",
   "execution_count": 5,
   "id": "e0e0f761-567f-416f-aaba-4aeca1567266",
   "metadata": {},
   "outputs": [
    {
     "name": "stdout",
     "output_type": "stream",
     "text": [
      "How many cables should I remove?\n"
     ]
    },
    {
     "name": "stdin",
     "output_type": "stream",
     "text": [
      " 5\n"
     ]
    },
    {
     "name": "stdout",
     "output_type": "stream",
     "text": [
      "Removed cable.\n",
      "Removed cable.\n",
      "Removed cable.\n",
      "Removed cable.\n",
      "Removed cable.\n"
     ]
    }
   ],
   "source": [
    "print(\"How many cables should I remove?\")\n",
    "i = int(input())\n",
    "done = 0\n",
    "while done<i :\n",
    "    print(\"Removed cable.\")\n",
    "    done += 1"
   ]
  },
  {
   "cell_type": "code",
   "execution_count": null,
   "id": "e816efcd-747a-425d-ac73-267fafec0545",
   "metadata": {},
   "outputs": [],
   "source": []
  }
 ],
 "metadata": {
  "kernelspec": {
   "display_name": "COM731",
   "language": "python",
   "name": "com731"
  },
  "language_info": {
   "codemirror_mode": {
    "name": "ipython",
    "version": 3
   },
   "file_extension": ".py",
   "mimetype": "text/x-python",
   "name": "python",
   "nbconvert_exporter": "python",
   "pygments_lexer": "ipython3",
   "version": "3.10.14"
  }
 },
 "nbformat": 4,
 "nbformat_minor": 5
}
