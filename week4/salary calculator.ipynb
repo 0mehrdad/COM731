{
 "cells": [
  {
   "cell_type": "code",
   "execution_count": 2,
   "id": "5562e5b9-bfd6-40be-9fd8-ddc3ddc20517",
   "metadata": {},
   "outputs": [
    {
     "name": "stdin",
     "output_type": "stream",
     "text": [
      "please input your name:  m\n",
      "please input your age: 63\n",
      "please input your courent anual salary: 100\n"
     ]
    },
    {
     "name": "stdout",
     "output_type": "stream",
     "text": [
      "total earning of m frome age 63 till age 65 will be 205.0\n"
     ]
    }
   ],
   "source": [
    "# get data from user\n",
    "name = input(\"please input your name: \")\n",
    "age = int(input(\"please input your age:\"))\n",
    "courent_salary = int(input(\"please input your courent anual salary:\"))\n",
    "#calculate total earning till age 65 \n",
    "total_earning = 0\n",
    "for i in range (age,65):\n",
    "    total_earning += courent_salary\n",
    "    courent_salary += courent_salary*5/100\n",
    "print(f\"total earning of {name} frome age {age} till age 65 will be {total_earning}\")"
   ]
  },
  {
   "cell_type": "code",
   "execution_count": null,
   "id": "0b5b1520-be4f-4c73-b948-df3bd96dd077",
   "metadata": {},
   "outputs": [],
   "source": []
  }
 ],
 "metadata": {
  "kernelspec": {
   "display_name": "COM731",
   "language": "python",
   "name": "com731"
  },
  "language_info": {
   "codemirror_mode": {
    "name": "ipython",
    "version": 3
   },
   "file_extension": ".py",
   "mimetype": "text/x-python",
   "name": "python",
   "nbconvert_exporter": "python",
   "pygments_lexer": "ipython3",
   "version": "3.10.14"
  }
 },
 "nbformat": 4,
 "nbformat_minor": 5
}
