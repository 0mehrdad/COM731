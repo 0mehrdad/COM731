{
 "cells": [
  {
   "cell_type": "markdown",
   "id": "ae56af3f",
   "metadata": {},
   "source": [
    "# Control Flow: Loop"
   ]
  },
  {
   "cell_type": "markdown",
   "id": "6c01be3f",
   "metadata": {},
   "source": [
    "# Reference Books"
   ]
  },
  {
   "cell_type": "markdown",
   "id": "3d58dc9f",
   "metadata": {},
   "source": [
    "- <font size=\"3\">Fundametals of First Programs 2nd edition: Chapter 3</font>\n",
    "- <font size=\"3\">Programming with Python: Module 6 and 7 </font>"
   ]
  },
  {
   "cell_type": "markdown",
   "id": "3e4aeae7",
   "metadata": {},
   "source": [
    "<font size=\"5\">**Learning Objectives**</font><br>\n",
    "<font size=\"3\">After this session, you should be able to:</font>\n",
    "- <font size=\"3\">identify loop control statement, loop counters, and test conditions</font>\n",
    "- <font size=\"3\">code a loop structure to repeat a sequence of actions </font>"
   ]
  },
  {
   "cell_type": "markdown",
   "id": "f44fff9c",
   "metadata": {},
   "source": [
    "***"
   ]
  },
  {
   "cell_type": "markdown",
   "id": "91d20158",
   "metadata": {},
   "source": [
    "# Repetition control - loops"
   ]
  },
  {
   "cell_type": "markdown",
   "id": "334908ae",
   "metadata": {},
   "source": [
    "- <font size=\"3\">You can visualise a loop as a block of code with an entry point, a few statements that <b>repeat</b>, and an exit point</font>\n",
    "- <font size=\"3\">Two basic types of repetition control structures:</font>\n",
    "    - <font size=\"3\">Condition-controlled loops: <b>while-loop</b></font>\n",
    "    - <font size=\"3\">Count-controlled loops: <b>for-loop</b></font>"
   ]
  },
  {
   "cell_type": "markdown",
   "id": "e6eaa3f0",
   "metadata": {},
   "source": [
    "## Condition-controlled loops: while-loop"
   ]
  },
  {
   "cell_type": "markdown",
   "id": "dcef1ddb",
   "metadata": {},
   "source": [
    "- <font size=\"3\">A loop regulated by <b>conditional statements</b> containing <b>Boolean expressions</b> similar to those that control decision structures</font>\n",
    "- <font size=\"3\">A loop begins with a condition (pre-test)</font>\n",
    "    - <font size=\"3\">Loop executes only if the test condition is <span style=\"color: green;\"><b>True</b></span></font>\n",
    "    - <font size=\"3\">Continues executing until the condition is <span style=\"color: green;\"><b>False</b></span> or the loop encounters a <span style=\"color: green;\"><b>break</b></span> statement</font>\n",
    "- <font size=\"3\"><b>Syntax:</b></font><br>\n",
    "&emsp;&emsp;&emsp;&emsp;<font size=\"3\"> <span style=\"color: green;\"><b>while</b></span>  condition<b>:</b><br>\n",
    "&emsp;&emsp;&emsp;&emsp;&emsp;&emsp;&nbsp;&nbsp;<font size=\"3\">sequence of statements<br>"
   ]
  },
  {
   "attachments": {
    "while-loop.png": {
     "image/png": "[encoded data removed]"
    }
   },
   "cell_type": "markdown",
   "id": "4d90ddef",
   "metadata": {},
   "source": [
    "![while-loop.png](attachment:while-loop.png)"
   ]
  },
  {
   "cell_type": "markdown",
   "id": "378eb64d",
   "metadata": {},
   "source": [
    "**while-loop example**"
   ]
  },
  {
   "cell_type": "code",
   "execution_count": 1,
   "id": "18a24106",
   "metadata": {},
   "outputs": [
    {
     "name": "stdin",
     "output_type": "stream",
     "text": [
      "Enter a number or just enter to quit:  10\n"
     ]
    },
    {
     "name": "stderr",
     "output_type": "stream",
     "text": [
      "\n",
      "KeyboardInterrupt\n",
      "\n"
     ]
    }
   ],
   "source": [
    "# Calculate the summantion of a series of positive numbers receieve by a user until the user enter nagative number\n",
    "\n",
    "# Initial the total variable value\n",
    "total = 0\n",
    "\n",
    "# Retrieve a number from a user\n",
    "number = int(input(\"Enter a number or just enter to quit: \"))\n",
    "\n",
    "# Sum all the numbers received from a user until a negative number is entered\n",
    "while number >= 0:\n",
    "    total = total+number\n",
    "   # number = int(input(\"Enter a number or just enter to quit: \"))\n",
    "\n",
    "# Display the summantion of a series of positive numbers\n",
    "print(f\"The summation is {total}\")"
   ]
  },
  {
   "cell_type": "code",
   "execution_count": 2,
   "id": "143504cb-44be-4120-b7e1-6ac09f211e32",
   "metadata": {},
   "outputs": [
    {
     "name": "stdout",
     "output_type": "stream",
     "text": [
      "1576315360\n"
     ]
    }
   ],
   "source": [
    "print(total)"
   ]
  },
  {
   "cell_type": "markdown",
   "id": "d82fffef",
   "metadata": {},
   "source": [
    "<div class=\"alert alert-block alert-danger\">\n",
    "<b>Note: Infinite loop</b> is a loop that continues forever. <br>\n",
    "    <ul>\n",
    "    <li>Typical causes can be:</li>\n",
    "    <il>\n",
    "        <ul>\n",
    "            <li>Invalid input that does not end an input loop</li>\n",
    "            <li>Input that changes the value of the loop counter</li>\n",
    "            <li>Programmer error in specifying the loop conditional statement</li>\n",
    "            <li>The value of the loop counter variable is never updated</li>\n",
    "            <li>Using the loop counter variable in a mathematical operation inside the loop</li>\n",
    "            <li>Using the same loop counter variable for the inner and outer loops of a nested loop</li>\n",
    "         </ul>\n",
    "    </il>\n",
    "    <li>Pressing stop button may terminate an infinite loop</li>\n",
    "    </ul>\n",
    "</div>"
   ]
  },
  {
   "cell_type": "markdown",
   "id": "05c69093",
   "metadata": {},
   "source": [
    "**infinite loop example: The value of the loop counter variable is never updated**"
   ]
  },
  {
   "cell_type": "code",
   "execution_count": 5,
   "id": "a3d6599c",
   "metadata": {},
   "outputs": [
    {
     "name": "stdin",
     "output_type": "stream",
     "text": [
      "Enter a number or just enter to quit:  5\n",
      "Enter a number or just enter to quit:  6\n",
      "Enter a number or just enter to quit:  7\n",
      "Enter a number or just enter to quit:  8\n",
      "Enter a number or just enter to quit:  \n"
     ]
    },
    {
     "ename": "ValueError",
     "evalue": "invalid literal for int() with base 10: ''",
     "output_type": "error",
     "traceback": [
      "\u001b[1;31m---------------------------------------------------------------------------\u001b[0m",
      "\u001b[1;31mValueError\u001b[0m                                Traceback (most recent call last)",
      "Cell \u001b[1;32mIn[5], line 10\u001b[0m\n\u001b[0;32m      8\u001b[0m \u001b[38;5;28;01mwhile\u001b[39;00m count \u001b[38;5;241m<\u001b[39m\u001b[38;5;241m=\u001b[39m \u001b[38;5;241m5\u001b[39m:\n\u001b[0;32m      9\u001b[0m     total \u001b[38;5;241m=\u001b[39m total\u001b[38;5;241m+\u001b[39mnumber\n\u001b[1;32m---> 10\u001b[0m     number \u001b[38;5;241m=\u001b[39m \u001b[38;5;28mint\u001b[39m(\u001b[38;5;28minput\u001b[39m(\u001b[38;5;124m\"\u001b[39m\u001b[38;5;124mEnter a number or just enter to quit: \u001b[39m\u001b[38;5;124m\"\u001b[39m))\n\u001b[0;32m     12\u001b[0m \u001b[38;5;28mprint\u001b[39m(\u001b[38;5;124mf\u001b[39m\u001b[38;5;124m\"\u001b[39m\u001b[38;5;124mThe summation is \u001b[39m\u001b[38;5;132;01m{\u001b[39;00mtotal\u001b[38;5;132;01m}\u001b[39;00m\u001b[38;5;124m\"\u001b[39m)\n",
      "\u001b[1;31mValueError\u001b[0m: invalid literal for int() with base 10: ''"
     ]
    }
   ],
   "source": [
    "# Calculate the summantion of five numbers receieve by a user\n",
    "\n",
    "total = 0\n",
    "count = 1\n",
    "\n",
    "number = int(input(\"Enter a number or just enter to quit: \"))\n",
    "\n",
    "while count <= 5:\n",
    "    total = total+number\n",
    "    number = int(input(\"Enter a number or just enter to quit: \"))\n",
    "\n",
    "print(f\"The summation is {total}\")"
   ]
  },
  {
   "cell_type": "markdown",
   "id": "7e29db8a",
   "metadata": {},
   "source": [
    "**infinite loop example: Using the loop counter variable in a mathematical operation inside the loop**"
   ]
  },
  {
   "cell_type": "code",
   "execution_count": 6,
   "id": "05a75b09",
   "metadata": {},
   "outputs": [
    {
     "name": "stdin",
     "output_type": "stream",
     "text": [
      "Enter a number or just enter to quit:  5\n",
      "Enter a number or just enter to quit:  7\n",
      "Enter a number or just enter to quit:  8\n",
      "Enter a number or just enter to quit:  9\n",
      "Enter a number or just enter to quit:  \n"
     ]
    },
    {
     "ename": "ValueError",
     "evalue": "invalid literal for int() with base 10: ''",
     "output_type": "error",
     "traceback": [
      "\u001b[1;31m---------------------------------------------------------------------------\u001b[0m",
      "\u001b[1;31mValueError\u001b[0m                                Traceback (most recent call last)",
      "Cell \u001b[1;32mIn[6], line 10\u001b[0m\n\u001b[0;32m      8\u001b[0m \u001b[38;5;28;01mwhile\u001b[39;00m count \u001b[38;5;241m<\u001b[39m\u001b[38;5;241m=\u001b[39m \u001b[38;5;241m5\u001b[39m:\n\u001b[0;32m      9\u001b[0m     total \u001b[38;5;241m=\u001b[39m total\u001b[38;5;241m+\u001b[39mnumber\n\u001b[1;32m---> 10\u001b[0m     number \u001b[38;5;241m=\u001b[39m \u001b[38;5;28mint\u001b[39m(\u001b[38;5;28minput\u001b[39m(\u001b[38;5;124m\"\u001b[39m\u001b[38;5;124mEnter a number or just enter to quit: \u001b[39m\u001b[38;5;124m\"\u001b[39m))\n\u001b[0;32m     11\u001b[0m     count\u001b[38;5;241m=\u001b[39mcount\u001b[38;5;241m*\u001b[39m\u001b[38;5;241m1\u001b[39m\n\u001b[0;32m     13\u001b[0m \u001b[38;5;28mprint\u001b[39m(\u001b[38;5;124mf\u001b[39m\u001b[38;5;124m\"\u001b[39m\u001b[38;5;124mThe summation is \u001b[39m\u001b[38;5;132;01m{\u001b[39;00mtotal\u001b[38;5;132;01m}\u001b[39;00m\u001b[38;5;124m\"\u001b[39m)\n",
      "\u001b[1;31mValueError\u001b[0m: invalid literal for int() with base 10: ''"
     ]
    }
   ],
   "source": [
    "# Calculate the summantion of five numbers receieve by a user\n",
    "\n",
    "total = 0\n",
    "count = 1\n",
    "\n",
    "number = int(input(\"Enter a number or just enter to quit: \"))\n",
    "\n",
    "while count <= 5:\n",
    "    total = total+number\n",
    "    number = int(input(\"Enter a number or just enter to quit: \"))\n",
    "    count=count*1\n",
    "\n",
    "print(f\"The summation is {total}\")"
   ]
  },
  {
   "cell_type": "markdown",
   "id": "883d2cce",
   "metadata": {},
   "source": [
    "## Count-controlled loops: for-loop"
   ]
  },
  {
   "cell_type": "markdown",
   "id": "39fdc0b7",
   "metadata": {},
   "source": [
    "- <font size=\"3\">Repeats a specified number of times</font>\n",
    "- <font size=\"3\">A count-controlled loop begins with a control statement containing the following parameters:</font>\n",
    "    - <font size=\"2\">A variable for the <b>loop counter</b> that tracks the number of times a loop has repeated</font>\n",
    "    - <font size=\"2\">An <b>iterative sequence</b> for the loop counter to use to control the loop.  An iterative squence is data in Python that can be linearly traced e.g., 1,2,3,4</font>\n",
    "- <font size=\"3\"><b>Syntax:</b></font><br>\n",
    "&emsp;&emsp;&emsp;&emsp;<font size=\"3\"> <span style=\"color: green;\"><b>for</b></span> item <span style=\"color: green;\"><b>in</b></span> sequence<b>:</b><br>\n",
    "&emsp;&emsp;&emsp;&emsp;&emsp;&emsp;&nbsp;&nbsp;<font size=\"3\">sequence of statements<br>\n",
    "- <font size=\"3\">In Python, we use <span style=\"color:green;\"><b>range function</b></span> for creating a numerical iterative sequence. It will create a numberical iterative sequence based on its own parameters:</font>\n",
    "    - <font size=\"2\">A staring number (optional - if the starting point is omitted, Python assumes it is 0)</font>\n",
    "    - <font size=\"2\">An ending number</font>\n",
    "    - <font size=\"2\">An incremental value; use to skip numbers in the sequence (optional - if the incremental value is omitted, Python assume it is 1)</font>\n",
    "- <font size=\"3\">For-loop is appropriate for when you know <b>how many times</b> you want a loop to repeat (i.e., the number of desired iterations (a synonym for repetition))</font>"
   ]
  },
  {
   "attachments": {
    "for-loop.png": {
     "image/png": "[encoded data removed]"
    }
   },
   "cell_type": "markdown",
   "id": "6b97ccfa",
   "metadata": {},
   "source": [
    "![for-loop.png](attachment:for-loop.png)"
   ]
  },
  {
   "cell_type": "markdown",
   "id": "b312f8d3",
   "metadata": {},
   "source": [
    "**for-loop example and range() function**"
   ]
  },
  {
   "cell_type": "code",
   "execution_count": null,
   "id": "c7ad0c8c",
   "metadata": {},
   "outputs": [],
   "source": [
    "#specify only ending number\n",
    "for i in range(10):\n",
    "    print(i)"
   ]
  },
  {
   "cell_type": "markdown",
   "id": "4388dd70",
   "metadata": {},
   "source": [
    "<div class=\"alert alert-block alert-info\">\n",
    "<b>Tip:</b> The specified ending number is never included in the resulting sequence. \n",
    "</div>"
   ]
  },
  {
   "cell_type": "code",
   "execution_count": 3,
   "id": "1aa8a283",
   "metadata": {},
   "outputs": [
    {
     "name": "stdout",
     "output_type": "stream",
     "text": [
      "1\n",
      "2\n",
      "3\n",
      "4\n",
      "5\n",
      "6\n",
      "7\n",
      "8\n",
      "9\n"
     ]
    }
   ],
   "source": [
    "#specify starting and ending number\n",
    "for i in range(1,10):\n",
    "    print(i)"
   ]
  },
  {
   "cell_type": "code",
   "execution_count": 4,
   "id": "3a659e01",
   "metadata": {},
   "outputs": [
    {
     "name": "stdout",
     "output_type": "stream",
     "text": [
      "1\n",
      "3\n",
      "5\n",
      "7\n",
      "9\n"
     ]
    }
   ],
   "source": [
    "#specify starting number, ending number, and an incremental value\n",
    "for i in range(1,10,2):\n",
    "    print(i)"
   ]
  },
  {
   "cell_type": "markdown",
   "id": "37b24548",
   "metadata": {},
   "source": [
    "**for-loop example: Finding even numbers from a sequnece of number.**<br>\n",
    "<ul>\n",
    "    <li>A number that is divisible by 2 and generates a remainder of 0 is called an even number.</li>\n",
    "    <li>Use the modulo (%) operator to check if there's a remainder of dividing two numbers.</li>\n",
    "</ul>"
   ]
  },
  {
   "cell_type": "code",
   "execution_count": 7,
   "id": "471f2b50",
   "metadata": {},
   "outputs": [
    {
     "name": "stdout",
     "output_type": "stream",
     "text": [
      "The even number in the range of 1-2: 2\n",
      "The even number in the range of 2-4: 4\n",
      "The even number in the range of 4-6: 6\n",
      "The even number in the range of 6-8: 8\n",
      "The even number in the range of 8-10: 10\n",
      "The even number in the range of 10-12: 12\n",
      "The even number in the range of 12-14: 14\n",
      "The even number in the range of 14-16: 16\n",
      "The even number in the range of 16-18: 18\n",
      "The even number in the range of 18-20: 20\n",
      "The even number in the range of 20-22: 22\n",
      "The even number in the range of 22-24: 24\n",
      "The even number in the range of 24-26: 26\n",
      "The even number in the range of 26-28: 28\n",
      "The even number in the range of 28-30: 30\n"
     ]
    }
   ],
   "source": [
    "# Program to find an even number from a range of number\n",
    "j=1\n",
    "for i in range(1,31):\n",
    "    if (i%2 == 0):\n",
    "        print(f\"The even number in the range of {j}-{i}: {i}\")\n",
    "        j=i"
   ]
  },
  {
   "cell_type": "markdown",
   "id": "3dd03806",
   "metadata": {},
   "source": [
    "**for-loop example: Display a language from the languages list**"
   ]
  },
  {
   "cell_type": "code",
   "execution_count": 6,
   "id": "88124c39",
   "metadata": {},
   "outputs": [
    {
     "name": "stdout",
     "output_type": "stream",
     "text": [
      "Language: Spanish\n",
      "Language: English\n",
      "Language: French\n",
      "Language: German\n",
      "Language: Irish\n",
      "Language: Chinese\n"
     ]
    }
   ],
   "source": [
    "#Program to display a language from the languages list\n",
    "\n",
    "languages = ['Spanish', 'English',  'French', 'German', 'Irish', 'Chinese']\n",
    "\n",
    "for item in languages:\n",
    "    print(f\"Language: {item}\")"
   ]
  },
  {
   "cell_type": "markdown",
   "id": "da1f2362",
   "metadata": {},
   "source": [
    "---"
   ]
  },
  {
   "cell_type": "markdown",
   "id": "09f92a15",
   "metadata": {},
   "source": [
    "## Summary"
   ]
  },
  {
   "cell_type": "markdown",
   "id": "151819b3",
   "metadata": {},
   "source": [
    "- <font size=\"3\">While is a conditional iteration that executing a set of statements while a condition is true</font>\n",
    "- <font size=\"3\">For is a definite iteration that executing set of statements fixed, predictable number of times</font>"
   ]
  },
  {
   "cell_type": "markdown",
   "id": "e36a9b97",
   "metadata": {},
   "source": [
    "---"
   ]
  }
 ],
 "metadata": {
  "kernelspec": {
   "display_name": "Python 3 (ipykernel)",
   "language": "python",
   "name": "python3"
  },
  "language_info": {
   "codemirror_mode": {
    "name": "ipython",
    "version": 3
   },
   "file_extension": ".py",
   "mimetype": "text/x-python",
   "name": "python",
   "nbconvert_exporter": "python",
   "pygments_lexer": "ipython3",
   "version": "3.11.9"
  }
 },
 "nbformat": 4,
 "nbformat_minor": 5
}
