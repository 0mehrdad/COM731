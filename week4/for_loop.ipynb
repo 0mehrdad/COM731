{
 "cells": [
  {
   "cell_type": "markdown",
   "id": "77751c4f-e8a0-4d3f-940c-3575b12919f1",
   "metadata": {},
   "source": [
    "## count_down"
   ]
  },
  {
   "cell_type": "code",
   "execution_count": 5,
   "id": "cf1ee9a3-3a14-4091-b3be-ed878dba0017",
   "metadata": {},
   "outputs": [
    {
     "name": "stdin",
     "output_type": "stream",
     "text": [
      "How far are we from the cave?:  8\n"
     ]
    },
    {
     "name": "stdout",
     "output_type": "stream",
     "text": [
      "8 steps remaining\n",
      "7 steps remaining\n",
      "6 steps remaining\n",
      "5 steps remaining\n",
      "4 steps remaining\n",
      "3 steps remaining\n",
      "2 steps remaining\n",
      "1 steps remaining\n",
      "We have reached the cave!\n"
     ]
    }
   ],
   "source": [
    "i = int(input(\"How far are we from the cave?: \"))\n",
    "for j in range(i,0,-1):\n",
    "    print(f\"{j} steps remaining\")\n",
    "print(\"We have reached the cave!\")"
   ]
  },
  {
   "cell_type": "code",
   "execution_count": null,
   "id": "3411c11d-bc87-47fa-a6eb-0bc5a8e15f4b",
   "metadata": {},
   "outputs": [],
   "source": []
  }
 ],
 "metadata": {
  "kernelspec": {
   "display_name": "COM731",
   "language": "python",
   "name": "com731"
  },
  "language_info": {
   "codemirror_mode": {
    "name": "ipython",
    "version": 3
   },
   "file_extension": ".py",
   "mimetype": "text/x-python",
   "name": "python",
   "nbconvert_exporter": "python",
   "pygments_lexer": "ipython3",
   "version": "3.10.14"
  }
 },
 "nbformat": 4,
 "nbformat_minor": 5
}
