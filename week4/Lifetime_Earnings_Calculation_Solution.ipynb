{
 "cells": [
  {
   "cell_type": "markdown",
   "id": "b383e2c0",
   "metadata": {},
   "source": [
    "# Lifetime Earnings Calculation"
   ]
  },
  {
   "cell_type": "markdown",
   "id": "3a2520ba",
   "metadata": {},
   "source": [
    "- <font size=3>Understand the problem</font>\n",
    "    - <font size=3>input: name, age, starting salary</font>\n",
    "    - <font size=3>relevant data: a 5% annual raise of salary, total year of work, retire age</font>\n",
    "- <font size=3>Design your plan:</font>\n",
    "    - <font size=3> Prompt the user to input the worker's name, age, and starting annual salary</font>\n",
    "    - <font size=3> Use a loop to iterate through each year of the worker's career</font>\n",
    "        - <font size=3> Calculate the annual salary considering the 5% raise</font>\n",
    "        - <font size=3> Accumulate the total earnings until the worker reaches the age of 65</font>\n",
    "    - <font size=3> Display the worker's name, age, starting annual salary, and the calculated lifetime earnings</font>\n",
    "- <font size=3>Implement your plan</font>\n",
    "- <font size=3>Test and Verify</font>"
   ]
  },
  {
   "cell_type": "markdown",
   "id": "846a4db3",
   "metadata": {},
   "source": [
    "# Solution 1"
   ]
  },
  {
   "cell_type": "code",
   "execution_count": null,
   "id": "0ae6b782",
   "metadata": {},
   "outputs": [],
   "source": [
    "#define the retire age at 65\n",
    "retire_age = 65\n",
    "\n",
    "#initial total earning as 0\n",
    "total_earning = 0\n",
    "\n",
    "#Prompt the user to input the worker's name, age, and starting salary\n",
    "name = input(\"Enter your name: \")\n",
    "age = int(input(\"Enter your age when you started working: \"))\n",
    "salary = float(input(\"Enter your starting annual salary (£): \"))\n",
    "\n",
    "#Determine the number of years a person need to work from the starting age\n",
    "year_to_work = retire_age - age\n",
    "\n",
    "# The earning will be accumulated from the previous salary \n",
    "#together with the extra money from the raise\n",
    "for i in range(0,year_to_work):\n",
    "    if i == 0:\n",
    "        total_earning = total_earning + salary\n",
    "        print(total_earning)\n",
    "    else:\n",
    "        salary = salary+(salary*0.05)\n",
    "        total_earning = total_earning + salary\n",
    "        print(total_earning)\n",
    "\n",
    "#Display the worker's name, age, starting salary, and total earnings\n",
    "print(f\"{name} will earn about £{total_earning:,.2f}\")"
   ]
  },
  {
   "cell_type": "markdown",
   "id": "89d89e31",
   "metadata": {},
   "source": [
    "# Solution 2"
   ]
  },
  {
   "cell_type": "code",
   "execution_count": null,
   "id": "4577aa61",
   "metadata": {},
   "outputs": [],
   "source": [
    "#define the retire age at 65\n",
    "retire_age = 65\n",
    "\n",
    "#initial total earning as 0\n",
    "total_earning = 0\n",
    "\n",
    "#Prompt the user to input the worker's name, age, and starting salary\n",
    "name = input(\"Enter your name: \")\n",
    "age = int(input(\"Enter your age when you started working: \"))\n",
    "salary = float(input(\"Enter your starting annual salary (£): \"))\n",
    "\n",
    "total_earning = salary\n",
    "\n",
    "# The earning will be accumulated from the previous salary \n",
    "#together with the extra money from the raise\n",
    "for i in range(age+1,retire_age):\n",
    "    salary = salary+(salary*0.05)\n",
    "    total_earning = total_earning + salary\n",
    "\n",
    "#Display the worker's name, age, starting salary, and total earnings\n",
    "print(f\"{name} will earn about £{total_earning:,.2f}\")"
   ]
  }
 ],
 "metadata": {
  "kernelspec": {
   "display_name": "Python 3 (ipykernel)",
   "language": "python",
   "name": "python3"
  },
  "language_info": {
   "codemirror_mode": {
    "name": "ipython",
    "version": 3
   },
   "file_extension": ".py",
   "mimetype": "text/x-python",
   "name": "python",
   "nbconvert_exporter": "python",
   "pygments_lexer": "ipython3",
   "version": "3.11.5"
  }
 },
 "nbformat": 4,
 "nbformat_minor": 5
}
